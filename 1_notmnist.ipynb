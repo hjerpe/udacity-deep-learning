{
 "cells": [
  {
   "cell_type": "markdown",
   "metadata": {
    "colab_type": "text",
    "id": "5hIbr52I7Z7U"
   },
   "source": [
    "Deep Learning\n",
    "=============\n",
    "\n",
    "Assignment 1\n",
    "------------\n",
    "\n",
    "The objective of this assignment is to learn about simple data curation practices, and familiarize you with some of the data we'll be reusing later.\n",
    "\n",
    "This notebook uses the [notMNIST](http://yaroslavvb.blogspot.com/2011/09/notmnist-dataset.html) dataset to be used with python experiments. This dataset is designed to look like the classic [MNIST](http://yann.lecun.com/exdb/mnist/) dataset, while looking a little more like real data: it's a harder task, and the data is a lot less 'clean' than MNIST."
   ]
  },
  {
   "cell_type": "code",
   "execution_count": 1,
   "metadata": {
    "cellView": "both",
    "colab": {
     "autoexec": {
      "startup": false,
      "wait_interval": 0
     }
    },
    "colab_type": "code",
    "collapsed": true,
    "id": "apJbCsBHl-2A"
   },
   "outputs": [],
   "source": [
    "# These are all the modules we'll be using later. Make sure you can import them\n",
    "# before proceeding further.\n",
    "from __future__ import print_function\n",
    "import imageio\n",
    "import matplotlib.pyplot as plt\n",
    "import numpy as np\n",
    "import os\n",
    "import sys\n",
    "import tarfile\n",
    "from IPython.display import display, Image\n",
    "from sklearn.linear_model import LogisticRegression\n",
    "from six.moves.urllib.request import urlretrieve\n",
    "from six.moves import cPickle as pickle\n",
    "\n",
    "# Config the matplotlib backend as plotting inline in IPython\n",
    "%matplotlib inline"
   ]
  },
  {
   "cell_type": "markdown",
   "metadata": {
    "colab_type": "text",
    "id": "jNWGtZaXn-5j"
   },
   "source": [
    "First, we'll download the dataset to our local machine. The data consists of characters rendered in a variety of fonts on a 28x28 image. The labels are limited to 'A' through 'J' (10 classes). The training set has about 500k and the testset 19000 labeled examples. Given these sizes, it should be possible to train models quickly on any machine."
   ]
  },
  {
   "cell_type": "code",
   "execution_count": 2,
   "metadata": {
    "cellView": "both",
    "colab": {
     "autoexec": {
      "startup": false,
      "wait_interval": 0
     },
     "output_extras": [
      {
       "item_id": 1
      }
     ]
    },
    "colab_type": "code",
    "executionInfo": {
     "elapsed": 186058,
     "status": "ok",
     "timestamp": 1444485672507,
     "user": {
      "color": "#1FA15D",
      "displayName": "Vincent Vanhoucke",
      "isAnonymous": false,
      "isMe": true,
      "permissionId": "05076109866853157986",
      "photoUrl": "//lh6.googleusercontent.com/-cCJa7dTDcgQ/AAAAAAAAAAI/AAAAAAAACgw/r2EZ_8oYer4/s50-c-k-no/photo.jpg",
      "sessionId": "2a0a5e044bb03b66",
      "userId": "102167687554210253930"
     },
     "user_tz": 420
    },
    "id": "EYRJ4ICW6-da",
    "outputId": "0d0f85df-155f-4a89-8e7e-ee32df36ec8d"
   },
   "outputs": [
    {
     "name": "stdout",
     "output_type": "stream",
     "text": [
      "Found and verified Data\\notMNIST_large.tar.gz\n",
      "Found and verified Data\\notMNIST_small.tar.gz\n"
     ]
    }
   ],
   "source": [
    "url = 'https://commondatastorage.googleapis.com/books1000/'\n",
    "last_percent_reported = None\n",
    "data_root = 'Data' # Change me to store data elsewhere\n",
    "\n",
    "def download_progress_hook(count, blockSize, totalSize):\n",
    "  \"\"\"A hook to report the progress of a download. This is mostly intended for users with\n",
    "  slow internet connections. Reports every 5% change in download progress.\n",
    "  \"\"\"\n",
    "  global last_percent_reported\n",
    "  percent = int(count * blockSize * 100 / totalSize)\n",
    "\n",
    "  if last_percent_reported != percent:\n",
    "    if percent % 5 == 0:\n",
    "      sys.stdout.write(\"%s%%\" % percent)\n",
    "      sys.stdout.flush()\n",
    "    else:\n",
    "      sys.stdout.write(\".\")\n",
    "      sys.stdout.flush()\n",
    "      \n",
    "    last_percent_reported = percent\n",
    "        \n",
    "def maybe_download(filename, expected_bytes, force=False):\n",
    "  \"\"\"Download a file if not present, and make sure it's the right size.\"\"\"\n",
    "  dest_filename = os.path.join(data_root, filename)\n",
    "  if force or not os.path.exists(dest_filename):\n",
    "    print('Attempting to download:', filename) \n",
    "    filename, _ = urlretrieve(url + filename, dest_filename, reporthook=download_progress_hook)\n",
    "    print('\\nDownload Complete!')\n",
    "  statinfo = os.stat(dest_filename)\n",
    "  if statinfo.st_size == expected_bytes:\n",
    "    print('Found and verified', dest_filename)\n",
    "  else:\n",
    "    raise Exception(\n",
    "      'Failed to verify ' + dest_filename + '. Can you get to it with a browser?')\n",
    "  return dest_filename\n",
    "\n",
    "train_filename = maybe_download('notMNIST_large.tar.gz', 247336696)\n",
    "test_filename = maybe_download('notMNIST_small.tar.gz', 8458043)"
   ]
  },
  {
   "cell_type": "markdown",
   "metadata": {
    "colab_type": "text",
    "id": "cC3p0oEyF8QT"
   },
   "source": [
    "Extract the dataset from the compressed .tar.gz file.\n",
    "This should give you a set of directories, labeled A through J."
   ]
  },
  {
   "cell_type": "code",
   "execution_count": 3,
   "metadata": {
    "cellView": "both",
    "colab": {
     "autoexec": {
      "startup": false,
      "wait_interval": 0
     },
     "output_extras": [
      {
       "item_id": 1
      }
     ]
    },
    "colab_type": "code",
    "executionInfo": {
     "elapsed": 186055,
     "status": "ok",
     "timestamp": 1444485672525,
     "user": {
      "color": "#1FA15D",
      "displayName": "Vincent Vanhoucke",
      "isAnonymous": false,
      "isMe": true,
      "permissionId": "05076109866853157986",
      "photoUrl": "//lh6.googleusercontent.com/-cCJa7dTDcgQ/AAAAAAAAAAI/AAAAAAAACgw/r2EZ_8oYer4/s50-c-k-no/photo.jpg",
      "sessionId": "2a0a5e044bb03b66",
      "userId": "102167687554210253930"
     },
     "user_tz": 420
    },
    "id": "H8CBE-WZ8nmj",
    "outputId": "ef6c790c-2513-4b09-962e-27c79390c762"
   },
   "outputs": [
    {
     "name": "stdout",
     "output_type": "stream",
     "text": [
      "Data\\notMNIST_large already present - Skipping extraction of Data\\notMNIST_large.tar.gz.\n",
      "['Data\\\\notMNIST_large\\\\A', 'Data\\\\notMNIST_large\\\\B', 'Data\\\\notMNIST_large\\\\C', 'Data\\\\notMNIST_large\\\\D', 'Data\\\\notMNIST_large\\\\E', 'Data\\\\notMNIST_large\\\\F', 'Data\\\\notMNIST_large\\\\G', 'Data\\\\notMNIST_large\\\\H', 'Data\\\\notMNIST_large\\\\I', 'Data\\\\notMNIST_large\\\\J']\n",
      "Data\\notMNIST_small already present - Skipping extraction of Data\\notMNIST_small.tar.gz.\n",
      "['Data\\\\notMNIST_small\\\\A', 'Data\\\\notMNIST_small\\\\B', 'Data\\\\notMNIST_small\\\\C', 'Data\\\\notMNIST_small\\\\D', 'Data\\\\notMNIST_small\\\\E', 'Data\\\\notMNIST_small\\\\F', 'Data\\\\notMNIST_small\\\\G', 'Data\\\\notMNIST_small\\\\H', 'Data\\\\notMNIST_small\\\\I', 'Data\\\\notMNIST_small\\\\J']\n"
     ]
    }
   ],
   "source": [
    "num_classes = 10\n",
    "np.random.seed(133)\n",
    "\n",
    "def maybe_extract(filename, force=False):\n",
    "  root = os.path.splitext(os.path.splitext(filename)[0])[0]  # remove .tar.gz\n",
    "  if os.path.isdir(root) and not force:\n",
    "    # You may override by setting force=True.\n",
    "    print('%s already present - Skipping extraction of %s.' % (root, filename))\n",
    "  else:\n",
    "    print('Extracting data for %s. This may take a while. Please wait.' % root)\n",
    "    tar = tarfile.open(filename)\n",
    "    sys.stdout.flush()\n",
    "    tar.extractall(data_root)\n",
    "    tar.close()\n",
    "  data_folders = [\n",
    "    os.path.join(root, d) for d in sorted(os.listdir(root))\n",
    "    if os.path.isdir(os.path.join(root, d))]\n",
    "  if len(data_folders) != num_classes:\n",
    "    raise Exception(\n",
    "      'Expected %d folders, one per class. Found %d instead.' % (\n",
    "        num_classes, len(data_folders)))\n",
    "  print(data_folders)\n",
    "  return data_folders\n",
    "  \n",
    "train_folders = maybe_extract(train_filename)\n",
    "test_folders = maybe_extract(test_filename)"
   ]
  },
  {
   "cell_type": "markdown",
   "metadata": {
    "colab_type": "text",
    "id": "4riXK3IoHgx6"
   },
   "source": [
    "---\n",
    "Problem 1\n",
    "---------\n",
    "\n",
    "Let's take a peek at some of the data to make sure it looks sensible. Each exemplar should be an image of a character A through J rendered in a different font. Display a sample of the images that we just downloaded. Hint: you can use the package IPython.display.\n",
    "\n",
    "---"
   ]
  },
  {
   "cell_type": "code",
   "execution_count": 4,
   "metadata": {},
   "outputs": [
    {
     "data": {
      "image/png": "[encoded data removed]",
      "text/plain": [
       "<IPython.core.display.Image object>"
      ]
     },
     "metadata": {},
     "output_type": "display_data"
    },
    {
     "data": {
      "image/png": "[encoded data removed]",
      "text/plain": [
       "<IPython.core.display.Image object>"
      ]
     },
     "metadata": {},
     "output_type": "display_data"
    }
   ],
   "source": [
    "from IPython.display import Image\n",
    "\n",
    "dir_letter_a = train_folders[0]\n",
    "filenames_letter_a = os.listdir(dir_letter_a)\n",
    "\n",
    "filename_1 = os.path.join(dir_letter_a, filenames_letter_a[0])\n",
    "image_1 = Image(filename=filename_1)\n",
    "\n",
    "filenames_letter_b = os.listdir(train_folders[1])\n",
    "image_2 = Image(filename=os.path.join(train_folders[1], filenames_letter_b[0]))\n",
    "\n",
    "display(image_1)\n",
    "display(image_2)"
   ]
  },
  {
   "cell_type": "markdown",
   "metadata": {
    "colab_type": "text",
    "id": "PBdkjESPK8tw"
   },
   "source": [
    "Now let's load the data in a more manageable format. Since, depending on your computer setup you might not be able to fit it all in memory, we'll load each class into a separate dataset, store them on disk and curate them independently. Later we'll merge them into a single dataset of manageable size.\n",
    "\n",
    "We'll convert the entire dataset into a 3D array (image index, x, y) of floating point values, normalized to have approximately zero mean and standard deviation ~0.5 to make training easier down the road. \n",
    "\n",
    "A few images might not be readable, we'll just skip them."
   ]
  },
  {
   "cell_type": "code",
   "execution_count": 5,
   "metadata": {
    "cellView": "both",
    "colab": {
     "autoexec": {
      "startup": false,
      "wait_interval": 0
     },
     "output_extras": [
      {
       "item_id": 30
      }
     ]
    },
    "colab_type": "code",
    "executionInfo": {
     "elapsed": 399874,
     "status": "ok",
     "timestamp": 1444485886378,
     "user": {
      "color": "#1FA15D",
      "displayName": "Vincent Vanhoucke",
      "isAnonymous": false,
      "isMe": true,
      "permissionId": "05076109866853157986",
      "photoUrl": "//lh6.googleusercontent.com/-cCJa7dTDcgQ/AAAAAAAAAAI/AAAAAAAACgw/r2EZ_8oYer4/s50-c-k-no/photo.jpg",
      "sessionId": "2a0a5e044bb03b66",
      "userId": "102167687554210253930"
     },
     "user_tz": 420
    },
    "id": "h7q0XhG3MJdf",
    "outputId": "92c391bb-86ff-431d-9ada-315568a19e59"
   },
   "outputs": [
    {
     "name": "stdout",
     "output_type": "stream",
     "text": [
      "Data\\notMNIST_large\\A.pickle already present - Skipping pickling.\n",
      "Data\\notMNIST_large\\B.pickle already present - Skipping pickling.\n",
      "Data\\notMNIST_large\\C.pickle already present - Skipping pickling.\n",
      "Data\\notMNIST_large\\D.pickle already present - Skipping pickling.\n",
      "Data\\notMNIST_large\\E.pickle already present - Skipping pickling.\n",
      "Data\\notMNIST_large\\F.pickle already present - Skipping pickling.\n",
      "Data\\notMNIST_large\\G.pickle already present - Skipping pickling.\n",
      "Data\\notMNIST_large\\H.pickle already present - Skipping pickling.\n",
      "Data\\notMNIST_large\\I.pickle already present - Skipping pickling.\n",
      "Data\\notMNIST_large\\J.pickle already present - Skipping pickling.\n",
      "Data\\notMNIST_small\\A.pickle already present - Skipping pickling.\n",
      "Data\\notMNIST_small\\B.pickle already present - Skipping pickling.\n",
      "Data\\notMNIST_small\\C.pickle already present - Skipping pickling.\n",
      "Data\\notMNIST_small\\D.pickle already present - Skipping pickling.\n",
      "Data\\notMNIST_small\\E.pickle already present - Skipping pickling.\n",
      "Data\\notMNIST_small\\F.pickle already present - Skipping pickling.\n",
      "Data\\notMNIST_small\\G.pickle already present - Skipping pickling.\n",
      "Data\\notMNIST_small\\H.pickle already present - Skipping pickling.\n",
      "Data\\notMNIST_small\\I.pickle already present - Skipping pickling.\n",
      "Data\\notMNIST_small\\J.pickle already present - Skipping pickling.\n"
     ]
    }
   ],
   "source": [
    "image_size = 28  # Pixel width and height.\n",
    "pixel_depth = 255.0  # Number of levels per pixel.\n",
    "\n",
    "def load_letter(folder, min_num_images):\n",
    "  \"\"\"Load the data for a single letter label.\"\"\"\n",
    "  image_files = os.listdir(folder)\n",
    "  dataset = np.ndarray(shape=(len(image_files), image_size, image_size),\n",
    "                         dtype=np.float32)\n",
    "  print(folder)\n",
    "  num_images = 0\n",
    "  for image in image_files:\n",
    "    image_file = os.path.join(folder, image)\n",
    "    try:\n",
    "      image_data = (imageio.imread(image_file).astype(float) - \n",
    "                    pixel_depth / 2) / pixel_depth\n",
    "      if image_data.shape != (image_size, image_size):\n",
    "        raise Exception('Unexpected image shape: %s' % str(image_data.shape))\n",
    "      dataset[num_images, :, :] = image_data\n",
    "      num_images = num_images + 1\n",
    "    except (IOError, ValueError) as e:\n",
    "      print('Could not read:', image_file, ':', e, '- it\\'s ok, skipping.')\n",
    "    \n",
    "  dataset = dataset[0:num_images, :, :]\n",
    "  if num_images < min_num_images:\n",
    "    raise Exception('Many fewer images than expected: %d < %d' %\n",
    "                    (num_images, min_num_images))\n",
    "    \n",
    "  print('Full dataset tensor:', dataset.shape)\n",
    "  print('Mean:', np.mean(dataset))\n",
    "  print('Standard deviation:', np.std(dataset))\n",
    "  return dataset\n",
    "        \n",
    "def maybe_pickle(data_folders, min_num_images_per_class, force=False):\n",
    "  dataset_names = []\n",
    "  for folder in data_folders:\n",
    "    set_filename = folder + '.pickle'\n",
    "    dataset_names.append(set_filename)\n",
    "    if os.path.exists(set_filename) and not force:\n",
    "      # You may override by setting force=True.\n",
    "      print('%s already present - Skipping pickling.' % set_filename)\n",
    "    else:\n",
    "      print('Pickling %s.' % set_filename)\n",
    "      dataset = load_letter(folder, min_num_images_per_class)\n",
    "      try:\n",
    "        with open(set_filename, 'wb') as f:\n",
    "          pickle.dump(dataset, f, pickle.HIGHEST_PROTOCOL)\n",
    "      except Exception as e:\n",
    "        print('Unable to save data to', set_filename, ':', e)\n",
    "  \n",
    "  return dataset_names\n",
    "\n",
    "train_datasets = maybe_pickle(train_folders, 45000)\n",
    "test_datasets = maybe_pickle(test_folders, 1800)"
   ]
  },
  {
   "cell_type": "markdown",
   "metadata": {
    "colab_type": "text",
    "id": "vUdbskYE2d87"
   },
   "source": [
    "---\n",
    "Problem 2\n",
    "---------\n",
    "\n",
    "Let's verify that the data still looks good. Displaying a sample of the labels and images from the ndarray. Hint: you can use matplotlib.pyplot.\n",
    "\n",
    "---"
   ]
  },
  {
   "cell_type": "code",
   "execution_count": 6,
   "metadata": {},
   "outputs": [
    {
     "name": "stdout",
     "output_type": "stream",
     "text": [
      "(52909, 28, 28)\n"
     ]
    },
    {
     "data": {
      "text/plain": [
       "<matplotlib.image.AxesImage at 0x20db450ca20>"
      ]
     },
     "execution_count": 6,
     "metadata": {},
     "output_type": "execute_result"
    },
    {
     "data": {
      "image/png": "[encoded data removed]",
      "text/plain": [
       "<matplotlib.figure.Figure at 0x20db2828b70>"
      ]
     },
     "metadata": {},
     "output_type": "display_data"
    },
    {
     "data": {
      "image/png": "[encoded data removed]",
      "text/plain": [
       "<matplotlib.figure.Figure at 0x20db2828978>"
      ]
     },
     "metadata": {},
     "output_type": "display_data"
    }
   ],
   "source": [
    "train_datasets[0]\n",
    "train_data = pickle.load(file=open(train_datasets[0], 'rb'))\n",
    "print(train_data.shape)\n",
    "plt.matshow(train_data[1, :, :])\n",
    "plt.matshow(train_data[25000, :, :])"
   ]
  },
  {
   "cell_type": "markdown",
   "metadata": {
    "colab_type": "text",
    "id": "cYznx5jUwzoO"
   },
   "source": [
    "---\n",
    "Problem 3\n",
    "---------\n",
    "Another check: we expect the data to be balanced across classes. Verify that.\n",
    "\n",
    "---"
   ]
  },
  {
   "cell_type": "code",
   "execution_count": 7,
   "metadata": {},
   "outputs": [
    {
     "name": "stdout",
     "output_type": "stream",
     "text": [
      "max imbalance between classes is: 3\n"
     ]
    }
   ],
   "source": [
    "train_datasets\n",
    "\n",
    "def max_imbalance_between_classes(train_datasets):\n",
    "    min_num_images = 2**32\n",
    "    max_num_images = 0\n",
    "    for image_ind in range(len(train_datasets)):\n",
    "        temp_min = pickle.load(open(train_datasets[image_ind], 'rb')).shape[0]\n",
    "        temp_max = temp_min\n",
    "        if temp_min < min_num_images:\n",
    "            min_num_images = temp_min\n",
    "        if temp_max > max_num_images:\n",
    "            max_num_images = temp_max\n",
    "    return max_num_images - min_num_images\n",
    "\n",
    "            \n",
    "print(\"max imbalance between classes is: {}\".format(max_imbalance_between_classes(train_datasets)))\n"
   ]
  },
  {
   "cell_type": "markdown",
   "metadata": {
    "colab_type": "text",
    "id": "LA7M7K22ynCt"
   },
   "source": [
    "Merge and prune the training data as needed. Depending on your computer setup, you might not be able to fit it all in memory, and you can tune `train_size` as needed. The labels will be stored into a separate array of integers 0 through 9.\n",
    "\n",
    "Also create a validation dataset for hyperparameter tuning."
   ]
  },
  {
   "cell_type": "code",
   "execution_count": 8,
   "metadata": {
    "cellView": "both",
    "colab": {
     "autoexec": {
      "startup": false,
      "wait_interval": 0
     },
     "output_extras": [
      {
       "item_id": 1
      }
     ]
    },
    "colab_type": "code",
    "executionInfo": {
     "elapsed": 411281,
     "status": "ok",
     "timestamp": 1444485897869,
     "user": {
      "color": "#1FA15D",
      "displayName": "Vincent Vanhoucke",
      "isAnonymous": false,
      "isMe": true,
      "permissionId": "05076109866853157986",
      "photoUrl": "//lh6.googleusercontent.com/-cCJa7dTDcgQ/AAAAAAAAAAI/AAAAAAAACgw/r2EZ_8oYer4/s50-c-k-no/photo.jpg",
      "sessionId": "2a0a5e044bb03b66",
      "userId": "102167687554210253930"
     },
     "user_tz": 420
    },
    "id": "s3mWgZLpyuzq",
    "outputId": "8af66da6-902d-4719-bedc-7c9fb7ae7948"
   },
   "outputs": [
    {
     "name": "stdout",
     "output_type": "stream",
     "text": [
      "Training: (200000, 28, 28) (200000,)\n",
      "Validation: (10000, 28, 28) (10000,)\n",
      "Testing: (10000, 28, 28) (10000,)\n"
     ]
    }
   ],
   "source": [
    "def make_arrays(nb_rows, img_size):\n",
    "  if nb_rows:\n",
    "    dataset = np.ndarray((nb_rows, img_size, img_size), dtype=np.float32)\n",
    "    labels = np.ndarray(nb_rows, dtype=np.int32)\n",
    "  else:\n",
    "    dataset, labels = None, None\n",
    "  return dataset, labels\n",
    "\n",
    "def merge_datasets(pickle_files, train_size, valid_size=0):\n",
    "  num_classes = len(pickle_files)\n",
    "  valid_dataset, valid_labels = make_arrays(valid_size, image_size)\n",
    "  train_dataset, train_labels = make_arrays(train_size, image_size)\n",
    "  vsize_per_class = valid_size // num_classes\n",
    "  tsize_per_class = train_size // num_classes\n",
    "    \n",
    "  start_v, start_t = 0, 0\n",
    "  end_v, end_t = vsize_per_class, tsize_per_class\n",
    "  end_l = vsize_per_class+tsize_per_class\n",
    "  for label, pickle_file in enumerate(pickle_files):       \n",
    "    try:\n",
    "      with open(pickle_file, 'rb') as f:\n",
    "        letter_set = pickle.load(f)\n",
    "        # let's shuffle the letters to have random validation and training set\n",
    "        np.random.shuffle(letter_set)\n",
    "        if valid_dataset is not None:\n",
    "          valid_letter = letter_set[:vsize_per_class, :, :]\n",
    "          valid_dataset[start_v:end_v, :, :] = valid_letter\n",
    "          valid_labels[start_v:end_v] = label\n",
    "          start_v += vsize_per_class\n",
    "          end_v += vsize_per_class\n",
    "                    \n",
    "        train_letter = letter_set[vsize_per_class:end_l, :, :]\n",
    "        train_dataset[start_t:end_t, :, :] = train_letter\n",
    "        train_labels[start_t:end_t] = label\n",
    "        start_t += tsize_per_class\n",
    "        end_t += tsize_per_class\n",
    "    except Exception as e:\n",
    "      print('Unable to process data from', pickle_file, ':', e)\n",
    "      raise\n",
    "    \n",
    "  return valid_dataset, valid_labels, train_dataset, train_labels\n",
    "            \n",
    "            \n",
    "train_size = 200000\n",
    "valid_size = 10000\n",
    "test_size = 10000\n",
    "\n",
    "valid_dataset, valid_labels, train_dataset, train_labels = merge_datasets(\n",
    "  train_datasets, train_size, valid_size)\n",
    "_, _, test_dataset, test_labels = merge_datasets(test_datasets, test_size)\n",
    "\n",
    "print('Training:', train_dataset.shape, train_labels.shape)\n",
    "print('Validation:', valid_dataset.shape, valid_labels.shape)\n",
    "print('Testing:', test_dataset.shape, test_labels.shape)"
   ]
  },
  {
   "cell_type": "markdown",
   "metadata": {
    "colab_type": "text",
    "id": "GPTCnjIcyuKN"
   },
   "source": [
    "Next, we'll randomize the data. It's important to have the labels well shuffled for the training and test distributions to match."
   ]
  },
  {
   "cell_type": "code",
   "execution_count": 9,
   "metadata": {
    "cellView": "both",
    "colab": {
     "autoexec": {
      "startup": false,
      "wait_interval": 0
     }
    },
    "colab_type": "code",
    "collapsed": true,
    "id": "6WZ2l2tN2zOL"
   },
   "outputs": [],
   "source": [
    "def randomize(dataset, labels):\n",
    "  permutation = np.random.permutation(labels.shape[0])\n",
    "  shuffled_dataset = dataset[permutation,:,:]\n",
    "  shuffled_labels = labels[permutation]\n",
    "  return shuffled_dataset, shuffled_labels\n",
    "train_dataset, train_labels = randomize(train_dataset, train_labels)\n",
    "test_dataset, test_labels = randomize(test_dataset, test_labels)\n",
    "valid_dataset, valid_labels = randomize(valid_dataset, valid_labels)"
   ]
  },
  {
   "cell_type": "markdown",
   "metadata": {
    "colab_type": "text",
    "id": "puDUTe6t6USl"
   },
   "source": [
    "---\n",
    "Problem 4\n",
    "---------\n",
    "Convince yourself that the data is still good after shuffling!\n",
    "\n",
    "---"
   ]
  },
  {
   "cell_type": "code",
   "execution_count": 10,
   "metadata": {},
   "outputs": [
    {
     "name": "stdout",
     "output_type": "stream",
     "text": [
      "max imbalance between classes is: 3\n"
     ]
    }
   ],
   "source": [
    "print(\"max imbalance between classes is: {}\".format(max_imbalance_between_classes(train_datasets)))"
   ]
  },
  {
   "cell_type": "markdown",
   "metadata": {
    "colab_type": "text",
    "id": "tIQJaJuwg5Hw"
   },
   "source": [
    "Finally, let's save the data for later reuse:"
   ]
  },
  {
   "cell_type": "code",
   "execution_count": 11,
   "metadata": {
    "cellView": "both",
    "colab": {
     "autoexec": {
      "startup": false,
      "wait_interval": 0
     }
    },
    "colab_type": "code",
    "collapsed": true,
    "id": "QiR_rETzem6C"
   },
   "outputs": [],
   "source": [
    "pickle_file = os.path.join(data_root, 'notMNIST.pickle')\n",
    "\n",
    "try:\n",
    "  f = open(pickle_file, 'wb')\n",
    "  save = {\n",
    "    'train_dataset': train_dataset,\n",
    "    'train_labels': train_labels,\n",
    "    'valid_dataset': valid_dataset,\n",
    "    'valid_labels': valid_labels,\n",
    "    'test_dataset': test_dataset,\n",
    "    'test_labels': test_labels,\n",
    "    }\n",
    "  pickle.dump(save, f, pickle.HIGHEST_PROTOCOL)\n",
    "  f.close()\n",
    "except Exception as e:\n",
    "  print('Unable to save data to', pickle_file, ':', e)\n",
    "  raise"
   ]
  },
  {
   "cell_type": "code",
   "execution_count": 12,
   "metadata": {
    "cellView": "both",
    "colab": {
     "autoexec": {
      "startup": false,
      "wait_interval": 0
     },
     "output_extras": [
      {
       "item_id": 1
      }
     ]
    },
    "colab_type": "code",
    "executionInfo": {
     "elapsed": 413065,
     "status": "ok",
     "timestamp": 1444485899688,
     "user": {
      "color": "#1FA15D",
      "displayName": "Vincent Vanhoucke",
      "isAnonymous": false,
      "isMe": true,
      "permissionId": "05076109866853157986",
      "photoUrl": "//lh6.googleusercontent.com/-cCJa7dTDcgQ/AAAAAAAAAAI/AAAAAAAACgw/r2EZ_8oYer4/s50-c-k-no/photo.jpg",
      "sessionId": "2a0a5e044bb03b66",
      "userId": "102167687554210253930"
     },
     "user_tz": 420
    },
    "id": "hQbLjrW_iT39",
    "outputId": "b440efc6-5ee1-4cbc-d02d-93db44ebd956"
   },
   "outputs": [
    {
     "name": "stdout",
     "output_type": "stream",
     "text": [
      "Compressed pickle size: 690800506\n"
     ]
    }
   ],
   "source": [
    "statinfo = os.stat(pickle_file)\n",
    "print('Compressed pickle size:', statinfo.st_size)"
   ]
  },
  {
   "cell_type": "markdown",
   "metadata": {
    "colab_type": "text",
    "id": "gE_cRAQB33lk"
   },
   "source": [
    "---\n",
    "Problem 5\n",
    "---------\n",
    "\n",
    "By construction, this dataset might contain a lot of overlapping samples, including training data that's also contained in the validation and test set! Overlap between training and test can skew the results if you expect to use your model in an environment where there is never an overlap, but are actually ok if you expect to see training samples recur when you use it.\n",
    "Measure how much overlap there is between training, validation and test samples.\n",
    "\n",
    "Optional questions:\n",
    "- What about near duplicates between datasets? (images that are almost identical)\n",
    "- Create a sanitized validation and test set, and compare your accuracy on those in subsequent assignments.\n",
    "---"
   ]
  },
  {
   "cell_type": "markdown",
   "metadata": {},
   "source": [
    "Compute first overlaping indice pairs"
   ]
  },
  {
   "cell_type": "code",
   "execution_count": 21,
   "metadata": {
    "scrolled": true
   },
   "outputs": [
    {
     "ename": "SyntaxError",
     "evalue": "invalid syntax (<ipython-input-21-b7b56123401b>, line 73)",
     "output_type": "error",
     "traceback": [
      "\u001b[1;36m  File \u001b[1;32m\"<ipython-input-21-b7b56123401b>\"\u001b[1;36m, line \u001b[1;32m73\u001b[0m\n\u001b[1;33m    pickle_object(pickle_file, overlaps'duplicates')\u001b[0m\n\u001b[1;37m                                                  ^\u001b[0m\n\u001b[1;31mSyntaxError\u001b[0m\u001b[1;31m:\u001b[0m invalid syntax\n"
     ]
    }
   ],
   "source": [
    "datasets = pickle.load(open(pickle_file, 'rb'))\n",
    "print(datasets.keys())\n",
    "train_dataset = datasets['train_dataset']\n",
    "train_dataset, train_labels, valid_dataset, valid_labels, test_dataset, test_labels = datasets.values()\n",
    "\n",
    "def pickle_object(pickle_file, data):\n",
    "    try:\n",
    "      f = open(pickle_file, 'wb')\n",
    "      save = data\n",
    "      pickle.dump(save, f, pickle.HIGHEST_PROTOCOL)\n",
    "      f.close()\n",
    "    except Exception as e:\n",
    "      print('Unable to save data to', pickle_file, ':', e)\n",
    "      raise\n",
    "\n",
    "def have_pixel_overlap(a, b, min_acceptable_num_of_pixel_missmatches):\n",
    "    \n",
    "    full_match = a.shape[0]*a.shape[1]\n",
    "    overlap = 0\n",
    "    num_of_missmatches = 0\n",
    "    if a.shape != b.shape:\n",
    "        print(\"array of arrays of unequal size!\")\n",
    "        return None\n",
    "    elif min_acceptable_num_of_pixel_missmatches > full_match:\n",
    "        min_acceptable_num_of_pixel_missmatches = full_match\n",
    "            \n",
    "    for i in range(a.shape[0]):\n",
    "        for j in range(a.shape[1]):\n",
    "            if a[i, j] != b[i, j]:\n",
    "                num_of_missmatches += 1\n",
    "            if num_of_missmatches > min_acceptable_num_of_pixel_missmatches:\n",
    "                return False\n",
    "    return True\n",
    "\n",
    "def overlaps_between_sets(dataset1, labels1, dataset2, labels2):\n",
    "    overlap = 0\n",
    "    duplicates = []\n",
    "    for image_ind_1 in range(len(labels1)):\n",
    "        found_overlap = False\n",
    "        im1 = dataset1[image_ind_1]\n",
    "        l1 = labels1[image_ind_1]\n",
    "\n",
    "        for image_ind_2 in range(len(labels2)):\n",
    "            im2 = dataset2[image_ind_2]\n",
    "            l2 = labels2[image_ind_2]\n",
    "            if l2 != l1:\n",
    "                continue\n",
    "            else:\n",
    "                if have_pixel_overlap(im1, im2, 0):\n",
    "                    overlap += 1\n",
    "                    found_overlap = True\n",
    "                    duplicates.append((image_ind_1, image_ind_2))\n",
    "                    break\n",
    "        if found_overlap:\n",
    "            continue\n",
    "    return {'number_of_overlaps': overlap, 'duplicates': duplicates}\n",
    "\n",
    "def maybe_picke_train_valid_overlaps():\n",
    "    pickle_file = os.path.join(data_root, 'overlap_train_valid.pickle')\n",
    "    if os.path.exists(pickle_file):\n",
    "        overlaps = pickle.load(open(pickle_file, 'rb'))\n",
    "    else:\n",
    "        overlaps = overlaps_between_sets(train_dataset, train_labels, valid_dataset, valid_labels)\n",
    "        pickle_object(pickle_file, overlaps['duplicates'])\n",
    "    return overlaps\n",
    "\n",
    "def maybe_picke_train_test_overlaps():\n",
    "    pickle_file = os.path.join(data_root, 'overlap_train_test.pickle')\n",
    "    if os.path.exists(pickle_file):\n",
    "        overlaps = pickle.load(open(pickle_file, 'rb'))\n",
    "    else:\n",
    "        overlaps = overlaps_between_sets(train_dataset, train_labels, test_dataset, test_labels)\n",
    "        pickle_object(pickle_file, overlaps'duplicates')\n",
    "    return overlaps\n",
    "\n",
    "def maybe_picke_valid_test_overlaps():\n",
    "    pickle_file = os.path.join(data_root, 'overlap_valid_test.pickle')\n",
    "    if os.path.exists(pickle_file):\n",
    "        overlaps = pickle.load(open(pickle_file, 'rb'))\n",
    "    else:\n",
    "        overlaps = overlaps_between_sets(valid_dataset, valid_labels, test_dataset, test_labels)\n",
    "        pickle_object(pickle_file, overlaps['duplicates'])\n",
    "    return overlaps\n",
    "            \n",
    "\n",
    "dict_overlap_between_sets = {'train_and_valid': maybe_picke_train_valid_overlaps(),\n",
    "                             'train_and_test': maybe_picke_train_test_overlaps(),\n",
    "                             'valid_and_test': maybe_picke_valid_test_overlaps()\n",
    "                            }\n",
    "print(dict_overlap_between_sets.keys())"
   ]
  },
  {
   "cell_type": "code",
   "execution_count": 22,
   "metadata": {},
   "outputs": [
    {
     "name": "stdout",
     "output_type": "stream",
     "text": [
      "[(128, 100), (167, 2552), (235, 100), (242, 100), (290, 100), (303, 100), (379, 9085), (417, 199), (490, 100), (522, 100), (554, 5731), (623, 100), (634, 100), (668, 100), (669, 100), (951, 100), (984, 100), (999, 100), (1001, 100), (1068, 4883), (1080, 100), (1361, 100), (1431, 100), (1547, 8241), (1560, 100), (1871, 100), (1933, 100), (2021, 100), (2070, 2468), (2129, 100), (2192, 100), (2218, 3087), (2261, 100), (2272, 1824), (2303, 100), (2431, 3663), (2499, 100), (2513, 100), (2583, 100), (2643, 100), (2733, 100), (2950, 1460), (3070, 100), (3165, 100), (3169, 100), (3217, 100), (3239, 4213), (3344, 100), (3346, 100), (3472, 884), (3505, 366), (3556, 100), (3599, 3272), (3786, 100), (3876, 9106), (3972, 3876), (3984, 100), (4038, 100), (4277, 100), (4424, 100), (4425, 100), (4468, 404), (4616, 4350), (4706, 100), (4730, 100), (4878, 2832), (4928, 8425), (4935, 100), (4946, 100), (4991, 4350), (4997, 123), (5014, 1317), (5017, 100), (5079, 4043), (5083, 2116), (5112, 365), (5193, 100), (5194, 100), (5202, 9932), (5245, 100), (5284, 5468), (5325, 100), (5427, 7193), (5463, 100), (5476, 100), (5496, 100), (5509, 100), (5518, 100), (5532, 100), (5695, 100), (5719, 100), (5756, 4087), (5762, 100), (5775, 100), (5852, 100), (5878, 100), (5910, 100), (6008, 100), (6046, 2017), (6064, 8113), (6076, 6450), (6088, 2485), (6092, 100), (6122, 6531), (6139, 100), (6181, 3318), (6235, 2145), (6458, 100), (6499, 100), (6502, 100), (6519, 100), (6538, 100), (6580, 100), (6618, 100), (6623, 100), (6680, 100), (6711, 100), (6754, 100), (6769, 100), (6788, 715), (6850, 6096), (6872, 100), (6945, 1585), (7037, 100), (7063, 3982), (7092, 100), (7149, 6126), (7267, 1073), (7390, 6747), (7570, 100), (7577, 2265), (7602, 100), (7907, 100), (7983, 100), (7995, 2076), (8028, 100), (8046, 3493), (8085, 100), (8108, 100), (8123, 100), (8279, 100), (8290, 100), (8397, 100), (8444, 1563), (8462, 100), (8512, 100), (8531, 100), (8821, 8654), (8876, 100), (8924, 100), (8955, 100), (8984, 100), (8986, 100), (9108, 4095), (9164, 100), (9169, 100), (9181, 100), (9270, 6839), (9302, 3948), (9423, 100), (9443, 100), (9479, 100), (9480, 9705), (9509, 100), (9540, 100), (9541, 100), (9598, 7092), (9606, 100), (9637, 100), (9869, 100), (9968, 100), (9997, 2665), (10053, 100), (10206, 778), (10221, 100), (10262, 1442), (10339, 100), (10358, 5168), (10370, 4179), (10435, 9397), (10498, 100), (10547, 100), (10665, 100), (10681, 7315), (10694, 3252), (10735, 100), (10747, 100), (10753, 100), (10821, 672), (10859, 100), (10877, 100), (10904, 100), (10949, 100), (10959, 100), (10994, 100), (11066, 100), (11207, 1011), (11232, 100), (11239, 959), (11275, 100), (11378, 100), (11519, 2679), (11619, 6672), (11643, 3440), (11866, 100), (11912, 868), (11929, 100), (11931, 9840), (11935, 100), (11936, 100), (12068, 100), (12129, 100), (12388, 3787), (12444, 100), (12446, 100), (12492, 100), (12549, 100), (12580, 100), (12700, 100), (12728, 100), (12899, 9766), (12949, 100), (12992, 100), (13045, 100), (13061, 9487), (13090, 100), (13102, 100), (13111, 100), (13144, 100), (13203, 100), (13210, 2658), (13230, 2145), (13242, 100), (13265, 100), (13275, 100), (13404, 2521), (13470, 100), (13501, 100), (13554, 100), (13604, 7059), (13626, 100), (13712, 100), (13731, 100), (13777, 100), (13859, 100), (13872, 100), (13889, 9251), (13909, 100), (13915, 100), (13948, 100), (14065, 100), (14140, 100), (14168, 100), (14216, 1890), (14274, 100), (14295, 100), (14302, 4153), (14365, 9454), (14415, 100), (14430, 100), (14447, 100), (14492, 8308), (14529, 100), (14544, 7865), (14582, 4145), (14880, 100), (14979, 8288), (15046, 5077), (15216, 100), (15256, 8506), (15398, 100), (15539, 9708), (15546, 100), (15552, 100), (15555, 2695), (15593, 100), (15596, 2374), (15814, 5997), (15865, 2017), (16128, 100), (16169, 100), (16278, 5097), (16291, 4279), (16536, 4153), (16707, 660), (16790, 100), (16794, 9441), (16808, 100), (16817, 100), (16859, 100), (16885, 100), (16960, 100), (16965, 100), (17004, 4205), (17058, 5748), (17103, 100), (17205, 9342), (17239, 100), (17252, 100), (17450, 100), (17623, 5175), (17658, 2824), (17673, 100), (17685, 100), (17721, 6269), (17725, 100), (17761, 3406), (17784, 3228), (17934, 3422), (17975, 100), (17982, 1084), (17990, 100), (18058, 1467), (18070, 100), (18093, 5617), (18111, 100), (18294, 100), (18327, 100), (18451, 9261), (18562, 100), (18567, 100), (18617, 100), (18635, 1700), (18670, 100), (18674, 100), (18680, 4486), (18829, 100), (18833, 5223), (18976, 2109), (19010, 5426), (19086, 100), (19178, 100), (19219, 100), (19225, 100), (19334, 100), (19359, 100), (19362, 100), (19411, 100), (19417, 100), (19426, 100), (19482, 100), (19544, 100), (19558, 2332), (19665, 100), (19724, 7172), (19760, 100), (19828, 100), (19834, 4760), (19908, 100), (19988, 100), (20142, 100), (20156, 719), (20246, 100), (20325, 6480), (20330, 100), (20343, 100), (20364, 100), (20486, 100), (20586, 3139), (20637, 176), (20672, 100), (20707, 2558), (20711, 472), (20722, 4720), (20740, 4026), (20762, 100), (20867, 100), (21010, 100), (21012, 6851), (21220, 100), (21233, 100), (21260, 100), (21281, 6457), (21395, 100), (21409, 100), (21526, 5212), (21530, 9377), (21565, 4205), (21605, 4616), (21645, 100), (21852, 100), (21999, 100), (22011, 2931), (22037, 100), (22283, 4575), (22297, 100), (22365, 100), (22411, 100), (22468, 8361), (22478, 100), (22522, 100), (22523, 100), (22625, 3928), (22657, 1324), (22698, 3843), (22756, 100), (22777, 100), (22932, 7303), (22949, 6046), (22993, 100), (22998, 472), (23021, 8679), (23141, 6458), (23144, 100), (23192, 5097), (23272, 100), (23292, 6637), (23299, 100), (23328, 100), (23441, 100), (23598, 100), (23695, 8279), (23760, 7916), (23768, 4284), (23829, 100), (23897, 100), (23942, 100), (23985, 100), (24083, 2652), (24096, 100), (24211, 100), (24252, 5267), (24465, 100), (24495, 100), (24594, 3867), (24614, 100), (24618, 6747), (24789, 100), (24993, 100), (25085, 100), (25086, 100), (25133, 100), (25178, 4230), (25203, 100), (25205, 100), (25329, 9111), (25376, 100), (25407, 100), (25549, 100), (25593, 100), (25700, 532), (25724, 100), (25777, 100), (25959, 100), (25984, 100), (26089, 100), (26108, 4350), (26160, 100), (26190, 3120), (26221, 100), (26296, 100), (26320, 100), (26352, 100), (26368, 7939), (26458, 207), (26476, 100), (26477, 100), (26727, 100), (26739, 100), (26825, 8375), (26906, 5266), (26922, 100), (27089, 100), (27174, 100), (27228, 8550), (27272, 100), (27297, 8399), (27309, 100), (27396, 100), (27418, 4047), (27436, 100), (27477, 1923), (27622, 3546), (27650, 100), (27742, 4350), (27783, 100), (27886, 100), (27919, 100), (27924, 100), (27963, 100), (28033, 1467), (28057, 100), (28105, 959), (28145, 100), (28219, 100), (28336, 100), (28361, 100), (28385, 100), (28455, 9729), (28475, 100), (28523, 100), (28565, 100), (28624, 7317), (28651, 100), (28657, 100), (28671, 465), (28820, 242), (28844, 7549), (28957, 607), (29014, 4861), (29171, 100), (29234, 100), (29270, 571), (29342, 7910), (29405, 436), (29511, 100), (29540, 100), (29569, 7437), (29585, 100), (29642, 100), (29686, 100), (29998, 100), (30021, 100), (30026, 100), (30037, 100), (30087, 100), (30173, 100), (30307, 8203), (30348, 100), (30385, 5705), (30403, 100), (30473, 100), (30524, 100), (30597, 100), (30653, 124), (30756, 100), (30762, 100), (30786, 100), (30832, 100), (30929, 100), (30933, 1407), (31089, 5200), (31129, 100), (31292, 100), (31293, 5169), (31339, 9877), (31341, 100), (31518, 100), (31553, 4809), (31621, 100), (31776, 5258), (31824, 100), (31964, 100), (32026, 789), (32057, 100), (32080, 100), (32121, 100), (32145, 100), (32258, 100), (32339, 100), (32343, 100), (32378, 100), (32473, 4903), (32522, 100), (32554, 100), (32738, 100), (32807, 100), (32880, 100), (32951, 100), (33036, 100), (33059, 100), (33075, 6931), (33157, 100), (33176, 2496), (33214, 100), (33244, 959), (33386, 5591), (33468, 100), (33497, 8986), (33514, 100), (33600, 4892), (33682, 100), (33723, 5898), (33884, 100), (33894, 1782), (33948, 100), (33960, 100), (34007, 100), (34044, 100), (34154, 100), (34186, 100), (34196, 4977), (34217, 100), (34224, 100), (34460, 100), (34473, 100), (34505, 100), (34520, 311), (34537, 6773), (34572, 100), (34706, 3519), (34748, 100), (34754, 4623), (34771, 100), (34784, 100), (34796, 100), (34879, 100), (34914, 9005), (34957, 1923), (34963, 1314), (34967, 100), (35138, 100), (35171, 100), (35213, 100), (35244, 100), (35292, 100), (35390, 100), (35410, 7736), (35427, 6663), (35461, 1304), (35491, 100), (35545, 100), (35589, 3807), (35658, 100), (35659, 100), (35680, 2063), (35685, 100), (35722, 5686), (35816, 100), (35835, 100), (35879, 100), (35921, 100), (35925, 2699), (35999, 100), (36045, 100), (36111, 491), (36118, 100), (36145, 7305), (36273, 100), (36338, 100), (36380, 100), (36415, 100), (36455, 100), (36460, 1116), (36471, 100), (36496, 8172), (36500, 100), (36555, 100), (36742, 100), (36872, 100), (36886, 8549), (36909, 100), (37039, 9833), (37058, 100), (37070, 1407), (37147, 100), (37285, 100), (37287, 100), (37339, 726), (37368, 100), (37400, 1768), (37444, 100), (37515, 100), (37519, 1673), (37538, 100), (37565, 3732), (37578, 9111), (37591, 3922), (38069, 1140), (38086, 1530), (38137, 319), (38142, 2274), (38160, 100), (38182, 100), (38253, 100), (38365, 100), (38372, 100), (38393, 3458), (38426, 9516), (38431, 8378), (38476, 999), (38504, 100), (38543, 100), (38566, 6958), (38621, 4169), (38727, 100), (38784, 7742), (38864, 100), (38960, 100), (39081, 8748), (39089, 144), (39104, 100), (39144, 3930), (39179, 100), (39321, 100), (39341, 5146), (39392, 100), (39423, 9760), (39471, 100), (39536, 100), (39574, 100), (39662, 100), (39754, 100), (39775, 100), (40016, 7770), (40033, 6985), (40078, 5748), (40102, 100), (40147, 100), (40149, 100), (40241, 100), (40384, 100), (40436, 6841), (40631, 100), (40745, 5232), (40950, 100), (40998, 100), (41042, 100), (41210, 7680), (41367, 100), (41515, 100), (41619, 2777), (41651, 1916), (41671, 5263), (41713, 100), (41817, 6703), (41905, 100), (42135, 5039), (42191, 100), (42204, 100), (42236, 100), (42281, 100), (42345, 1647), (42360, 100), (42420, 9863), (42471, 100), (42535, 3175), (42613, 100), (42678, 1936), (42688, 7160), (42778, 100), (42865, 8204), (42963, 100), (42981, 100), (42983, 100), (43001, 8385), (43011, 6156), (43027, 100), (43073, 3477), (43123, 6469), (43134, 100), (43157, 607), (43161, 9184), (43174, 100), (43237, 100), (43376, 4457), (43476, 4820), (43503, 5725), (43535, 100), (43539, 6497), (43601, 100), (43682, 100), (43690, 100), (43701, 100), (43783, 100), (43802, 100), (43861, 6841), (43933, 100), (43942, 100), (43945, 100), (43988, 6605), (44008, 100), (44106, 2018), (44126, 100), (44150, 100), (44159, 100), (44220, 100), (44322, 100), (44332, 100), (44339, 7632), (44445, 100), (44449, 100), (44630, 3714), (44635, 100), (44638, 100), (44648, 100), (44693, 8900), (44710, 100), (44929, 9680), (45102, 2472), (45342, 100), (45355, 100), (45502, 959), (45510, 4254), (45541, 100), (45814, 100), (45826, 4486), (45957, 100), (46124, 100), (46195, 5874), (46249, 9568), (46334, 4571), (46587, 100), (46589, 100), (46652, 100), (46710, 4954), (46851, 2558), (46867, 100), (46947, 1416), (46952, 100), (46967, 1116), (46972, 6632), (47014, 100), (47066, 3292), (47101, 100), (47106, 100), (47160, 100), (47195, 100), (47207, 4261), (47311, 2542), (47365, 176), (47383, 959), (47526, 3465), (47619, 100), (47666, 100), (47762, 3270), (47777, 100), (47805, 100), (47852, 100), (47904, 902), (48164, 100), (48294, 2614), (48317, 4153), (48336, 8573), (48351, 100), (48423, 100), (48450, 100), (48517, 100), (48593, 100), (48658, 100), (48759, 100), (48812, 8171), (48868, 100), (48924, 100), (48998, 6062), (49033, 100), (49048, 100), (49056, 100), (49068, 809), (49099, 5953), (49249, 2303), (49306, 100), (49343, 4635), (49464, 100), (49644, 100), (49686, 8248), (49687, 100), (49730, 100), (49951, 100), (49962, 100), (50035, 100), (50065, 2116), (50073, 100), (50080, 100), (50095, 100), (50109, 8998), (50110, 100), (50161, 100), (50166, 3065), (50175, 100), (50181, 7252), (50196, 100), (50394, 100), (50443, 8915), (50507, 100), (50530, 100), (50535, 100), (50676, 7160), (50801, 3697), (50816, 100), (51117, 5386), (51214, 100), (51381, 100), (51438, 4806), (51526, 5167), (51532, 8628), (51535, 3152), (51576, 100), (51618, 100), (51697, 100), (51734, 7030), (51775, 100), (51782, 100), (51821, 100), (51867, 100), (51873, 4280), (51879, 100), (52155, 7298), (52207, 2558), (52258, 1625), (52420, 100), (52423, 100), (52747, 100), (52758, 4074), (52809, 6773), (52833, 100), (52846, 100), (52863, 100), (52884, 100), (52892, 100), (52931, 100), (52948, 8338), (53003, 6839), (53057, 100), (53306, 9760), (53363, 100), (53366, 100), (53558, 100), (53562, 100), (53676, 100), (53690, 9837), (53709, 4785), (53719, 100), (53764, 4760), (53776, 100), (53825, 100), (53864, 100), (53883, 100), (53912, 6751), (53913, 9027), (53974, 1396), (54114, 100), (54118, 100), (54134, 9234), (54201, 4171), (54262, 100), (54310, 100), (54405, 100), (54447, 4760), (54599, 100), (54607, 100), (54654, 9576), (54734, 8731), (54746, 100), (54772, 768), (54783, 100), (54889, 100), (54901, 8153), (54922, 100), (54961, 100), (55092, 100), (55141, 100), (55143, 100), (55253, 100), (55332, 100), (55402, 6351), (55434, 100), (55448, 100), (55527, 5813), (55589, 100), (55616, 100), (55622, 100), (55639, 1060), (55770, 100), (55771, 2991), (55809, 100), (55847, 100), (55889, 100), (55904, 1499), (55946, 8383), (55978, 3585), (56056, 100), (56158, 100), (56264, 100), (56370, 100), (56406, 4903), (56407, 100), (56493, 100), (56786, 100), (56809, 9626), (56941, 100), (56981, 100), (56985, 100), (57010, 100), (57040, 4815), (57094, 8171), (57192, 176), (57227, 348), (57259, 100), (57270, 100), (57344, 100), (57380, 100), (57540, 100), (57620, 100), (57836, 100), (57850, 4209), (57867, 3451), (57916, 100), (58098, 100), (58119, 4853), (58134, 100), (58207, 6806), (58258, 100), (58361, 100), (58376, 100), (58551, 7934), (58558, 5919), (58638, 100), (58654, 100), (58750, 3422), (58794, 100), (59048, 100), (59065, 6912), (59081, 100), (59089, 100), (59098, 1693), (59119, 100), (59124, 100), (59134, 100), (59153, 100), (59159, 100), (59199, 100), (59238, 1621), (59378, 4350), (59416, 100), (59425, 6649), (59532, 100), (59588, 100), (59651, 100), (59802, 100), (59828, 1997), (59882, 100), (59883, 100), (59932, 2847), (60050, 100), (60078, 6721), (60110, 100), (60132, 7193), (60285, 100), (60383, 100), (60385, 2597), (60631, 100), (60676, 7458), (60728, 100), (60806, 907), (60807, 2680), (60821, 100), (61114, 8735), (61115, 100), (61147, 9170), (61208, 2449), (61227, 463), (61496, 4421), (61672, 100), (61776, 100), (61781, 100), (61841, 100), (61894, 100), (61961, 100), (61965, 4161), (62058, 100), (62143, 100), (62175, 100), (62242, 100), (62250, 100), (62308, 6773), (62489, 100), (62652, 2626), (62659, 7427), (62682, 7144), (62698, 942), (62702, 100), (62716, 100), (62807, 100), (62854, 100), (62898, 100), (62904, 100), (62906, 100), (62916, 243), (62953, 8870), (62988, 100), (63020, 100), (63097, 100), (63180, 1079), (63199, 100), (63245, 1080), (63328, 100), (63329, 100), (63362, 100), (63389, 100), (63411, 1136), (63441, 100), (63491, 1499), (63520, 100), (63526, 100), (63609, 100), (63626, 100), (63635, 3105), (63675, 100), (63701, 100), (63743, 100), (63900, 100), (63945, 3748), (64076, 4142), (64109, 100), (64140, 4595), (64187, 100), (64244, 100), (64272, 100), (64331, 100), (64432, 176), (64443, 100), (64479, 100), (64610, 100), (64735, 5848), (64740, 6033), (64874, 100), (64901, 100), (64995, 2243), (65015, 3046), (65058, 3504), (65080, 100), (65098, 100), (65161, 100), (65243, 3744), (65395, 100), (65414, 100), (65419, 100), (65664, 9177), (65672, 4007), (65798, 100), (65833, 100), (65835, 100), (65904, 100), (65926, 280), (65987, 7481), (66122, 9719), (66158, 7233), (66270, 3728), (66315, 100), (66583, 100), (66763, 100), (66847, 100), (66938, 9573), (66950, 3815), (67019, 100), (67116, 100), (67348, 100), (67383, 8132), (67424, 100), (67646, 100), (67703, 100), (67705, 100), (67828, 100), (67859, 8864), (67920, 2184), (67995, 7645), (68025, 100), (68073, 100), (68113, 100), (68141, 100), (68211, 100), (68226, 4350), (68240, 2287), (68303, 100), (68340, 9374), (68352, 9305), (68477, 2786), (68509, 100), (68517, 100), (68575, 100), (68623, 100), (68751, 100), (68774, 8667), (68793, 100), (68855, 7153), (68882, 100), (68883, 100), (68897, 2502), (68907, 4043), (68927, 100), (68944, 100), (69013, 9135), (69302, 5122), (69310, 3729), (69387, 3279), (69529, 4480), (69590, 100), (69614, 100), (69645, 6649), (69715, 100), (69783, 100), (69855, 2485), (69872, 2046), (69899, 100), (69978, 4922), (69988, 676), (69993, 100), (70053, 100), (70101, 959), (70293, 100), (70310, 100), (70338, 100), (70357, 4269), (70583, 100), (70638, 9954), (70664, 100), (70716, 100), (70809, 100), (70815, 100), (70819, 100), (70892, 100), (70899, 100), (70935, 100), (70987, 100), (71007, 100), (71132, 100), (71182, 100), (71203, 2807), (71204, 100), (71336, 1314), (71377, 6512), (71398, 3197), (71403, 100), (71468, 5248), (71475, 2479), (71534, 100), (71535, 3067), (71595, 100), (71639, 100), (71742, 100), (71908, 5947), (71966, 100), (71973, 100), (72284, 100), (72302, 100), (72325, 100), (72384, 100), (72392, 100), (72408, 100), (72425, 1765), (72487, 100), (72536, 9499), (72591, 100), (72690, 8431), (72697, 100), (72698, 100), (72769, 2229), (72819, 100), (72832, 100), (72842, 2558), (72844, 2145), (72874, 100), (72891, 100), (72902, 803), (72915, 8984), (72942, 100), (72953, 100), (72961, 176), (72962, 100), (73192, 100), (73267, 100), (73314, 4142), (73408, 100), (73413, 100), (73420, 100), (73531, 100), (73698, 100), (73760, 100), (73830, 383), (73850, 1554), (73909, 5980), (73916, 100), (73959, 5241), (73993, 5245), (74272, 100), (74285, 100), (74343, 100), (74351, 100), (74421, 100), (74475, 100), (74555, 100), (74642, 100), (74698, 2964), (74735, 100), (74790, 100), (74873, 2342), (74945, 100), (74968, 100), (74999, 100), (75033, 100), (75127, 100), (75160, 9013), (75271, 100), (75284, 7120), (75399, 100), (75406, 7243), (75412, 100), (75454, 100), (75535, 2289), (75556, 2558), (75614, 100), (75630, 100), (75685, 100), (75691, 100), (75774, 5190), (75836, 9544), (75922, 7245), (76145, 100), (76154, 100), (76176, 100), (76390, 100), (76417, 6721), (76428, 100), (76438, 100), (76450, 5504), (76523, 100), (76556, 4384), (76603, 177), (76738, 1408), (76743, 100), (76790, 4295), (76791, 1142), (76934, 7402), (76943, 100), (77013, 100), (77056, 959), (77070, 100), (77073, 100), (77166, 100), (77255, 100), (77286, 100), (77325, 100), (77346, 5444), (77348, 2890), (77378, 100), (77402, 100), (77405, 2312), (77452, 2558), (77508, 405), (77551, 6434), (77719, 100), (77752, 8204), (77763, 100), (77781, 9326), (77823, 100), (77876, 100), (78001, 1208), (78123, 100), (78166, 100), (78200, 2116), (78247, 9943), (78326, 6450), (78356, 1583), (78382, 100), (78396, 100), (78429, 100), (78490, 3914), (78492, 100), (78581, 9068), (78649, 100), (78677, 100), (78714, 100), (78764, 100), (78785, 5108), (78787, 2276), (78840, 100), (78898, 100), (78942, 100), (78943, 9454), (78948, 100), (78970, 100), (79012, 100), (79123, 100), (79197, 100), (79281, 4179), (79289, 1142), (79306, 9828), (79337, 100), (79380, 100), (79385, 4269), (79402, 100), (79588, 100), (79607, 100), (79631, 8590), (79663, 9032), (79727, 9330), (79735, 100), (79788, 607), (79885, 100), (79956, 9544), (79959, 100), (80051, 100), (80120, 100), (80123, 385), (80186, 100), (80205, 100), (80305, 100), (80330, 100), (80350, 100), (80362, 100), (80408, 1317), (80413, 100), (80425, 9139), (80469, 100), (80485, 9394), (80519, 3111), (80535, 100), (80578, 100), (80583, 100), (80662, 100), (80694, 100), (80743, 8871), (80814, 5184), (80825, 100), (80868, 100), (80992, 3306), (81093, 100), (81191, 100), (81205, 100), (81215, 100), (81378, 100), (81416, 384), (81520, 100), (81563, 100), (81642, 100), (81663, 100), (81668, 100), (81675, 100), (81852, 100), (81872, 100), (81900, 7328), (81914, 176), (81933, 695), (81961, 6642), (82009, 100), (82058, 100), (82349, 1478), (82370, 100), (82615, 100), (82623, 100), (82702, 100), (82811, 8984), (82896, 100), (82960, 7781), (83041, 100), (83066, 100), (83115, 9992), (83208, 100), (83461, 100), (83463, 100), (83513, 100), (83564, 100), (83607, 3448), (83645, 100), (83679, 7398), (83703, 100), (83710, 100), (83737, 100), (83746, 100), (83794, 100), (83843, 100), (83889, 100), (83907, 8300), (83923, 100), (83954, 100), (84024, 100), (84091, 100), (84177, 6795), (84262, 100), (84443, 100), (84454, 9762), (84462, 100), (84484, 6491), (84547, 100), (84566, 8249), (84583, 102), (84621, 100), (84653, 100), (84734, 6201), (84846, 100), (84900, 7076), (84918, 100), (85291, 3974), (85363, 1074), (85409, 8791), (85622, 5314), (85675, 8118), (85712, 100), (85729, 100), (85735, 100), (85762, 8852), (85802, 100), (85850, 8004), (85868, 1784), (85908, 100), (86036, 100), (86170, 100), (86201, 100), (86218, 6431), (86228, 100), (86315, 100), (86327, 100), (86500, 100), (86746, 166), (86820, 939), (86923, 100), (86929, 100), (86968, 7736), (86978, 100), (87037, 100), (87053, 100), (87054, 100), (87068, 2953), (87169, 100), (87200, 6127), (87254, 100), (87260, 61), (87267, 100), (87335, 6912), (87351, 3084), (87381, 100), (87417, 100), (87500, 100), (87562, 6422), (87663, 2600), (87701, 2553), (87789, 100), (87804, 1279), (87836, 100), (87927, 6773), (87930, 4161), (88042, 100), (88096, 2541), (88122, 2349), (88135, 100), (88155, 3262), (88196, 1824), (88264, 100), (88413, 100), (88422, 176), (88458, 100), (88489, 100), (88498, 100), (88815, 100), (89094, 100), (89165, 100), (89166, 3987), (89193, 100), (89229, 956), (89345, 100), (89383, 100), (89470, 100), (89510, 100), (89520, 1748), (89550, 9679), (89584, 100), (89635, 100), (89725, 100), (89727, 2189), (89816, 1060), (89823, 100), (89983, 2558), (90065, 2553), (90182, 9398), (90250, 190), (90298, 100), (90323, 737), (90399, 100), (90447, 100), (90467, 6579), (90551, 100), (90562, 4143), (90567, 3383), (90701, 8552), (90744, 100), (90821, 100), (90845, 100), (90870, 100), (90880, 100), (90886, 100), (90899, 100), (90930, 5735), (91024, 100), (91220, 348), (91391, 9558), (91446, 176), (91462, 100), (91513, 100), (91529, 100), (91574, 100), (91607, 100), (91658, 100), (91710, 100), (91730, 100), (91856, 100), (91881, 100), (91885, 100), (91988, 100), (92080, 100), (92199, 100), (92232, 688), (92344, 100), (92405, 100), (92444, 100), (92473, 4399), (92542, 100), (92632, 100), (92643, 4205), (92696, 100), (92984, 100), (93059, 100), (93097, 100), (93103, 2297), (93168, 100), (93194, 100), (93295, 100), (93605, 100), (93764, 100), (93950, 100), (93955, 100), (94008, 7527), (94018, 100), (94078, 2626), (94093, 8672), (94200, 9941), (94221, 100), (94231, 100), (94268, 9234), (94424, 5402), (94459, 100), (94473, 4834), (94521, 100), (94951, 100), (94984, 100), (94993, 100), (95050, 100), (95208, 5282), (95253, 100), (95347, 100), (95378, 4736), (95383, 100), (95477, 100), (95539, 6811), (95544, 100), (95545, 176), (95628, 7649), (95808, 100), (95830, 3265), (95905, 100), (95933, 4331), (96000, 100), (96073, 100), (96078, 100), (96139, 1685), (96174, 100), (96271, 3526), (96318, 6097), (96422, 100), (96536, 7698), (96632, 714), (96761, 7143), (96797, 1290), (96840, 100), (96860, 100), (96887, 1381), (96955, 9480), (96975, 100), (97086, 100), (97116, 100), (97163, 100), (97183, 100), (97206, 4224), (97600, 100), (97701, 100), (97924, 405), (97995, 100), (98008, 100), (98086, 5187), (98171, 100), (98306, 100), (98335, 8768), (98384, 3473), (98409, 100), (98420, 100), (98545, 214), (98571, 100), (98609, 100), (98698, 100), (98811, 100), (98909, 100), (98969, 2732), (98970, 100), (98975, 100), (99028, 100), (99089, 100), (99099, 100), (99212, 4907), (99254, 100), (99303, 100), (99363, 100), (99401, 100), (99419, 207), (99446, 100), (99463, 100), (99558, 100), (99745, 1177), (99793, 100), (99823, 3177), (99918, 1849), (100043, 100), (100047, 100), (100078, 3377), (100103, 1974), (100116, 100), (100136, 100), (100138, 9158), (100208, 100), (100218, 9238), (100379, 100), (100397, 9544), (100548, 100), (100572, 100), (100595, 7843), (100681, 100), (100740, 9643), (100747, 4088), (100843, 100), (101084, 100), (101132, 2225), (101291, 100), (101299, 9261), (101344, 100), (101420, 100), (101571, 4903), (101897, 6114), (101900, 7459), (101923, 100), (102001, 100), (102036, 1848), (102182, 100), (102383, 6920), (102536, 4760), (102544, 100), (102582, 9454), (102711, 100), (102778, 100), (103104, 100), (103120, 100), (103226, 2063), (103241, 100), (103267, 2828), (103286, 6144), (103428, 3262), (103436, 100), (103530, 100), (103556, 6240), (103626, 100), (103699, 405), (103764, 772), (103821, 100), (103836, 100), (103853, 100), (103889, 100), (103979, 100), (104009, 214), (104077, 5771), (104089, 100), (104116, 100), (104143, 100), (104149, 192), (104181, 100), (104182, 181), (104220, 7073), (104225, 7564), (104295, 100), (104504, 100), (104581, 100), (104654, 7018), (104771, 9041), (104803, 100), (105097, 100), (105116, 100), (105205, 100), (105219, 3206), (105244, 176), (105311, 8786), (105342, 1381), (105386, 100), (105420, 100), (105431, 8882), (105486, 183), (105538, 100), (105552, 1829), (105620, 100), (105749, 100), (105991, 100), (106045, 2164), (106108, 100), (106169, 752), (106258, 386), (106311, 100), (106313, 8441), (106442, 100), (106542, 7589), (106613, 8520), (106648, 100), (106697, 100), (106707, 100), (106794, 2629), (106796, 5395), (106805, 100), (106832, 100), (107036, 100), (107044, 100), (107073, 100), (107085, 100), (107202, 100), (107229, 100), (107257, 100), (107265, 8308), (107334, 5992), (107554, 100), (107716, 100), (107756, 4119), (107760, 100), (107795, 5482), (107847, 8558), (107910, 100), (107980, 100), (108015, 100), (108086, 100), (108170, 100), (108184, 100), (108223, 5353), (108272, 100), (108290, 100), (108344, 8156), (108346, 100), (108354, 100), (108396, 100), (108406, 100), (108872, 100), (108882, 6071), (108947, 100), (109113, 2342), (109133, 100), (109138, 100), (109159, 100), (109284, 1722), (109302, 6712), (109318, 100), (109348, 100), (109350, 100), (109372, 4558), (109432, 5002), (109459, 2145), (109529, 3863), (109697, 100), (109769, 100), (109927, 1112), (109991, 100), (110057, 9081), (110140, 2219), (110167, 4633), (110190, 100), (110283, 100), (110382, 100), (110419, 1849), (110602, 750), (110611, 100), (110625, 7552), (110693, 100), (110761, 100), (110820, 8568), (110879, 100), (110993, 100), (111010, 3383), (111078, 1238), (111123, 100), (111213, 100), (111281, 100), (111283, 6050), (111287, 7574), (111295, 100), (111364, 100), (111511, 100), (111529, 100), (111588, 100), (111597, 100), (111603, 100), (111745, 100), (111763, 100), (111801, 100), (111825, 1118), (111914, 100), (111946, 100), (111969, 3439), (111970, 2558), (112087, 100), (112320, 100), (112323, 662), (112391, 100), (112552, 3077), (112561, 8332), (112565, 5641), (112568, 100), (112758, 5504), (112762, 100), (112813, 100), (112885, 100), (112944, 100), (113004, 100), (113041, 100), (113176, 100), (113235, 1060), (113239, 100), (113422, 100), (113464, 8935), (113465, 100), (113493, 100), (113590, 100), (113595, 339), (113727, 100), (113735, 100), (113759, 7172), (113773, 100), (113775, 9499), (113836, 100), (113844, 100), (113924, 228), (113940, 5173), (113961, 6631), (114006, 100), (114041, 3746), (114048, 2964), (114061, 100), (114118, 4249), (114128, 4037), (114139, 8368), (114330, 7089), (114360, 100), (114574, 100), (114649, 100), (114717, 100), (114723, 8973), (114804, 8453), (114843, 6998), (114851, 100), (114897, 100), (114908, 176), (114941, 100), (115008, 100), (115072, 100), (115184, 100), (115242, 100), (115254, 100), (115291, 100), (115313, 608), (115439, 100), (115568, 100), (115622, 100), (115876, 100), (115900, 100), (115952, 100), (116085, 5364), (116201, 100), (116257, 6839), (116312, 9388), (116345, 100), (116380, 100), (116454, 100), (116612, 6497), (116674, 100), (116676, 100), (116734, 5523), (116788, 4167), (116816, 1823), (116984, 100), (117177, 100), (117272, 100), (117287, 9786), (117305, 1390), (117423, 100), (117453, 100), (117574, 575), (117582, 100), (117600, 189), (117622, 5952), (117634, 566), (117690, 7374), (117771, 100), (117805, 100), (117852, 100), (117861, 100), (117868, 6920), (117890, 100), (117913, 100), (117954, 9237), (118098, 100), (118272, 3747), (118296, 100), (118327, 100), (118336, 7233), (118463, 100), (118521, 9559), (118614, 100), (118625, 100), (118729, 100), (118758, 100), (118813, 100), (118820, 100), (118857, 100), (118928, 100), (118962, 100), (119067, 8441), (119068, 100), (119071, 6839), (119130, 4350), (119131, 100), (119185, 5670), (119199, 2558), (119203, 100), (119249, 100), (119339, 100), (119358, 4686), (119370, 2782), (119392, 100), (119430, 4966), (119441, 8882), (119477, 5042), (119542, 100), (119596, 100), (119702, 6923), (119746, 100), (119798, 100), (119799, 100), (119800, 3203), (119897, 100), (119903, 9492), (120078, 7007), (120120, 100), (120122, 100), (120172, 100), (120177, 1142), (120347, 9582), (120405, 1722), (120415, 6755), (120482, 100), (120541, 7408), (120548, 4026), (120583, 7193), (120678, 5746), (120747, 100), (120779, 100), (120858, 100), (121042, 100), (121119, 100), (121175, 100), (121257, 7029), (121293, 100), (121420, 6773), (121650, 100), (121678, 100), (121711, 100), (121731, 1722), (121849, 8141), (121869, 100), (121883, 5523), (121891, 100), (121903, 100), (121978, 100), (122040, 100), (122133, 100), (122216, 100), (122325, 100), (122411, 100), (122417, 5396), (122419, 100), (122428, 100), (122440, 3393), (122625, 100), (122677, 6920), (122735, 100), (122793, 100), (123076, 100), (123102, 100), (123116, 100), (123118, 8375), (123129, 4894), (123191, 100), (123201, 8294), (123231, 100), (123259, 100), (123343, 100), (123364, 100), (123454, 100), (123491, 5274), (123605, 3629), (123703, 100), (123775, 100), (123776, 100), (123804, 100), (123822, 100), (123863, 100), (123892, 100), (123955, 785), (123995, 100), (124048, 100), (124091, 100), (124095, 4085), (124123, 100), (124224, 100), (124302, 100), (124305, 100), (124342, 100), (124386, 2263), (124445, 100), (124571, 4998), (124643, 100), (124706, 100), (124921, 100), (125099, 9394), (125116, 2558), (125196, 100), (125263, 5680), (125269, 100), (125307, 506), (125461, 8083), (125478, 100), (125521, 100), (125595, 100), (125686, 3265), (125813, 100), (125898, 1523), (125908, 4318), (125996, 100), (126099, 100), (126145, 100), (126170, 8668), (126215, 100), (126236, 100), (126257, 8390), (126278, 100), (126301, 100), (126482, 100), (126491, 100), (126492, 7170), (126506, 100), (126771, 100), (126854, 2219), (126949, 100), (126960, 100), (127028, 4666), (127049, 100), (127067, 2039), (127074, 4989), (127165, 100), (127186, 5146), (127208, 959), (127283, 100), (127297, 100), (127310, 7954), (127340, 100), (127342, 100), (127407, 100), (127492, 100), (127514, 100), (127648, 603), (127775, 100), (127816, 100), (127835, 100), (127867, 100), (127874, 100), (128097, 6029), (128116, 100), (128246, 100), (128273, 3512), (128280, 100), (128296, 100), (128311, 100), (128361, 6046), (128395, 100), (128459, 100), (128487, 9626), (128546, 100), (128650, 5364), (128659, 100), (128671, 4034), (128705, 100), (128732, 100), (128738, 100), (128740, 100), (128820, 100), (128900, 100), (128958, 4498), (128991, 2342), (129156, 100), (129187, 100), (129299, 100), (129347, 100), (129463, 2909), (129556, 5104), (129826, 646), (129852, 100), (130068, 9576), (130125, 100), (130206, 100), (130505, 100), (130591, 100), (130613, 100), (130642, 100), (130650, 100), (130708, 2558), (130716, 100), (130723, 1317), (130736, 100), (130786, 100), (130896, 7739), (130909, 100), (130939, 100), (130959, 3946), (130970, 100), (130973, 100), (130988, 8925), (131108, 100), (131202, 3947), (131208, 100), (131301, 100), (131323, 4105), (131327, 100), (131416, 100), (131439, 100), (131540, 100), (131588, 100), (131612, 100), (131731, 100), (131735, 100), (131852, 100), (132047, 100), (132124, 6130), (132217, 100), (132232, 100), (132305, 100), (132431, 100), (132717, 100), (132721, 100), (132758, 1566), (132763, 100), (132767, 100), (132778, 9014), (132835, 6839), (132861, 6696), (132866, 5105), (132940, 4254), (132949, 100), (132955, 4649), (133111, 100), (133114, 100), (133131, 100), (133204, 100), (133211, 100), (133212, 100), (133240, 100), (133444, 100), (133474, 100), (133475, 3265), (133509, 100), (133514, 3629), (133625, 8624), (133686, 100), (133701, 100), (133707, 100), (133775, 7652), (133806, 5100), (133838, 100), (133849, 100), (133867, 100), (133889, 100), (133894, 2604), (134064, 100), (134099, 100), (134102, 100), (134267, 1116), (134327, 757), (134331, 5235), (134365, 100), (134463, 100), (134514, 100), (134522, 2116), (134561, 100), (134564, 8308), (134756, 100), (134917, 100), (135014, 333), (135147, 9068), (135160, 100), (135401, 100), (135520, 9402), (135558, 4410), (135637, 85), (135641, 5789), (135651, 100), (135652, 8069), (135774, 100), (135819, 100), (135835, 100), (135850, 537), (135871, 100), (136007, 100), (136033, 100), (136066, 9309), (136127, 100), (136211, 100), (136212, 100), (136390, 4461), (136463, 100), (136477, 100), (136616, 100), (136621, 100), (136623, 100), (136652, 100), (136666, 4784), (136679, 7402), (136720, 100), (136739, 100), (136835, 2491), (136885, 100), (136895, 100), (136900, 100), (136939, 100), (136964, 100), (137014, 100), (137092, 100), (137157, 100), (137259, 9735), (137340, 100), (137363, 100), (137398, 100), (137422, 100), (137434, 100), (137439, 5943), (137443, 5667), (137447, 100), (137573, 100), (137774, 4318), (137776, 100), (137980, 100), (137987, 100), (138042, 123), (138091, 100), (138145, 8408), (138244, 100), (138302, 100), (138643, 100), (138792, 100), (138813, 537), (138817, 7742), (138828, 100), (138848, 100), (138957, 9775), (139037, 6421), (139046, 100), (139199, 100), (139215, 5722), (139300, 100), (139322, 100), (139341, 100), (139345, 317), (139462, 100), (139502, 384), (139515, 8232), (139534, 100), (139632, 100), (139638, 166), (139669, 3152), (139816, 3514), (139871, 100), (139883, 6659), (139933, 100), (140002, 100), (140024, 8083), (140172, 100), (140190, 100), (140446, 100), (140544, 100), (140556, 2485), (140593, 100), (140598, 100), (140623, 100), (140654, 1018), (140665, 9194), (140801, 100), (140820, 100), (140839, 100), (140938, 100), (141032, 495), (141073, 8381), (141113, 100), (141129, 100), (141135, 379), (141141, 2787), (141206, 100), (141441, 8915), (141452, 100), (141492, 100), (141497, 789), (141503, 8007), (141574, 100), (141685, 100), (141721, 100), (141854, 2558), (141945, 25), (142140, 7721), (142159, 100), (142185, 100), (142221, 100), (142227, 100), (142262, 100), (142287, 100), (142396, 100), (142433, 6389), (142477, 9191), (142494, 100), (142544, 1165), (142650, 100), (142668, 100), (142697, 100), (142718, 100), (142747, 100), (142784, 100), (142803, 4989), (142807, 6734), (142852, 6012), (142877, 2298), (142885, 100), (142891, 6933), (142904, 100), (143110, 100), (143115, 2276), (143127, 8399), (143174, 3377), (143177, 2134), (143181, 8274), (143208, 100), (143274, 100), (143289, 9005), (143413, 100), (143482, 100), (143503, 907), (143553, 100), (143580, 100), (143635, 100), (143680, 100), (143718, 100), (143842, 8752), (143851, 100), (143972, 9537), (144082, 100), (144241, 100), (144269, 1848), (144341, 2444), (144470, 100), (144474, 9759), (144530, 100), (144573, 100), (144639, 100), (144680, 100), (144739, 100), (144884, 7705), (144911, 2553), (145044, 100), (145085, 100), (145136, 6319), (145195, 100), (145295, 2229), (145342, 100), (145363, 6113), (145366, 100), (145413, 8208), (145555, 100), (145570, 100), (145590, 5175), (145887, 100), (146076, 123), (146134, 7836), (146148, 8089), (146227, 100), (146300, 100), (146332, 100), (146339, 100), (146410, 6697), (146454, 100), (146492, 4620), (146495, 100), (146578, 607), (146609, 100), (146677, 100), (146750, 100), (146806, 100), (147095, 100), (147138, 100), (147273, 100), (147280, 100), (147356, 100), (147363, 100), (147393, 737), (147436, 100), (147468, 100), (147495, 4017), (147563, 100), (147683, 100), (147721, 6640), (147762, 4874), (147790, 100), (147910, 9247), (147928, 100), (147933, 100), (147966, 100), (147985, 6981), (148109, 100), (148206, 100), (148349, 100), (148446, 100), (148504, 100), (148528, 9608), (148596, 100), (148607, 100), (148722, 3904), (148780, 100), (148781, 2534), (148888, 3377), (148894, 100), (148964, 100), (149023, 100), (149050, 9797), (149181, 1657), (149189, 100), (149341, 4263), (149616, 100), (149648, 100), (149675, 100), (149882, 100), (149932, 100), (149948, 100), (149980, 100), (150013, 100), (150130, 100), (150154, 100), (150160, 1302), (150208, 100), (150283, 100), (150375, 100), (150410, 100), (150530, 7110), (150635, 3755), (150657, 100), (150744, 100), (150812, 4633), (150821, 9104), (150888, 1307), (150927, 100), (151021, 9811), (151080, 100), (151186, 100), (151244, 3433), (151463, 2106), (151495, 8375), (151727, 5457), (151746, 2558), (151784, 4639), (151791, 100), (151849, 100), (151878, 100), (151886, 3209), (151939, 100), (151948, 100), (151963, 5617), (151966, 7940), (151985, 6117), (152005, 100), (152024, 1325), (152054, 100), (152141, 100), (152220, 100), (152274, 100), (152344, 6587), (152481, 2782), (152673, 5590), (152719, 100), (152746, 100), (152770, 100), (152864, 4255), (152970, 867), (152972, 100), (153263, 100), (153290, 100), (153420, 100), (153482, 100), (153541, 100), (153559, 100), (153804, 100), (153846, 100), (153855, 445), (153859, 8344), (154073, 100), (154097, 100), (154108, 100), (154158, 100), (154212, 6721), (154393, 7296), (154528, 100), (154541, 6890), (154542, 100), (154618, 100), (154654, 100), (154728, 100), (154851, 100), (154991, 100), (155015, 6461), (155367, 100), (155384, 3466), (155425, 100), (155448, 100), (155490, 100), (155495, 2106), (155523, 100), (155559, 100), (155674, 9447), (155773, 100), (155776, 100), (155883, 100), (155975, 3740), (156169, 100), (156215, 5104), (156279, 100), (156359, 100), (156372, 100), (156376, 100), (156436, 100), (156494, 100), (156513, 100), (156578, 100), (156579, 100), (156623, 100), (156767, 100), (156799, 100), (156897, 100), (156970, 100), (157114, 100), (157124, 100), (157246, 100), (157411, 100), (157432, 8739), (157440, 100), (157510, 968), (157519, 5274), (157751, 100), (157830, 100), (157843, 9975), (157878, 1978), (157893, 100), (157894, 8419), (157909, 100), (157975, 6931), (157999, 1426), (158042, 2679), (158157, 100), (158450, 100), (158462, 4630), (158603, 100), (158742, 100), (158828, 100), (158862, 3720), (158865, 9522), (158904, 100), (158908, 100), (158930, 2342), (159088, 3763), (159277, 280), (159362, 100), (159374, 100), (159412, 100), (159587, 100), (159609, 1676), (159694, 1759), (159713, 3152), (159724, 792), (159742, 100), (159767, 4039), (159842, 100), (159951, 100), (160014, 100), (160036, 100), (160103, 100), (160107, 100), (160108, 100), (160110, 100), (160195, 7823), (160214, 5025), (160256, 100), (160258, 2392), (160262, 100), (160294, 100), (160296, 100), (160412, 2023), (160436, 100), (160455, 6490), (160553, 100), (160650, 100), (160807, 100), (160841, 100), (161025, 4595), (161056, 100), (161063, 100), (161070, 772), (161086, 6074), (161114, 100), (161115, 100), (161117, 100), (161303, 100), (161317, 6290), (161320, 176), (161495, 100), (161560, 100), (161614, 100), (161662, 100), (161710, 100), (161731, 100), (161742, 100), (161776, 100), (161817, 100), (161819, 100), (161820, 100), (161907, 8312), (161910, 4708), (162080, 100), (162280, 4350), (162316, 100), (162351, 8349), (162367, 100), (162435, 9538), (162458, 100), (162473, 100), (162523, 100), (162541, 100), (162564, 100), (162686, 100), (162758, 100), (162781, 100), (162819, 5162), (162949, 100), (163007, 589), (163068, 100), (163111, 100), (163157, 100), (163231, 1933), (163247, 5066), (163248, 7981), (163278, 100), (163290, 100), (163317, 100), (163410, 8908), (163426, 100), (163505, 692), (163536, 100), (163565, 100), (163568, 1478), (163622, 100), (163726, 100), (163744, 100), (163823, 100), (163830, 100), (163927, 4868), (163943, 9431), (163990, 100), (163993, 100), (164033, 607), (164045, 739), (164203, 387), (164264, 6632), (164320, 5803), (164508, 6706), (164573, 100), (164600, 201), (164663, 100), (164689, 100), (164690, 100), (164835, 3053), (164863, 100), (164891, 100), (165026, 100), (165060, 100), (165086, 100), (165202, 100), (165208, 100), (165232, 100), (165249, 100), (165323, 6479), (165344, 3797), (165428, 6774), (165578, 100), (165644, 100), (165656, 100), (165805, 100), (165895, 2552), (166038, 336), (166100, 100), (166111, 100), (166229, 100), (166233, 7708), (166243, 4575), (166251, 7860), (166261, 100), (166424, 959), (166467, 100), (166541, 3232), (166563, 100), (166668, 100), (166722, 2453), (166750, 100), (166827, 100), (166837, 100), (166968, 2681), (167033, 100), (167074, 100), (167098, 100), (167129, 100), (167135, 100), (167173, 100), (167264, 100), (167468, 6998), (167509, 2542), (167530, 100), (167582, 100), (167642, 100), (167650, 100), (167734, 100), (167746, 100), (167821, 331), (167829, 100), (168031, 8292), (168037, 100), (168038, 100), (168174, 8540), (168217, 100), (168283, 100), (168374, 100), (168463, 100), (168883, 100), (169077, 1895), (169107, 100), (169132, 100), (169136, 100), (169377, 7193), (169456, 100), (169472, 100), (169684, 100), (169705, 100), (169808, 2656), (169980, 7266), (170143, 100), (170177, 1388), (170206, 100), (170249, 2491), (170254, 7768), (170333, 100), (170340, 601), (170380, 100), (170571, 100), (170703, 100), (170825, 4087), (170858, 100), (170867, 100), (170970, 100), (171006, 9778), (171053, 4589), (171069, 100), (171134, 100), (171245, 100), (171257, 2479), (171294, 1879), (171299, 6079), (171305, 100), (171375, 1765), (171516, 100), (171624, 5849), (171709, 100), (171717, 100), (171748, 100), (171867, 100), (171942, 100), (172062, 100), (172144, 6632), (172211, 2337), (172313, 100), (172352, 1478), (172675, 100), (172787, 4350), (172988, 100), (173035, 100), (173057, 100), (173081, 67), (173205, 100), (173223, 7763), (173288, 100), (173390, 100), (173450, 100), (173552, 100), (173605, 100), (173754, 100), (173844, 8185), (173872, 5396), (173899, 4470), (173992, 3839), (174023, 100), (174049, 3423), (174311, 100), (174429, 1498), (174439, 100), (174504, 100), (174528, 100), (174540, 100), (174637, 2724), (174651, 9022), (174686, 100), (174921, 100), (174976, 100), (175206, 100), (175290, 100), (175322, 4350), (175349, 100), (175362, 100), (175427, 100), (175565, 100), (175580, 5110), (175668, 3663), (175729, 8591), (175931, 3035), (176014, 100), (176049, 100), (176103, 100), (176125, 100), (176141, 8889), (176176, 8837), (176182, 100), (176258, 100), (176295, 5120), (176413, 100), (176440, 100), (176473, 100), (176521, 7047), (176598, 5561), (176611, 4578), (176634, 100), (176652, 100), (176656, 5274), (176833, 100), (176995, 100), (177034, 8029), (177041, 4868), (177132, 100), (177270, 100), (177370, 100), (177450, 1201), (177478, 100), (177483, 100), (177511, 100), (177533, 100), (177553, 100), (177573, 100), (177604, 100), (177611, 100), (177831, 100), (177846, 8560), (177883, 3815), (177956, 1142), (178106, 100), (178143, 4350), (178161, 100), (178307, 100), (178448, 100), (178501, 100), (178534, 575), (178650, 303), (178738, 8978), (178767, 100), (178864, 100), (178904, 100), (179011, 100), (179045, 100), (179050, 100), (179087, 100), (179094, 100), (179202, 2980), (179256, 100), (179294, 1693), (179309, 100), (179419, 6230), (179429, 100), (179522, 4903), (179597, 100), (179647, 3429), (179740, 6150), (179756, 4263), (179797, 7799), (179859, 1467), (179882, 4760), (179943, 1526), (179950, 100), (179951, 100), (179953, 100), (180000, 100), (180022, 100), (180133, 100), (180259, 100), (180275, 100), (180294, 100), (180305, 100), (180384, 100), (180458, 1387), (180575, 758), (180599, 7310), (180658, 100), (180712, 410), (180721, 100), (180785, 100), (180880, 100), (180930, 100), (180964, 100), (181015, 100), (181069, 8202), (181106, 2149), (181156, 100), (181182, 100), (181199, 100), (181283, 100), (181289, 100), (181333, 1993), (181341, 100), (181369, 7116), (181397, 100), (181504, 100), (181518, 100), (181566, 100), (181572, 100), (181660, 100), (181662, 100), (181704, 6933), (181868, 100), (181928, 100), (181948, 9492), (181974, 100), (182022, 4976), (182030, 100), (182032, 100), (182131, 959), (182185, 100), (182223, 100), (182285, 100), (182356, 100), (182482, 100), (182499, 100), (182517, 100), (182585, 100), (182655, 100), (182710, 100), (182873, 100), (182897, 100), (182961, 100), (183015, 100), (183056, 7324), (183068, 123), (183145, 100), (183169, 100), (183174, 100), (183261, 100), (183286, 2264), (183332, 100), (183337, 74), (183382, 6116), (183462, 100), (183533, 100), (183546, 100), (183551, 8236), (183630, 100), (183640, 100), (183662, 100), (183683, 100), (183719, 100), (183759, 100), (183858, 6319), (183951, 100), (184130, 6931), (184221, 100), (184272, 100), (184279, 100), (184441, 100), (184457, 100), (184608, 5434), (184645, 100), (184760, 100), (184877, 100), (184917, 7883), (185039, 100), (185180, 6336), (185204, 100), (185255, 100), (185276, 9783), (185329, 100), (185366, 100), (185382, 100), (185392, 7091), (185406, 6505), (185415, 3701), (185427, 100), (185502, 100), (185594, 100), (185639, 100), (185716, 2956), (185722, 6628), (185803, 1583), (185888, 100), (185943, 100), (185962, 100), (185996, 100), (186089, 8619), (186235, 1098), (186245, 100), (186372, 100), (186481, 100), (186549, 6360), (186677, 4290), (186699, 100), (186716, 100), (186741, 100), (186758, 100), (186791, 4838), (186795, 100), (186819, 8745), (186860, 6839), (186911, 575), (186919, 100), (186941, 100), (186945, 2609), (186989, 100), (187149, 9862), (187398, 100), (187498, 100), (187573, 2921), (187636, 100), (187643, 100), (187648, 100), (187655, 4603), (187734, 100), (187742, 100), (187789, 100), (187942, 8277), (187995, 100), (188003, 100), (188106, 1473), (188130, 100), (188273, 100), (188372, 100), (188386, 100), (188418, 100), (188463, 2145), (188532, 100), (188614, 100), (188685, 100), (188692, 3797), (188698, 100), (188807, 100), (188940, 5216), (189006, 3446), (189098, 100), (189208, 100), (189373, 100), (189419, 2874), (189427, 7461), (189553, 100), (189626, 100), (189694, 100), (189778, 100), (189882, 100), (189904, 100), (189916, 336), (189928, 100), (190103, 100), (190206, 100), (190257, 100), (190334, 100), (190510, 100), (190545, 9287), (190554, 100), (190572, 100), (190593, 9811), (190623, 100), (190641, 100), (190663, 100), (190807, 100), (190851, 100), (190857, 444), (190880, 100), (190949, 100), (191148, 100), (191276, 100), (191409, 100), (191450, 100), (191575, 100), (191627, 100), (191632, 100), (191749, 100), (191753, 2608), (191834, 4026), (191838, 100), (191874, 100), (191968, 100), (192008, 100), (192101, 100), (192157, 6691), (192273, 100), (192306, 100), (192323, 100), (192365, 100), (192398, 100), (192441, 1157), (192515, 100), (192516, 100), (192727, 100), (192731, 100), (192792, 100), (192910, 100), (192921, 100), (192991, 100), (192996, 192), (193033, 3455), (193084, 5191), (193114, 3666), (193142, 4976), (193243, 100), (193370, 100), (193387, 100), (193402, 9309), (193425, 100), (193489, 8560), (193837, 3875), (193846, 6832), (193950, 100), (193953, 151), (193967, 100), (194001, 100), (194071, 100), (194217, 100), (194415, 8204), (194422, 6672), (194438, 100), (194477, 5554), (194575, 8298), (194655, 8180), (194793, 3059), (194903, 100), (194979, 100), (195018, 100), (195172, 3131), (195197, 100), (195313, 100), (195327, 2113), (195341, 100), (195397, 100), (195563, 6916), (195590, 8060), (195651, 100), (195690, 100), (195719, 2506), (195867, 100), (195975, 100), (195996, 184), (196226, 100), (196316, 100), (196333, 100), (196380, 5175), (196427, 100), (196446, 100), (196488, 100), (196595, 100), (196647, 100), (196700, 100), (196811, 100), (196884, 100), (196938, 100), (197087, 100), (197117, 100), (197213, 100), (197222, 100), (197226, 100), (197259, 6939), (197322, 100), (197431, 100), (197489, 100), (197512, 100), (197514, 810), (197571, 4822), (197666, 100), (197684, 7751), (197796, 100), (197833, 100), (197845, 9214), (197910, 4819), (198230, 9170), (198271, 100), (198292, 100), (198483, 3878), (198524, 9696), (198540, 100), (198564, 100), (198599, 100), (198666, 100), (198733, 9394), (198861, 1711), (199017, 100), (199069, 100), (199100, 7047), (199111, 100), (199135, 100), (199199, 100), (199222, 2485), (199270, 100), (199291, 7234), (199315, 100), (199349, 100), (199361, 2845), (199391, 1196), (199428, 100), (199444, 100), (199513, 2680), (199807, 9537)]\n",
      "[(32, 5441), (43, 200), (128, 125), (158, 162), (227, 9107), (235, 125), (242, 125), (290, 125), (303, 125), (490, 125), (522, 125), (623, 125), (634, 125), (668, 125), (669, 125), (717, 461), (951, 125), (984, 125), (999, 125), (1001, 125), (1080, 125), (1087, 4623), (1249, 1022), (1361, 125), (1385, 3781), (1431, 125), (1560, 125), (1871, 125), (1877, 9517), (1933, 125), (1958, 2137), (2021, 125), (2070, 8286), (2080, 4958), (2129, 125), (2192, 125), (2260, 4695), (2261, 125), (2303, 125), (2402, 91), (2492, 2504), (2499, 125), (2513, 125), (2583, 125), (2643, 125), (2667, 3856), (2676, 307), (2733, 125), (2788, 7135), (2817, 6429), (2869, 1638), (3070, 125), (3132, 5311), (3165, 125), (3169, 125), (3217, 125), (3344, 125), (3346, 125), (3391, 2405), (3556, 125), (3727, 623), (3786, 125), (3921, 3467), (3984, 125), (4038, 125), (4074, 476), (4138, 1036), (4260, 6151), (4277, 125), (4424, 125), (4425, 125), (4588, 7334), (4605, 1973), (4616, 2388), (4623, 5211), (4706, 125), (4725, 8437), (4730, 125), (4820, 599), (4829, 8031), (4935, 125), (4946, 125), (4991, 2388), (5014, 2161), (5017, 125), (5029, 3671), (5057, 632), (5193, 125), (5194, 125), (5242, 8794), (5245, 125), (5325, 125), (5414, 1746), (5463, 125), (5476, 125), (5484, 6399), (5496, 125), (5509, 125), (5518, 125), (5532, 125), (5677, 7355), (5694, 9116), (5695, 125), (5719, 125), (5762, 125), (5775, 125), (5778, 6247), (5832, 3972), (5852, 125), (5878, 125), (5910, 125), (6008, 125), (6092, 125), (6139, 125), (6172, 3638), (6187, 3350), (6209, 482), (6251, 4103), (6458, 125), (6499, 125), (6502, 125), (6519, 125), (6538, 125), (6580, 125), (6618, 125), (6623, 125), (6680, 125), (6681, 9265), (6711, 125), (6754, 125), (6769, 125), (6787, 8009), (6814, 8364), (6872, 125), (6916, 2080), (6931, 708), (6940, 6496), (7020, 9293), (7037, 125), (7092, 125), (7317, 5097), (7443, 3845), (7557, 8028), (7570, 125), (7602, 125), (7654, 4307), (7822, 7565), (7863, 7270), (7907, 125), (7917, 8919), (7983, 125), (8028, 125), (8032, 2612), (8085, 125), (8108, 125), (8123, 125), (8266, 6018), (8277, 6451), (8279, 125), (8290, 125), (8397, 125), (8424, 5514), (8462, 125), (8466, 2011), (8511, 2691), (8512, 125), (8531, 125), (8579, 4415), (8585, 4340), (8593, 5806), (8639, 3253), (8721, 6855), (8808, 5347), (8876, 125), (8892, 1985), (8924, 125), (8947, 5525), (8955, 125), (8984, 125), (8986, 125), (8994, 237), (9164, 125), (9169, 125), (9174, 2519), (9181, 125), (9423, 125), (9443, 125), (9479, 125), (9509, 125), (9540, 125), (9541, 125), (9606, 125), (9637, 125), (9869, 125), (9968, 125), (10051, 4914), (10053, 125), (10117, 7997), (10221, 125), (10339, 125), (10448, 5537), (10498, 125), (10547, 125), (10551, 8093), (10665, 125), (10707, 3343), (10735, 125), (10747, 125), (10753, 125), (10800, 839), (10859, 125), (10877, 125), (10904, 125), (10949, 125), (10959, 125), (10994, 125), (10995, 4627), (11066, 125), (11211, 7025), (11232, 125), (11239, 4297), (11275, 125), (11378, 125), (11700, 2177), (11807, 2506), (11866, 125), (11929, 125), (11935, 125), (11936, 125), (12068, 125), (12082, 3519), (12129, 125), (12158, 1215), (12428, 4857), (12444, 125), (12446, 125), (12479, 2338), (12492, 125), (12513, 7515), (12549, 125), (12580, 125), (12646, 9590), (12700, 125), (12728, 125), (12949, 125), (12971, 7340), (12974, 8691), (12992, 125), (13045, 125), (13090, 125), (13102, 125), (13111, 125), (13144, 125), (13203, 125), (13242, 125), (13265, 125), (13275, 125), (13441, 1875), (13470, 125), (13501, 125), (13537, 7651), (13554, 125), (13626, 125), (13712, 125), (13731, 125), (13745, 7340), (13777, 125), (13807, 4961), (13817, 6284), (13836, 5082), (13859, 125), (13872, 125), (13909, 125), (13915, 125), (13948, 125), (14034, 7434), (14065, 125), (14140, 125), (14168, 125), (14211, 5629), (14274, 125), (14295, 125), (14296, 6980), (14415, 125), (14430, 125), (14447, 125), (14502, 8649), (14505, 6737), (14529, 125), (14627, 2531), (14690, 4090), (14878, 9901), (14880, 125), (15008, 7377), (15104, 8904), (15216, 125), (15347, 6774), (15398, 125), (15546, 125), (15552, 125), (15561, 8752), (15593, 125), (15926, 9773), (16115, 4101), (16128, 125), (16132, 1603), (16169, 125), (16264, 4670), (16293, 9910), (16315, 8703), (16341, 1690), (16428, 3254), (16507, 1030), (16616, 8898), (16621, 8779), (16739, 4362), (16790, 125), (16808, 125), (16812, 4868), (16817, 125), (16859, 125), (16885, 125), (16960, 125), (16965, 125), (17103, 125), (17239, 125), (17252, 125), (17255, 6705), (17329, 6446), (17450, 125), (17451, 2061), (17457, 7232), (17599, 8654), (17647, 77), (17673, 125), (17685, 125), (17725, 125), (17954, 8606), (17975, 125), (17990, 125), (18070, 125), (18111, 125), (18173, 9507), (18240, 153), (18294, 125), (18327, 125), (18396, 9203), (18397, 8201), (18562, 125), (18567, 125), (18617, 125), (18620, 2102), (18670, 125), (18674, 125), (18744, 4698), (18829, 125), (18944, 2606), (18953, 2519), (19086, 125), (19101, 5967), (19178, 125), (19219, 125), (19225, 125), (19334, 125), (19359, 125), (19362, 125), (19397, 2015), (19411, 125), (19417, 125), (19426, 125), (19482, 125), (19529, 306), (19544, 125), (19665, 125), (19760, 125), (19828, 125), (19908, 125), (19988, 125), (20111, 7594), (20142, 125), (20246, 125), (20330, 125), (20343, 125), (20353, 412), (20359, 4868), (20364, 125), (20468, 3963), (20486, 125), (20637, 6850), (20672, 125), (20707, 7848), (20762, 125), (20867, 125), (21010, 125), (21061, 7698), (21214, 30), (21220, 125), (21233, 125), (21237, 8673), (21260, 125), (21395, 125), (21409, 125), (21480, 5795), (21523, 5730), (21627, 5583), (21628, 2519), (21645, 125), (21659, 820), (21852, 125), (21999, 125), (22037, 125), (22077, 8103), (22157, 9823), (22297, 125), (22365, 125), (22411, 125), (22444, 4868), (22478, 125), (22522, 125), (22523, 125), (22559, 4586), (22670, 7206), (22756, 125), (22777, 125), (22778, 9164), (22783, 2169), (22883, 1427), (22897, 6630), (22993, 125), (23144, 125), (23272, 125), (23299, 125), (23328, 125), (23349, 2680), (23441, 125), (23598, 125), (23733, 2359), (23829, 125), (23897, 125), (23916, 5915), (23942, 125), (23985, 125), (24096, 125), (24211, 125), (24427, 616), (24465, 125), (24490, 8664), (24495, 125), (24593, 9406), (24614, 125), (24672, 7756), (24722, 4586), (24789, 125), (24870, 7986), (24993, 125), (25027, 6849), (25085, 125), (25086, 125), (25133, 125), (25203, 125), (25205, 125), (25248, 9184), (25319, 5679), (25376, 125), (25407, 125), (25549, 125), (25550, 2906), (25593, 125), (25724, 125), (25777, 125), (25959, 125), (25976, 8293), (25984, 125), (26045, 9617), (26075, 9962), (26089, 125), (26108, 2388), (26146, 3246), (26160, 125), (26221, 125), (26242, 6873), (26290, 4337), (26296, 125), (26316, 7218), (26320, 125), (26352, 125), (26476, 125), (26477, 125), (26602, 8952), (26673, 625), (26727, 125), (26739, 125), (26922, 125), (27054, 1456), (27089, 125), (27131, 2359), (27174, 125), (27272, 125), (27309, 125), (27341, 6732), (27396, 125), (27436, 125), (27444, 541), (27468, 1663), (27473, 8378), (27522, 5514), (27538, 991), (27609, 1399), (27650, 125), (27692, 6008), (27742, 2388), (27744, 5270), (27783, 125), (27876, 7565), (27886, 125), (27919, 125), (27924, 125), (27950, 7694), (27963, 125), (28057, 125), (28105, 4297), (28145, 125), (28219, 125), (28336, 125), (28361, 125), (28385, 125), (28475, 125), (28523, 125), (28565, 125), (28651, 125), (28657, 125), (28690, 1421), (28844, 634), (29113, 4030), (29171, 125), (29234, 125), (29265, 4488), (29338, 9981), (29411, 3660), (29433, 4520), (29511, 125), (29540, 125), (29585, 125), (29642, 125), (29686, 125), (29811, 1146), (29841, 7189), (29873, 4770), (29998, 125), (30021, 125), (30024, 289), (30026, 125), (30037, 125), (30087, 125), (30173, 125), (30181, 2932), (30204, 7656), (30348, 125), (30393, 7034), (30403, 125), (30469, 6293), (30473, 125), (30524, 125), (30597, 125), (30612, 7325), (30701, 5812), (30714, 9091), (30756, 125), (30762, 125), (30786, 125), (30832, 125), (30929, 125), (31102, 5625), (31129, 125), (31166, 5713), (31292, 125), (31331, 7451), (31341, 125), (31380, 9574), (31518, 125), (31550, 7865), (31593, 6998), (31621, 125), (31704, 3727), (31824, 125), (31878, 6021), (31964, 125), (32057, 125), (32080, 125), (32121, 125), (32145, 125), (32258, 125), (32265, 4413), (32339, 125), (32343, 125), (32378, 125), (32505, 7526), (32512, 301), (32522, 125), (32554, 125), (32698, 1613), (32738, 125), (32807, 125), (32880, 125), (32951, 125), (33036, 125), (33059, 125), (33157, 125), (33214, 125), (33244, 4297), (33468, 125), (33514, 125), (33650, 9107), (33664, 554), (33682, 125), (33884, 125), (33886, 6359), (33948, 125), (33960, 125), (34007, 125), (34044, 125), (34055, 4988), (34093, 1939), (34102, 1954), (34154, 125), (34186, 125), (34197, 545), (34217, 125), (34224, 125), (34309, 6873), (34372, 1514), (34441, 6026), (34460, 125), (34473, 125), (34491, 5493), (34505, 125), (34572, 125), (34600, 7266), (34628, 1648), (34748, 125), (34771, 125), (34784, 125), (34796, 125), (34879, 125), (34967, 125), (35126, 3207), (35138, 125), (35171, 125), (35213, 125), (35244, 125), (35250, 227), (35280, 2002), (35289, 6429), (35292, 125), (35390, 125), (35491, 125), (35539, 8808), (35545, 125), (35658, 125), (35659, 125), (35685, 125), (35720, 2755), (35763, 9193), (35816, 125), (35835, 125), (35879, 125), (35921, 125), (35999, 125), (36045, 125), (36118, 125), (36124, 5600), (36273, 125), (36338, 125), (36380, 125), (36415, 125), (36455, 125), (36471, 125), (36500, 125), (36555, 125), (36597, 4979), (36713, 8636), (36742, 125), (36872, 125), (36909, 125), (37058, 125), (37147, 125), (37285, 125), (37287, 125), (37351, 5034), (37368, 125), (37398, 3724), (37422, 1919), (37444, 125), (37502, 9690), (37515, 125), (37538, 125), (37640, 8540), (37853, 2825), (37929, 8364), (38120, 8734), (38160, 125), (38182, 125), (38244, 6917), (38253, 125), (38364, 26), (38365, 125), (38372, 125), (38504, 125), (38543, 125), (38636, 9964), (38727, 125), (38863, 1855), (38864, 125), (38908, 3352), (38960, 125), (39104, 125), (39179, 125), (39190, 1267), (39321, 125), (39392, 125), (39471, 125), (39536, 125), (39574, 125), (39662, 125), (39754, 125), (39761, 9500), (39775, 125), (39864, 7379), (39900, 7637), (40102, 125), (40147, 125), (40149, 125), (40241, 125), (40384, 125), (40468, 9613), (40586, 2357), (40631, 125), (40655, 6603), (40859, 976), (40950, 125), (40998, 125), (41033, 1536), (41042, 125), (41367, 125), (41461, 2128), (41502, 7294), (41515, 125), (41520, 5428), (41569, 1255), (41668, 7670), (41713, 125), (41802, 6341), (41891, 3559), (41905, 125), (41982, 475), (42030, 5894), (42191, 125), (42204, 125), (42236, 125), (42281, 125), (42360, 125), (42471, 125), (42511, 5919), (42613, 125), (42678, 4908), (42778, 125), (42963, 125), (42973, 2850), (42981, 125), (42983, 125), (42996, 1380), (43013, 793), (43027, 125), (43134, 125), (43174, 125), (43237, 125), (43379, 5936), (43441, 7803), (43535, 125), (43539, 9562), (43601, 125), (43677, 8311), (43682, 125), (43690, 125), (43701, 125), (43783, 125), (43797, 4801), (43802, 125), (43880, 4365), (43931, 3296), (43933, 125), (43942, 125), (43945, 125), (44000, 8925), (44008, 125), (44087, 1459), (44126, 125), (44150, 125), (44159, 125), (44220, 125), (44234, 1477), (44322, 125), (44332, 125), (44390, 7533), (44445, 125), (44449, 125), (44611, 6653), (44635, 125), (44638, 125), (44648, 125), (44664, 2554), (44710, 125), (44784, 6150), (45034, 2299), (45115, 5501), (45229, 6038), (45342, 125), (45355, 125), (45428, 1370), (45478, 7322), (45488, 2604), (45502, 4297), (45541, 125), (45682, 3221), (45758, 3260), (45814, 125), (45945, 7179), (45957, 125), (46124, 125), (46330, 3551), (46342, 6679), (46388, 4365), (46534, 1015), (46587, 125), (46589, 125), (46652, 125), (46840, 7925), (46851, 7848), (46867, 125), (46952, 125), (47014, 125), (47101, 125), (47106, 125), (47160, 125), (47195, 125), (47323, 447), (47339, 6694), (47365, 6850), (47383, 4297), (47390, 1053), (47440, 9578), (47474, 4238), (47619, 125), (47645, 8901), (47666, 125), (47777, 125), (47805, 125), (47852, 125), (48164, 125), (48283, 7369), (48351, 125), (48378, 2134), (48423, 125), (48450, 125), (48495, 1258), (48508, 6451), (48517, 125), (48593, 125), (48635, 762), (48658, 125), (48752, 8423), (48759, 125), (48868, 125), (48924, 125), (49033, 125), (49048, 125), (49056, 125), (49106, 4445), (49251, 4280), (49306, 125), (49464, 125), (49537, 697), (49644, 125), (49687, 125), (49730, 125), (49766, 8343), (49951, 125), (49962, 125), (50035, 125), (50073, 125), (50080, 125), (50095, 125), (50110, 125), (50161, 125), (50175, 125), (50196, 125), (50243, 7172), (50394, 125), (50507, 125), (50530, 125), (50535, 125), (50654, 9053), (50715, 30), (50816, 125), (51152, 1896), (51154, 6303), (51185, 6184), (51214, 125), (51258, 938), (51267, 447), (51381, 125), (51560, 7515), (51576, 125), (51618, 125), (51673, 6172), (51687, 4148), (51697, 125), (51707, 1505), (51775, 125), (51782, 125), (51821, 125), (51853, 238), (51867, 125), (51879, 125), (52049, 1120), (52064, 130), (52153, 3550), (52207, 7848), (52269, 4481), (52327, 4411), (52340, 3971), (52420, 125), (52423, 125), (52498, 920), (52532, 8391), (52747, 125), (52804, 3953), (52816, 4696), (52833, 125), (52846, 125), (52857, 1899), (52863, 125), (52884, 125), (52892, 125), (52931, 125), (53057, 125), (53295, 7565), (53296, 3940), (53316, 1405), (53328, 7401), (53363, 125), (53366, 125), (53534, 8589), (53558, 125), (53562, 125), (53661, 3555), (53676, 125), (53719, 125), (53776, 125), (53825, 125), (53864, 125), (53883, 125), (54033, 5513), (54048, 3829), (54114, 125), (54118, 125), (54144, 6589), (54262, 125), (54274, 1034), (54310, 125), (54405, 125), (54459, 3504), (54599, 125), (54607, 125), (54746, 125), (54783, 125), (54850, 1706), (54889, 125), (54922, 125), (54961, 125), (55077, 5861), (55092, 125), (55141, 125), (55143, 125), (55253, 125), (55269, 3389), (55332, 125), (55434, 125), (55448, 125), (55589, 125), (55607, 4106), (55616, 125), (55622, 125), (55770, 125), (55809, 125), (55847, 125), (55889, 125), (56056, 125), (56158, 125), (56162, 6600), (56264, 125), (56370, 125), (56407, 125), (56428, 7309), (56493, 125), (56786, 125), (56857, 2641), (56941, 125), (56956, 9923), (56976, 4409), (56981, 125), (56985, 125), (57009, 6713), (57010, 125), (57192, 6850), (57259, 125), (57270, 125), (57344, 125), (57380, 125), (57540, 125), (57620, 125), (57836, 125), (57916, 125), (57967, 248), (57981, 8072), (57985, 5326), (57990, 6461), (58040, 3313), (58098, 125), (58134, 125), (58207, 1103), (58246, 9413), (58258, 125), (58361, 125), (58376, 125), (58427, 6450), (58438, 307), (58439, 5844), (58506, 6592), (58590, 1137), (58617, 3960), (58638, 125), (58654, 125), (58672, 2425), (58757, 9505), (58794, 125), (58821, 6953), (58920, 5305), (59048, 125), (59081, 125), (59089, 125), (59119, 125), (59124, 125), (59134, 125), (59153, 125), (59159, 125), (59161, 6873), (59199, 125), (59213, 9764), (59378, 2388), (59380, 4364), (59389, 5252), (59416, 125), (59532, 125), (59563, 4004), (59588, 125), (59651, 125), (59665, 2175), (59802, 125), (59845, 7486), (59882, 125), (59883, 125), (60037, 7379), (60050, 125), (60110, 125), (60285, 125), (60383, 125), (60470, 3194), (60495, 7457), (60631, 125), (60728, 125), (60744, 9758), (60753, 9252), (60821, 125), (60859, 4586), (61040, 3843), (61071, 7670), (61115, 125), (61205, 4050), (61321, 2597), (61380, 3763), (61443, 9540), (61672, 125), (61776, 125), (61781, 125), (61841, 125), (61894, 125), (61961, 125), (62058, 125), (62143, 125), (62175, 125), (62242, 125), (62250, 125), (62316, 979), (62406, 3893), (62489, 125), (62702, 125), (62716, 125), (62725, 7328), (62807, 125), (62854, 125), (62898, 125), (62904, 125), (62906, 125), (62988, 125), (63020, 125), (63097, 125), (63199, 125), (63282, 1440), (63325, 7457), (63328, 125), (63329, 125), (63362, 125), (63389, 125), (63441, 125), (63520, 125), (63526, 125), (63606, 3718), (63609, 125), (63626, 125), (63675, 125), (63681, 6585), (63701, 125), (63743, 125), (63821, 8735), (63900, 125), (64109, 125), (64121, 6593), (64187, 125), (64244, 125), (64272, 125), (64331, 125), (64432, 6850), (64443, 125), (64479, 125), (64610, 125), (64741, 1954), (64874, 125), (64890, 6742), (64901, 125), (65038, 9679), (65080, 125), (65098, 125), (65121, 131), (65137, 5950), (65161, 125), (65395, 125), (65414, 125), (65419, 125), (65585, 9917), (65798, 125), (65833, 125), (65835, 125), (65904, 125), (66037, 7383), (66127, 1879), (66170, 4830), (66315, 125), (66583, 125), (66758, 3668), (66759, 8783), (66763, 125), (66847, 125), (66895, 3665), (67016, 2148), (67019, 125), (67043, 6366), (67116, 125), (67146, 7457), (67348, 125), (67424, 125), (67436, 4698), (67439, 3851), (67460, 6817), (67646, 125), (67703, 125), (67705, 125), (67828, 125), (67839, 2689), (67843, 576), (67856, 234), (67905, 6812), (68025, 125), (68073, 125), (68113, 125), (68141, 125), (68201, 427), (68211, 125), (68226, 2388), (68301, 9709), (68303, 125), (68509, 125), (68517, 125), (68575, 125), (68589, 2805), (68623, 125), (68751, 125), (68793, 125), (68882, 125), (68883, 125), (68927, 125), (68944, 125), (69117, 9008), (69420, 1196), (69441, 2176), (69501, 1903), (69554, 2997), (69590, 125), (69614, 125), (69682, 3828), (69715, 125), (69783, 125), (69809, 4583), (69899, 125), (69993, 125), (70053, 125), (70101, 4297), (70105, 7691), (70293, 125), (70310, 125), (70338, 125), (70341, 1847), (70474, 3776), (70538, 4166), (70583, 125), (70664, 125), (70716, 125), (70809, 125), (70815, 125), (70819, 125), (70836, 5964), (70892, 125), (70899, 125), (70935, 125), (70987, 125), (71000, 509), (71007, 125), (71051, 8595), (71119, 4659), (71132, 125), (71182, 125), (71204, 125), (71383, 2412), (71403, 125), (71534, 125), (71595, 125), (71625, 9071), (71639, 125), (71742, 125), (71815, 2064), (71966, 125), (71973, 125), (71999, 6018), (72021, 2288), (72284, 125), (72295, 4078), (72302, 125), (72325, 125), (72340, 5801), (72361, 8750), (72384, 125), (72392, 125), (72408, 125), (72444, 5196), (72450, 6513), (72487, 125), (72523, 7927), (72591, 125), (72697, 125), (72698, 125), (72725, 6790), (72819, 125), (72832, 125), (72842, 7848), (72874, 125), (72891, 125), (72913, 9202), (72942, 125), (72951, 5278), (72953, 125), (72961, 6850), (72962, 125), (73016, 6598), (73072, 8232), (73192, 125), (73267, 125), (73408, 125), (73413, 125), (73420, 125), (73432, 6661), (73531, 125), (73698, 125), (73760, 125), (73873, 6943), (73916, 125), (74015, 2597), (74024, 2948), (74272, 125), (74285, 125), (74343, 125), (74351, 125), (74359, 2102), (74361, 8012), (74421, 125), (74475, 125), (74555, 125), (74642, 125), (74735, 125), (74774, 711), (74790, 125), (74873, 264), (74945, 125), (74968, 125), (74999, 125), (75033, 125), (75127, 125), (75187, 8318), (75223, 8583), (75244, 8642), (75271, 125), (75399, 125), (75412, 125), (75454, 125), (75555, 8533), (75556, 7848), (75614, 125), (75630, 125), (75636, 1306), (75637, 8666), (75685, 125), (75691, 125), (75756, 6149), (75771, 7924), (75875, 665), (76000, 8617), (76108, 6613), (76145, 125), (76154, 125), (76176, 125), (76287, 4598), (76390, 125), (76428, 125), (76438, 125), (76523, 125), (76743, 125), (76912, 6899), (76943, 125), (77013, 125), (77056, 4297), (77070, 125), (77073, 125), (77166, 125), (77188, 6446), (77244, 5514), (77255, 125), (77286, 125), (77319, 4327), (77325, 125), (77340, 9026), (77378, 125), (77402, 125), (77452, 7848), (77553, 4918), (77685, 938), (77716, 6713), (77719, 125), (77763, 125), (77823, 125), (77871, 2116), (77876, 125), (77917, 6853), (78123, 125), (78166, 125), (78382, 125), (78396, 125), (78425, 3174), (78429, 125), (78492, 125), (78571, 1903), (78649, 125), (78668, 1825), (78677, 125), (78714, 125), (78764, 125), (78840, 125), (78898, 125), (78932, 1844), (78942, 125), (78948, 125), (78970, 125), (79012, 125), (79115, 3994), (79123, 125), (79143, 6565), (79151, 5514), (79197, 125), (79311, 7605), (79337, 125), (79380, 125), (79402, 125), (79522, 3315), (79525, 3464), (79588, 125), (79605, 5478), (79607, 125), (79631, 2785), (79735, 125), (79786, 8876), (79835, 7724), (79885, 125), (79959, 125), (80008, 6038), (80051, 125), (80089, 5705), (80120, 125), (80186, 125), (80205, 125), (80224, 625), (80304, 3012), (80305, 125), (80311, 2100), (80330, 125), (80350, 125), (80362, 125), (80408, 2161), (80413, 125), (80469, 125), (80504, 8699), (80535, 125), (80578, 125), (80583, 125), (80662, 125), (80669, 9978), (80694, 125), (80825, 125), (80868, 125), (81093, 125), (81191, 125), (81205, 125), (81215, 125), (81305, 3187), (81378, 125), (81418, 2363), (81428, 9384), (81520, 125), (81540, 8836), (81558, 625), (81563, 125), (81608, 2097), (81642, 125), (81663, 125), (81668, 125), (81675, 125), (81712, 6221), (81840, 7999), (81852, 125), (81872, 125), (81900, 3614), (81914, 6850), (81916, 1954), (82009, 125), (82049, 7928), (82058, 125), (82073, 5005), (82199, 3592), (82264, 7800), (82279, 3119), (82283, 6679), (82317, 6203), (82333, 4868), (82370, 125), (82615, 125), (82623, 125), (82702, 125), (82739, 1204), (82896, 125), (83037, 9638), (83041, 125), (83066, 125), (83111, 4801), (83174, 1687), (83187, 3453), (83208, 125), (83307, 1022), (83461, 125), (83463, 125), (83490, 5286), (83513, 125), (83564, 125), (83596, 4032), (83645, 125), (83703, 125), (83710, 125), (83737, 125), (83745, 101), (83746, 125), (83794, 125), (83843, 125), (83844, 8798), (83889, 125), (83923, 125), (83954, 125), (84024, 125), (84091, 125), (84262, 125), (84409, 7831), (84443, 125), (84449, 4830), (84462, 125), (84547, 125), (84621, 125), (84653, 125), (84846, 125), (84918, 125), (84921, 9937), (85138, 3768), (85152, 9601), (85185, 4135), (85367, 4669), (85443, 7898), (85569, 7270), (85641, 4323), (85712, 125), (85729, 125), (85735, 125), (85802, 125), (85831, 9672), (85908, 125), (85974, 3991), (86036, 125), (86170, 125), (86201, 125), (86228, 125), (86315, 125), (86327, 125), (86500, 125), (86581, 7090), (86889, 1785), (86923, 125), (86929, 125), (86941, 2080), (86978, 125), (87008, 8211), (87037, 125), (87053, 125), (87054, 125), (87093, 5192), (87168, 7082), (87169, 125), (87240, 6620), (87254, 125), (87267, 125), (87338, 6141), (87369, 3224), (87381, 125), (87417, 125), (87441, 864), (87500, 125), (87564, 9162), (87759, 2366), (87789, 125), (87795, 9595), (87836, 125), (88042, 125), (88135, 125), (88197, 6005), (88264, 125), (88337, 9177), (88413, 125), (88422, 6850), (88458, 125), (88465, 9590), (88489, 125), (88498, 125), (88719, 5367), (88784, 8252), (88785, 922), (88799, 9129), (88808, 3555), (88815, 125), (89015, 3942), (89094, 125), (89165, 125), (89168, 8675), (89193, 125), (89345, 125), (89383, 125), (89403, 8628), (89470, 125), (89510, 125), (89584, 125), (89635, 125), (89725, 125), (89789, 9870), (89823, 125), (89868, 698), (89925, 6675), (89934, 261), (89983, 7848), (90084, 3929), (90111, 2120), (90260, 2906), (90298, 125), (90319, 2169), (90321, 1894), (90399, 125), (90442, 4849), (90447, 125), (90551, 125), (90560, 4868), (90744, 125), (90821, 125), (90845, 125), (90870, 125), (90880, 125), (90886, 125), (90899, 125), (91013, 5555), (91024, 125), (91062, 9788), (91361, 153), (91367, 1001), (91446, 6850), (91462, 125), (91513, 125), (91529, 125), (91574, 125), (91607, 125), (91658, 125), (91705, 9055), (91710, 125), (91730, 125), (91856, 125), (91881, 125), (91885, 125), (91988, 125), (92080, 125), (92199, 125), (92258, 324), (92344, 125), (92350, 9497), (92405, 125), (92444, 125), (92463, 5825), (92524, 1683), (92542, 125), (92565, 3405), (92605, 8364), (92632, 125), (92670, 6407), (92696, 125), (92802, 9551), (92911, 3683), (92938, 3557), (92984, 125), (93059, 125), (93097, 125), (93168, 125), (93194, 125), (93233, 9841), (93295, 125), (93347, 5514), (93443, 5514), (93605, 125), (93764, 125), (93950, 125), (93955, 125), (94018, 125), (94221, 125), (94231, 125), (94384, 6853), (94459, 125), (94521, 125), (94538, 5404), (94951, 125), (94984, 125), (94993, 125), (95050, 125), (95064, 2851), (95158, 4131), (95253, 125), (95347, 125), (95372, 2394), (95383, 125), (95457, 5668), (95477, 125), (95544, 125), (95545, 6850), (95609, 6230), (95721, 5915), (95779, 1904), (95808, 125), (95905, 125), (96000, 125), (96073, 125), (96078, 125), (96174, 125), (96231, 4677), (96422, 125), (96508, 9588), (96661, 7739), (96819, 5767), (96840, 125), (96860, 125), (96891, 5449), (96917, 9842), (96975, 125), (97074, 5749), (97086, 125), (97116, 125), (97163, 125), (97183, 125), (97336, 6033), (97340, 7736), (97470, 7500), (97490, 3647), (97600, 125), (97631, 3953), (97701, 125), (97961, 8046), (97965, 6319), (97995, 125), (98008, 125), (98085, 9991), (98171, 125), (98175, 7925), (98236, 5862), (98267, 2332), (98298, 1658), (98302, 856), (98306, 125), (98318, 7919), (98409, 125), (98420, 125), (98426, 6149), (98539, 8673), (98571, 125), (98609, 125), (98626, 5629), (98698, 125), (98721, 5514), (98775, 7521), (98811, 125), (98909, 125), (98970, 125), (98975, 125), (99028, 125), (99035, 2975), (99081, 6555), (99089, 125), (99099, 125), (99168, 7251), (99173, 4055), (99235, 4407), (99248, 7679), (99250, 4289), (99254, 125), (99303, 125), (99325, 3009), (99363, 125), (99394, 9117), (99401, 125), (99430, 6984), (99446, 125), (99463, 125), (99467, 3933), (99555, 2134), (99558, 125), (99635, 6855), (99647, 1766), (99793, 125), (99831, 4671), (100043, 125), (100047, 125), (100062, 2224), (100103, 6769), (100116, 125), (100136, 125), (100208, 125), (100234, 2861), (100337, 3960), (100339, 556), (100360, 1194), (100379, 125), (100548, 125), (100572, 125), (100681, 125), (100790, 6429), (100843, 125), (100987, 8802), (101003, 2772), (101084, 125), (101291, 125), (101344, 125), (101420, 125), (101672, 2347), (101923, 125), (102001, 125), (102182, 125), (102398, 7651), (102424, 1883), (102544, 125), (102614, 5458), (102659, 6947), (102683, 3037), (102695, 4307), (102711, 125), (102778, 125), (102882, 6146), (102984, 2693), (103104, 125), (103120, 125), (103241, 125), (103422, 1190), (103432, 4507), (103436, 125), (103530, 125), (103588, 4358), (103626, 125), (103627, 5514), (103757, 2932), (103783, 7447), (103821, 125), (103836, 125), (103853, 125), (103889, 125), (103931, 7565), (103977, 638), (103979, 125), (104089, 125), (104116, 125), (104143, 125), (104181, 125), (104189, 6846), (104295, 125), (104386, 4076), (104504, 125), (104566, 8663), (104581, 125), (104759, 5054), (104803, 125), (104833, 8396), (105097, 125), (105099, 9287), (105116, 125), (105205, 125), (105212, 6577), (105244, 6850), (105386, 125), (105397, 7739), (105420, 125), (105428, 1236), (105538, 125), (105608, 8620), (105620, 125), (105688, 8237), (105749, 125), (105889, 6377), (105983, 8663), (105991, 125), (106075, 2618), (106108, 125), (106170, 7774), (106311, 125), (106442, 125), (106477, 9339), (106648, 125), (106697, 125), (106702, 492), (106707, 125), (106751, 8188), (106805, 125), (106832, 125), (106989, 5278), (106998, 8251), (107036, 125), (107044, 125), (107073, 125), (107085, 125), (107088, 3317), (107160, 6230), (107202, 125), (107229, 125), (107245, 4658), (107257, 125), (107450, 2434), (107510, 746), (107554, 125), (107716, 125), (107760, 125), (107832, 1222), (107910, 125), (107916, 938), (107980, 125), (108015, 125), (108053, 9397), (108086, 125), (108170, 125), (108184, 125), (108219, 423), (108272, 125), (108290, 125), (108346, 125), (108354, 125), (108396, 125), (108406, 125), (108812, 4521), (108872, 125), (108947, 125), (109070, 5293), (109113, 264), (109133, 125), (109138, 125), (109159, 125), (109318, 125), (109348, 125), (109350, 125), (109420, 3805), (109428, 9426), (109492, 1284), (109538, 8126), (109697, 125), (109714, 4868), (109769, 125), (109899, 3343), (109991, 125), (110025, 723), (110071, 2139), (110176, 1618), (110190, 125), (110243, 5897), (110283, 125), (110382, 125), (110384, 6104), (110607, 3441), (110611, 125), (110693, 125), (110755, 5854), (110761, 125), (110799, 3020), (110802, 2762), (110879, 125), (110961, 4659), (110993, 125), (111023, 1893), (111123, 125), (111191, 4635), (111213, 125), (111281, 125), (111295, 125), (111364, 125), (111511, 125), (111529, 125), (111532, 6530), (111585, 4870), (111588, 125), (111597, 125), (111603, 125), (111745, 125), (111763, 125), (111801, 125), (111879, 544), (111914, 125), (111946, 125), (111970, 7848), (111978, 3903), (112078, 746), (112087, 125), (112298, 6451), (112320, 125), (112391, 125), (112395, 6977), (112568, 125), (112606, 9265), (112676, 2134), (112724, 2379), (112762, 125), (112813, 125), (112885, 125), (112944, 125), (113004, 125), (113041, 125), (113115, 6178), (113176, 125), (113188, 5191), (113239, 125), (113292, 1118), (113422, 125), (113465, 125), (113493, 125), (113590, 125), (113599, 4369), (113606, 9232), (113676, 7757), (113727, 125), (113735, 125), (113773, 125), (113836, 125), (113844, 125), (114006, 125), (114046, 5258), (114061, 125), (114078, 6419), (114275, 3625), (114311, 9613), (114360, 125), (114474, 5391), (114574, 125), (114649, 125), (114717, 125), (114829, 4959), (114851, 125), (114897, 125), (114908, 6850), (114922, 3007), (114933, 2613), (114937, 7136), (114941, 125), (115008, 125), (115072, 125), (115184, 125), (115242, 125), (115254, 125), (115291, 125), (115296, 6940), (115439, 125), (115568, 125), (115597, 8264), (115622, 125), (115876, 125), (115900, 125), (115952, 125), (116004, 28), (116110, 9870), (116114, 2035), (116138, 3453), (116201, 125), (116345, 125), (116379, 553), (116380, 125), (116382, 6962), (116454, 125), (116612, 9562), (116674, 125), (116676, 125), (116718, 1225), (116929, 2378), (116984, 125), (117119, 4370), (117177, 125), (117272, 125), (117302, 6914), (117350, 3118), (117423, 125), (117453, 125), (117582, 125), (117624, 5563), (117644, 3942), (117771, 125), (117778, 509), (117800, 5877), (117805, 125), (117819, 4573), (117852, 125), (117861, 125), (117890, 125), (117913, 125), (117977, 3701), (118098, 125), (118189, 7987), (118253, 1381), (118291, 7948), (118296, 125), (118327, 125), (118463, 125), (118614, 125), (118625, 125), (118715, 7739), (118727, 1741), (118729, 125), (118758, 125), (118813, 125), (118818, 11), (118820, 125), (118857, 125), (118928, 125), (118962, 125), (118988, 9703), (119068, 125), (119092, 1133), (119130, 2388), (119131, 125), (119199, 7848), (119203, 125), (119249, 125), (119339, 125), (119363, 8878), (119392, 125), (119498, 1115), (119542, 125), (119590, 509), (119596, 125), (119597, 5517), (119608, 6112), (119712, 4209), (119746, 125), (119798, 125), (119799, 125), (119885, 8172), (119897, 125), (119972, 8471), (120120, 125), (120122, 125), (120172, 125), (120289, 2362), (120437, 3353), (120482, 125), (120723, 5735), (120747, 125), (120773, 3777), (120779, 125), (120858, 125), (120925, 4802), (121042, 125), (121081, 422), (121119, 125), (121175, 125), (121221, 9426), (121268, 2644), (121293, 125), (121640, 3927), (121650, 125), (121678, 125), (121711, 125), (121771, 3561), (121869, 125), (121891, 125), (121903, 125), (121948, 2563), (121978, 125), (122040, 125), (122133, 125), (122144, 890), (122216, 125), (122325, 125), (122398, 831), (122411, 125), (122419, 125), (122428, 125), (122625, 125), (122735, 125), (122793, 125), (122824, 8553), (122835, 8736), (122856, 9584), (123076, 125), (123102, 125), (123116, 125), (123164, 4463), (123191, 125), (123231, 125), (123259, 125), (123343, 125), (123364, 125), (123387, 5619), (123454, 125), (123605, 9098), (123679, 9368), (123703, 125), (123704, 5458), (123775, 125), (123776, 125), (123804, 125), (123822, 125), (123863, 125), (123892, 125), (123983, 7121), (123995, 125), (124048, 125), (124084, 7496), (124091, 125), (124121, 545), (124123, 125), (124125, 4658), (124224, 125), (124302, 125), (124305, 125), (124342, 125), (124445, 125), (124567, 2604), (124643, 125), (124706, 125), (124886, 122), (124921, 125), (125023, 3618), (125116, 7848), (125196, 125), (125220, 4897), (125269, 125), (125351, 8723), (125478, 125), (125521, 125), (125534, 6214), (125557, 5142), (125595, 125), (125613, 6451), (125629, 3353), (125684, 5012), (125750, 9268), (125813, 125), (125996, 125), (126072, 5008), (126099, 125), (126139, 6427), (126145, 125), (126184, 9760), (126215, 125), (126236, 125), (126278, 125), (126301, 125), (126482, 125), (126491, 125), (126506, 125), (126539, 3232), (126750, 1716), (126771, 125), (126874, 6764), (126949, 125), (126960, 125), (127003, 3343), (127049, 125), (127120, 8234), (127126, 8460), (127165, 125), (127208, 4297), (127242, 7656), (127283, 125), (127296, 4578), (127297, 125), (127331, 1822), (127340, 125), (127342, 125), (127368, 3671), (127407, 125), (127436, 7322), (127492, 125), (127507, 1319), (127514, 125), (127775, 125), (127816, 125), (127835, 125), (127867, 125), (127874, 125), (127993, 2504), (128116, 125), (128246, 125), (128280, 125), (128296, 125), (128311, 125), (128370, 8271), (128395, 125), (128423, 1767), (128459, 125), (128492, 6309), (128539, 9163), (128546, 125), (128603, 1954), (128612, 5905), (128659, 125), (128705, 125), (128732, 125), (128738, 125), (128740, 125), (128820, 125), (128883, 1957), (128893, 4802), (128900, 125), (128960, 6184), (128991, 264), (129156, 125), (129187, 125), (129197, 3888), (129299, 125), (129347, 125), (129421, 6376), (129546, 2664), (129737, 359), (129852, 125), (129981, 8172), (130006, 5968), (130125, 125), (130206, 125), (130498, 6674), (130505, 125), (130591, 125), (130613, 125), (130642, 125), (130650, 125), (130708, 7848), (130716, 125), (130723, 2161), (130736, 125), (130786, 125), (130787, 2117), (130864, 6607), (130909, 125), (130939, 125), (130970, 125), (130973, 125), (131108, 125), (131208, 125), (131301, 125), (131322, 673), (131327, 125), (131403, 9195), (131416, 125), (131439, 125), (131540, 125), (131588, 125), (131597, 9309), (131612, 125), (131731, 125), (131735, 125), (131831, 2135), (131852, 125), (132047, 125), (132143, 2906), (132217, 125), (132232, 125), (132254, 1106), (132305, 125), (132431, 125), (132440, 2873), (132657, 6291), (132688, 2981), (132717, 125), (132721, 125), (132729, 1536), (132763, 125), (132767, 125), (132821, 2134), (132866, 7755), (132949, 125), (133111, 125), (133114, 125), (133131, 125), (133204, 125), (133208, 815), (133211, 125), (133212, 125), (133240, 125), (133380, 4568), (133444, 125), (133474, 125), (133509, 125), (133514, 9098), (133532, 6557), (133686, 125), (133701, 125), (133707, 125), (133838, 125), (133849, 125), (133867, 125), (133889, 125), (134001, 3205), (134064, 125), (134099, 125), (134102, 125), (134120, 2666), (134289, 4868), (134323, 541), (134337, 9782), (134365, 125), (134427, 8971), (134463, 125), (134514, 125), (134539, 2134), (134551, 958), (134561, 125), (134722, 3244), (134756, 125), (134917, 125), (134974, 6994), (135075, 5671), (135160, 125), (135401, 125), (135592, 8199), (135651, 125), (135744, 1431), (135774, 125), (135819, 125), (135835, 125), (135871, 125), (136007, 125), (136033, 125), (136043, 4098), (136045, 8794), (136127, 125), (136211, 125), (136212, 125), (136307, 288), (136463, 125), (136467, 8510), (136477, 125), (136616, 125), (136621, 125), (136623, 125), (136652, 125), (136720, 125), (136729, 9021), (136739, 125), (136885, 125), (136892, 7530), (136895, 125), (136900, 125), (136939, 125), (136964, 125), (137005, 5832), (137014, 125), (137092, 125), (137157, 125), (137183, 6713), (137340, 125), (137363, 125), (137398, 125), (137422, 125), (137434, 125), (137447, 125), (137550, 1055), (137573, 125), (137634, 1767), (137776, 125), (137856, 3099), (137980, 125), (137987, 125), (138091, 125), (138104, 1676), (138138, 2469), (138244, 125), (138302, 125), (138470, 9335), (138472, 9351), (138643, 125), (138792, 125), (138828, 125), (138848, 125), (138857, 2176), (138884, 8890), (139029, 7040), (139033, 8512), (139046, 125), (139097, 8251), (139199, 125), (139243, 399), (139300, 125), (139322, 125), (139331, 7464), (139341, 125), (139369, 3073), (139462, 125), (139480, 4917), (139511, 69), (139534, 125), (139606, 7926), (139632, 125), (139732, 1213), (139818, 7534), (139825, 5532), (139871, 125), (139911, 5829), (139933, 125), (140002, 125), (140172, 125), (140176, 8887), (140190, 125), (140446, 125), (140544, 125), (140560, 8566), (140593, 125), (140598, 125), (140623, 125), (140665, 724), (140786, 7512), (140799, 1977), (140801, 125), (140820, 125), (140839, 125), (140888, 9200), (140938, 125), (141004, 4083), (141099, 594), (141104, 7379), (141113, 125), (141129, 125), (141141, 8048), (141206, 125), (141347, 7976), (141452, 125), (141492, 125), (141513, 3693), (141574, 125), (141655, 1948), (141685, 125), (141719, 1295), (141721, 125), (141764, 5115), (141854, 7848), (141959, 7107), (141974, 4557), (142126, 5215), (142159, 125), (142185, 125), (142205, 679), (142221, 125), (142227, 125), (142262, 125), (142287, 125), (142351, 8401), (142396, 125), (142408, 5884), (142410, 5278), (142453, 165), (142494, 125), (142623, 3240), (142650, 125), (142668, 125), (142689, 1509), (142697, 125), (142718, 125), (142747, 125), (142784, 125), (142885, 125), (142904, 125), (142965, 3464), (142997, 501), (143110, 125), (143208, 125), (143274, 125), (143301, 3944), (143413, 125), (143455, 7457), (143482, 125), (143553, 125), (143580, 125), (143611, 6869), (143635, 125), (143678, 4120), (143680, 125), (143718, 125), (143851, 125), (143907, 2810), (144082, 125), (144105, 6155), (144241, 125), (144244, 9173), (144257, 5420), (144280, 240), (144375, 7956), (144470, 125), (144529, 2266), (144530, 125), (144549, 7691), (144573, 125), (144627, 7534), (144639, 125), (144680, 125), (144739, 125), (144774, 1741), (144868, 8958), (144939, 2692), (145044, 125), (145060, 8491), (145085, 125), (145195, 125), (145334, 1189), (145342, 125), (145366, 125), (145553, 8682), (145555, 125), (145558, 5403), (145570, 125), (145667, 2739), (145716, 6485), (145734, 5921), (145760, 5328), (145887, 125), (145915, 9788), (146227, 125), (146300, 125), (146332, 125), (146339, 125), (146344, 5106), (146431, 5541), (146454, 125), (146467, 5866), (146495, 125), (146609, 125), (146677, 125), (146750, 125), (146806, 125), (146908, 616), (146946, 9613), (147058, 8750), (147095, 125), (147099, 2470), (147138, 125), (147273, 125), (147280, 125), (147319, 1102), (147356, 125), (147363, 125), (147436, 125), (147459, 7769), (147468, 125), (147563, 125), (147683, 125), (147697, 7387), (147790, 125), (147852, 8750), (147928, 125), (147933, 125), (147966, 125), (148020, 1093), (148038, 6904), (148109, 125), (148155, 4158), (148206, 125), (148210, 9996), (148349, 125), (148443, 3100), (148446, 125), (148504, 125), (148596, 125), (148607, 125), (148780, 125), (148894, 125), (148963, 763), (148964, 125), (149023, 125), (149037, 4870), (149061, 4142), (149083, 109), (149189, 125), (149192, 8874), (149254, 1123), (149281, 4055), (149602, 2239), (149616, 125), (149648, 125), (149675, 125), (149738, 5155), (149744, 1063), (149772, 1698), (149882, 125), (149895, 4980), (149932, 125), (149948, 125), (149980, 125), (150013, 125), (150130, 125), (150154, 125), (150158, 7694), (150208, 125), (150226, 3411), (150283, 125), (150360, 2920), (150375, 125), (150405, 5916), (150410, 125), (150657, 125), (150662, 6805), (150744, 125), (150896, 7391), (150906, 9162), (150927, 125), (150932, 2051), (150964, 8958), (151080, 125), (151125, 3578), (151156, 235), (151186, 125), (151479, 5741), (151528, 9901), (151565, 4379), (151571, 4531), (151624, 6717), (151746, 7848), (151791, 125), (151849, 125), (151878, 125), (151939, 125), (151948, 125), (151970, 5567), (152005, 125), (152054, 125), (152141, 125), (152220, 125), (152274, 125), (152283, 1732), (152506, 6327), (152591, 3372), (152719, 125), (152746, 125), (152770, 125), (152789, 3572), (152898, 7860), (152933, 7105), (152972, 125), (152975, 4318), (153128, 432), (153250, 465), (153253, 5599), (153263, 125), (153290, 125), (153420, 125), (153482, 125), (153541, 125), (153559, 125), (153606, 2474), (153804, 125), (153846, 125), (154073, 125), (154076, 1804), (154097, 125), (154108, 125), (154158, 125), (154301, 5869), (154501, 7864), (154528, 125), (154542, 125), (154569, 8904), (154596, 3919), (154618, 125), (154653, 7724), (154654, 125), (154728, 125), (154737, 7197), (154851, 125), (154910, 1308), (154937, 9010), (154991, 125), (155076, 2123), (155088, 1973), (155305, 6335), (155367, 125), (155425, 125), (155448, 125), (155490, 125), (155523, 125), (155559, 125), (155772, 6677), (155773, 125), (155776, 125), (155883, 125), (156028, 2691), (156059, 3974), (156158, 2378), (156164, 5193), (156169, 125), (156221, 1114), (156270, 8613), (156279, 125), (156351, 1947), (156359, 125), (156372, 125), (156376, 125), (156394, 5890), (156436, 125), (156437, 5206), (156472, 810), (156494, 125), (156511, 9116), (156513, 125), (156578, 125), (156579, 125), (156623, 125), (156734, 2593), (156750, 6430), (156759, 15), (156767, 125), (156799, 125), (156856, 7534), (156897, 125), (156970, 125), (157114, 125), (157124, 125), (157173, 9409), (157177, 2825), (157246, 125), (157362, 2316), (157409, 33), (157411, 125), (157440, 125), (157508, 238), (157564, 6178), (157577, 1069), (157585, 9889), (157751, 125), (157780, 8423), (157799, 3502), (157830, 125), (157893, 125), (157909, 125), (158096, 7551), (158133, 7714), (158157, 125), (158194, 8342), (158294, 4137), (158327, 6660), (158450, 125), (158603, 125), (158742, 125), (158764, 7987), (158828, 125), (158877, 6711), (158904, 125), (158908, 125), (158930, 264), (159200, 1493), (159313, 6836), (159356, 6372), (159362, 125), (159374, 125), (159412, 125), (159413, 2968), (159587, 125), (159742, 125), (159747, 4623), (159842, 125), (159916, 9000), (159951, 125), (160014, 125), (160036, 125), (160103, 125), (160105, 9030), (160107, 125), (160108, 125), (160110, 125), (160157, 7085), (160168, 1895), (160256, 125), (160262, 125), (160294, 125), (160296, 125), (160436, 125), (160452, 9195), (160504, 1897), (160553, 125), (160650, 125), (160676, 5874), (160807, 125), (160834, 8434), (160841, 125), (161056, 125), (161063, 125), (161103, 4586), (161114, 125), (161115, 125), (161117, 125), (161303, 125), (161320, 6850), (161495, 125), (161532, 9195), (161560, 125), (161562, 5516), (161614, 125), (161662, 125), (161710, 125), (161731, 125), (161742, 125), (161776, 125), (161817, 125), (161819, 125), (161820, 125), (162080, 125), (162123, 343), (162168, 4604), (162191, 121), (162280, 2388), (162316, 125), (162367, 125), (162458, 125), (162473, 125), (162485, 5733), (162523, 125), (162541, 125), (162564, 125), (162658, 2576), (162673, 7757), (162686, 125), (162727, 4868), (162758, 125), (162781, 125), (162794, 2456), (162888, 8943), (162949, 125), (163003, 854), (163068, 125), (163108, 6886), (163111, 125), (163157, 125), (163210, 854), (163278, 125), (163288, 3898), (163290, 125), (163317, 125), (163389, 9017), (163426, 125), (163429, 462), (163461, 7171), (163536, 125), (163565, 125), (163622, 125), (163726, 125), (163744, 125), (163823, 125), (163830, 125), (163990, 125), (163993, 125), (164267, 5600), (164309, 8479), (164353, 4623), (164573, 125), (164663, 125), (164689, 125), (164690, 125), (164863, 125), (164891, 125), (165026, 125), (165060, 125), (165076, 613), (165086, 125), (165202, 125), (165208, 125), (165232, 125), (165249, 125), (165358, 7565), (165375, 1093), (165393, 4307), (165498, 129), (165578, 125), (165644, 125), (165656, 125), (165805, 125), (166040, 552), (166100, 125), (166111, 125), (166212, 6193), (166229, 125), (166261, 125), (166284, 5403), (166294, 6746), (166333, 9470), (166379, 1621), (166424, 4297), (166467, 125), (166551, 238), (166563, 125), (166668, 125), (166750, 125), (166761, 1903), (166780, 7374), (166827, 125), (166837, 125), (166878, 1872), (166885, 819), (166886, 288), (167022, 2653), (167033, 125), (167057, 3890), (167074, 125), (167098, 125), (167104, 9306), (167129, 125), (167135, 125), (167173, 125), (167186, 4801), (167192, 3600), (167261, 5514), (167264, 125), (167317, 1648), (167340, 7227), (167446, 1586), (167530, 125), (167582, 125), (167591, 4135), (167642, 125), (167650, 125), (167675, 4118), (167734, 125), (167746, 125), (167829, 125), (167852, 4001), (167859, 228), (167913, 9234), (168037, 125), (168038, 125), (168163, 7405), (168187, 1821), (168217, 125), (168283, 125), (168374, 125), (168463, 125), (168538, 940), (168573, 4012), (168751, 6641), (168851, 2801), (168883, 125), (168975, 3374), (169019, 2296), (169107, 125), (169132, 125), (169136, 125), (169155, 600), (169456, 125), (169472, 125), (169684, 125), (169700, 9654), (169705, 125), (169766, 3994), (169833, 4364), (169908, 1697), (170070, 8848), (170093, 9240), (170112, 8251), (170143, 125), (170166, 2551), (170171, 5558), (170206, 125), (170333, 125), (170380, 125), (170571, 125), (170588, 9992), (170633, 6136), (170703, 125), (170730, 3777), (170858, 125), (170867, 125), (170970, 125), (170973, 6307), (171069, 125), (171134, 125), (171245, 125), (171305, 125), (171317, 1261), (171348, 4868), (171516, 125), (171678, 3026), (171709, 125), (171717, 125), (171748, 125), (171867, 125), (171904, 3903), (171942, 125), (172062, 125), (172072, 3483), (172249, 5249), (172256, 9602), (172313, 125), (172333, 3001), (172383, 4843), (172505, 625), (172547, 884), (172549, 9309), (172675, 125), (172787, 2388), (172886, 3068), (172961, 5011), (172988, 125), (172990, 6364), (173035, 125), (173057, 125), (173066, 9270), (173186, 1502), (173205, 125), (173288, 125), (173390, 125), (173450, 125), (173461, 7203), (173462, 7436), (173484, 4878), (173497, 5393), (173552, 125), (173605, 125), (173613, 6668), (173754, 125), (173968, 4041), (174023, 125), (174280, 350), (174311, 125), (174379, 9661), (174408, 2666), (174439, 125), (174485, 2354), (174504, 125), (174528, 125), (174540, 125), (174599, 17), (174686, 125), (174739, 9073), (174921, 125), (174976, 125), (175082, 6606), (175206, 125), (175290, 125), (175322, 2388), (175349, 125), (175362, 125), (175427, 125), (175565, 125), (175705, 1149), (175916, 3668), (176014, 125), (176027, 3219), (176049, 125), (176103, 125), (176125, 125), (176182, 125), (176258, 125), (176315, 1561), (176317, 7627), (176371, 2571), (176413, 125), (176440, 125), (176459, 1242), (176473, 125), (176510, 1391), (176578, 220), (176634, 125), (176652, 125), (176785, 6148), (176786, 6851), (176833, 125), (176848, 3505), (176953, 4719), (176995, 125), (177132, 125), (177238, 8735), (177270, 125), (177329, 173), (177354, 3992), (177370, 125), (177475, 2506), (177478, 125), (177483, 125), (177511, 125), (177533, 125), (177553, 125), (177573, 125), (177604, 125), (177611, 125), (177650, 4364), (177831, 125), (177899, 1515), (177930, 2256), (177963, 9484), (177969, 7028), (178003, 4578), (178106, 125), (178138, 4741), (178143, 2388), (178161, 125), (178307, 125), (178417, 1386), (178448, 125), (178501, 125), (178616, 9386), (178767, 125), (178844, 9834), (178864, 125), (178904, 125), (178912, 1326), (178957, 4257), (179011, 125), (179045, 125), (179050, 125), (179087, 125), (179094, 125), (179115, 9061), (179208, 3340), (179256, 125), (179309, 125), (179429, 125), (179432, 4868), (179436, 4633), (179494, 7856), (179534, 9078), (179597, 125), (179950, 125), (179951, 125), (179953, 125), (180000, 125), (180022, 125), (180065, 2641), (180133, 125), (180259, 125), (180275, 125), (180287, 6122), (180294, 125), (180305, 125), (180384, 125), (180466, 5839), (180566, 3941), (180634, 9797), (180658, 125), (180669, 2851), (180697, 4842), (180721, 125), (180785, 125), (180880, 125), (180930, 125), (180940, 3307), (180964, 125), (181015, 125), (181078, 2018), (181141, 8684), (181156, 125), (181182, 125), (181196, 2087), (181199, 125), (181256, 5970), (181257, 794), (181283, 125), (181289, 125), (181324, 5782), (181336, 9909), (181341, 125), (181397, 125), (181445, 7530), (181504, 125), (181518, 125), (181566, 125), (181572, 125), (181628, 9731), (181660, 125), (181662, 125), (181727, 7500), (181745, 2611), (181868, 125), (181928, 125), (181974, 125), (182030, 125), (182032, 125), (182131, 4297), (182176, 2802), (182180, 6979), (182185, 125), (182223, 125), (182251, 7815), (182285, 125), (182349, 9080), (182356, 125), (182482, 125), (182499, 125), (182517, 125), (182519, 5915), (182585, 125), (182655, 125), (182710, 125), (182873, 125), (182897, 125), (182961, 125), (183015, 125), (183145, 125), (183169, 125), (183174, 125), (183215, 4658), (183261, 125), (183332, 125), (183462, 125), (183533, 125), (183546, 125), (183630, 125), (183640, 125), (183654, 11), (183662, 125), (183683, 125), (183719, 125), (183759, 125), (183840, 7164), (183951, 125), (184093, 516), (184120, 9309), (184221, 125), (184272, 125), (184279, 125), (184281, 7116), (184343, 5081), (184441, 125), (184457, 125), (184645, 125), (184760, 125), (184796, 2199), (184877, 125), (184936, 1294), (184994, 751), (185027, 4825), (185039, 125), (185164, 4616), (185204, 125), (185255, 125), (185276, 4538), (185328, 9451), (185329, 125), (185366, 125), (185382, 125), (185427, 125), (185436, 6195), (185502, 125), (185594, 125), (185606, 6960), (185639, 125), (185888, 125), (185943, 125), (185962, 125), (185996, 125), (186134, 5622), (186245, 125), (186261, 8958), (186273, 3237), (186372, 125), (186481, 125), (186654, 3374), (186699, 125), (186708, 8917), (186716, 125), (186741, 125), (186747, 5281), (186758, 125), (186795, 125), (186830, 4870), (186919, 125), (186941, 125), (186947, 9978), (186983, 6289), (186989, 125), (187172, 6596), (187277, 6708), (187291, 3410), (187367, 250), (187377, 6011), (187398, 125), (187498, 125), (187618, 815), (187636, 125), (187643, 125), (187648, 125), (187715, 3693), (187734, 125), (187742, 125), (187789, 125), (187837, 4749), (187964, 5832), (187995, 125), (188003, 125), (188028, 6542), (188130, 125), (188273, 125), (188372, 125), (188386, 125), (188418, 125), (188532, 125), (188595, 5077), (188614, 125), (188672, 9203), (188685, 125), (188698, 125), (188760, 2908), (188807, 125), (189098, 125), (189208, 125), (189333, 4303), (189340, 5923), (189373, 125), (189553, 125), (189626, 125), (189694, 125), (189778, 125), (189796, 9408), (189873, 8887), (189882, 125), (189904, 125), (189928, 125), (190063, 4137), (190103, 125), (190206, 125), (190257, 125), (190284, 4225), (190334, 125), (190447, 7769), (190471, 4211), (190510, 125), (190545, 9958), (190554, 125), (190572, 125), (190623, 125), (190641, 125), (190663, 125), (190759, 1261), (190807, 125), (190851, 125), (190880, 125), (190949, 125), (191148, 125), (191161, 5762), (191224, 9405), (191276, 125), (191409, 125), (191450, 125), (191466, 2626), (191490, 4167), (191575, 125), (191601, 947), (191627, 125), (191632, 125), (191720, 5532), (191749, 125), (191837, 6906), (191838, 125), (191874, 125), (191885, 8491), (191968, 125), (192008, 125), (192051, 176), (192101, 125), (192273, 125), (192306, 125), (192323, 125), (192353, 1537), (192355, 2902), (192365, 125), (192398, 125), (192417, 4182), (192486, 7565), (192515, 125), (192516, 125), (192521, 234), (192556, 7971), (192727, 125), (192731, 125), (192733, 638), (192761, 7322), (192792, 125), (192910, 125), (192921, 125), (192982, 1821), (192991, 125), (193080, 3786), (193116, 2119), (193243, 125), (193256, 5381), (193341, 4870), (193370, 125), (193387, 125), (193425, 125), (193511, 1505), (193538, 1834), (193943, 6853), (193950, 125), (193967, 125), (194001, 125), (194071, 125), (194148, 8273), (194201, 4209), (194217, 125), (194228, 4811), (194438, 125), (194687, 7107), (194903, 125), (194905, 2906), (194939, 1015), (194979, 125), (195018, 125), (195091, 5559), (195197, 125), (195249, 6038), (195313, 125), (195341, 125), (195368, 1482), (195397, 125), (195452, 153), (195583, 8597), (195651, 125), (195690, 125), (195774, 6785), (195867, 125), (195883, 8172), (195975, 125), (196017, 7532), (196088, 9525), (196101, 958), (196216, 2519), (196226, 125), (196316, 125), (196333, 125), (196393, 1575), (196427, 125), (196438, 3884), (196446, 125), (196488, 125), (196520, 7004), (196590, 5191), (196595, 125), (196647, 125), (196700, 125), (196811, 125), (196884, 125), (196938, 125), (197087, 125), (197117, 125), (197213, 125), (197222, 125), (197226, 125), (197264, 9696), (197279, 2071), (197322, 125), (197431, 125), (197489, 125), (197512, 125), (197666, 125), (197764, 484), (197796, 125), (197798, 9639), (197833, 125), (197973, 3555), (198093, 4677), (198271, 125), (198277, 9302), (198292, 125), (198301, 4127), (198489, 9967), (198498, 2689), (198540, 125), (198564, 125), (198599, 125), (198666, 125), (198748, 3186), (198851, 7285), (198949, 3085), (199017, 125), (199038, 6878), (199069, 125), (199084, 6864), (199111, 125), (199135, 125), (199189, 3903), (199199, 125), (199270, 125), (199279, 3623), (199315, 125), (199341, 375), (199349, 125), (199428, 125), (199444, 125), (199716, 6074), (199754, 5890), (199949, 5901), (199972, 9043)]\n",
      "[(58, 1420), (100, 125), (115, 9619), (176, 6850), (204, 4725), (223, 125), (356, 125), (382, 125), (451, 5848), (542, 125), (694, 125), (784, 125), (843, 125), (959, 4297), (983, 125), (1100, 125), (1161, 125), (1228, 125), (1298, 125), (1317, 2161), (1466, 125), (1537, 125), (1570, 125), (1795, 5796), (1814, 125), (1868, 2183), (1878, 125), (1936, 4908), (1974, 6769), (2006, 125), (2030, 125), (2120, 125), (2147, 125), (2159, 125), (2299, 9261), (2323, 125), (2342, 264), (2350, 125), (2467, 125), (2468, 8286), (2507, 125), (2543, 125), (2558, 7848), (2591, 125), (2625, 6975), (2649, 3408), (2659, 4255), (2768, 125), (2787, 8048), (2804, 7053), (2836, 125), (2992, 125), (3337, 8240), (3478, 125), (3629, 9098), (3667, 125), (3835, 125), (3848, 3015), (3852, 125), (3927, 6321), (3956, 9840), (4045, 8900), (4053, 125), (4348, 125), (4349, 125), (4350, 2388), (4508, 125), (4599, 6844), (4611, 125), (4717, 125), (4801, 125), (4867, 6241), (4929, 125), (4971, 6231), (5000, 6432), (5054, 125), (5105, 7755), (5315, 7761), (5469, 125), (5656, 125), (5659, 2373), (5701, 125), (5707, 8257), (5812, 125), (5853, 2627), (5960, 125), (5961, 125), (6068, 125), (6088, 125), (6199, 125), (6253, 125), (6295, 125), (6380, 3058), (6471, 125), (6487, 125), (6497, 9562), (6595, 3585), (6806, 1103), (6819, 125), (7075, 125), (7095, 125), (7102, 1817), (7181, 125), (7203, 125), (7328, 3614), (7390, 1858), (7409, 511), (7429, 125), (7463, 125), (7531, 125), (7549, 634), (7832, 7579), (7947, 125), (7967, 3286), (7968, 125), (8160, 6527), (8212, 125), (8256, 125), (8282, 187), (8307, 125), (8350, 4297), (8468, 125), (8477, 125), (8497, 125), (8562, 125), (8590, 2785), (8632, 125), (8637, 125), (8690, 125), (8697, 8082), (8721, 125), (8726, 125), (8814, 125), (8825, 125), (8860, 125), (8951, 125), (8958, 125), (8981, 125), (9090, 6610), (9134, 125), (9194, 724), (9260, 125), (9287, 9958), (9382, 125), (9466, 125), (9511, 125), (9583, 8573), (9629, 9942), (9741, 125), (9783, 4538), (9988, 125)]\n"
     ]
    }
   ],
   "source": [
    "print(dict_overlap_between_sets['train_and_valid'])\n",
    "print(dict_overlap_between_sets['train_and_test'])\n",
    "print(dict_overlap_between_sets['valid_and_test'])"
   ]
  },
  {
   "cell_type": "markdown",
   "metadata": {},
   "source": [
    "Check if there are certain images that contribute to the majority of duplicates"
   ]
  },
  {
   "cell_type": "code",
   "execution_count": 25,
   "metadata": {},
   "outputs": [
    {
     "name": "stdout",
     "output_type": "stream",
     "text": [
      "[128, 167, 235, 242, 290, 303, 379, 417, 490, 522, 554, 623, 634, 668, 669, 951, 984, 999, 1001, 1068, 1080, 1361, 1431, 1547, 1560, 1871, 1933, 2021, 2070, 2129, 2192, 2218, 2261, 2272, 2303, 2431, 2499, 2513, 2583, 2643, 2733, 2950, 3070, 3165, 3169, 3217, 3239, 3344, 3346, 3472, 3505, 3556, 3599, 3786, 3876, 3972, 3984, 4038, 4277, 4424, 4425, 4468, 4616, 4706, 4730, 4878, 4928, 4935, 4946, 4991, 4997, 5014, 5017, 5079, 5083, 5112, 5193, 5194, 5202, 5245, 5284, 5325, 5427, 5463, 5476, 5496, 5509, 5518, 5532, 5695, 5719, 5756, 5762, 5775, 5852, 5878, 5910, 6008, 6046, 6064, 6076, 6088, 6092, 6122, 6139, 6181, 6235, 6458, 6499, 6502, 6519, 6538, 6580, 6618, 6623, 6680, 6711, 6754, 6769, 6788, 6850, 6872, 6945, 7037, 7063, 7092, 7149, 7267, 7390, 7570, 7577, 7602, 7907, 7983, 7995, 8028, 8046, 8085, 8108, 8123, 8279, 8290, 8397, 8444, 8462, 8512, 8531, 8821, 8876, 8924, 8955, 8984, 8986, 9108, 9164, 9169, 9181, 9270, 9302, 9423, 9443, 9479, 9480, 9509, 9540, 9541, 9598, 9606, 9637, 9869, 9968, 9997, 10053, 10206, 10221, 10262, 10339, 10358, 10370, 10435, 10498, 10547, 10665, 10681, 10694, 10735, 10747, 10753, 10821, 10859, 10877, 10904, 10949, 10959, 10994, 11066, 11207, 11232, 11239, 11275, 11378, 11519, 11619, 11643, 11866, 11912, 11929, 11931, 11935, 11936, 12068, 12129, 12388, 12444, 12446, 12492, 12549, 12580, 12700, 12728, 12899, 12949, 12992, 13045, 13061, 13090, 13102, 13111, 13144, 13203, 13210, 13230, 13242, 13265, 13275, 13404, 13470, 13501, 13554, 13604, 13626, 13712, 13731, 13777, 13859, 13872, 13889, 13909, 13915, 13948, 14065, 14140, 14168, 14216, 14274, 14295, 14302, 14365, 14415, 14430, 14447, 14492, 14529, 14544, 14582, 14880, 14979, 15046, 15216, 15256, 15398, 15539, 15546, 15552, 15555, 15593, 15596, 15814, 15865, 16128, 16169, 16278, 16291, 16536, 16707, 16790, 16794, 16808, 16817, 16859, 16885, 16960, 16965, 17004, 17058, 17103, 17205, 17239, 17252, 17450, 17623, 17658, 17673, 17685, 17721, 17725, 17761, 17784, 17934, 17975, 17982, 17990, 18058, 18070, 18093, 18111, 18294, 18327, 18451, 18562, 18567, 18617, 18635, 18670, 18674, 18680, 18829, 18833, 18976, 19010, 19086, 19178, 19219, 19225, 19334, 19359, 19362, 19411, 19417, 19426, 19482, 19544, 19558, 19665, 19724, 19760, 19828, 19834, 19908, 19988, 20142, 20156, 20246, 20325, 20330, 20343, 20364, 20486, 20586, 20637, 20672, 20707, 20711, 20722, 20740, 20762, 20867, 21010, 21012, 21220, 21233, 21260, 21281, 21395, 21409, 21526, 21530, 21565, 21605, 21645, 21852, 21999, 22011, 22037, 22283, 22297, 22365, 22411, 22468, 22478, 22522, 22523, 22625, 22657, 22698, 22756, 22777, 22932, 22949, 22993, 22998, 23021, 23141, 23144, 23192, 23272, 23292, 23299, 23328, 23441, 23598, 23695, 23760, 23768, 23829, 23897, 23942, 23985, 24083, 24096, 24211, 24252, 24465, 24495, 24594, 24614, 24618, 24789, 24993, 25085, 25086, 25133, 25178, 25203, 25205, 25329, 25376, 25407, 25549, 25593, 25700, 25724, 25777, 25959, 25984, 26089, 26108, 26160, 26190, 26221, 26296, 26320, 26352, 26368, 26458, 26476, 26477, 26727, 26739, 26825, 26906, 26922, 27089, 27174, 27228, 27272, 27297, 27309, 27396, 27418, 27436, 27477, 27622, 27650, 27742, 27783, 27886, 27919, 27924, 27963, 28033, 28057, 28105, 28145, 28219, 28336, 28361, 28385, 28455, 28475, 28523, 28565, 28624, 28651, 28657, 28671, 28820, 28844, 28957, 29014, 29171, 29234, 29270, 29342, 29405, 29511, 29540, 29569, 29585, 29642, 29686, 29998, 30021, 30026, 30037, 30087, 30173, 30307, 30348, 30385, 30403, 30473, 30524, 30597, 30653, 30756, 30762, 30786, 30832, 30929, 30933, 31089, 31129, 31292, 31293, 31339, 31341, 31518, 31553, 31621, 31776, 31824, 31964, 32026, 32057, 32080, 32121, 32145, 32258, 32339, 32343, 32378, 32473, 32522, 32554, 32738, 32807, 32880, 32951, 33036, 33059, 33075, 33157, 33176, 33214, 33244, 33386, 33468, 33497, 33514, 33600, 33682, 33723, 33884, 33894, 33948, 33960, 34007, 34044, 34154, 34186, 34196, 34217, 34224, 34460, 34473, 34505, 34520, 34537, 34572, 34706, 34748, 34754, 34771, 34784, 34796, 34879, 34914, 34957, 34963, 34967, 35138, 35171, 35213, 35244, 35292, 35390, 35410, 35427, 35461, 35491, 35545, 35589, 35658, 35659, 35680, 35685, 35722, 35816, 35835, 35879, 35921, 35925, 35999, 36045, 36111, 36118, 36145, 36273, 36338, 36380, 36415, 36455, 36460, 36471, 36496, 36500, 36555, 36742, 36872, 36886, 36909, 37039, 37058, 37070, 37147, 37285, 37287, 37339, 37368, 37400, 37444, 37515, 37519, 37538, 37565, 37578, 37591, 38069, 38086, 38137, 38142, 38160, 38182, 38253, 38365, 38372, 38393, 38426, 38431, 38476, 38504, 38543, 38566, 38621, 38727, 38784, 38864, 38960, 39081, 39089, 39104, 39144, 39179, 39321, 39341, 39392, 39423, 39471, 39536, 39574, 39662, 39754, 39775, 40016, 40033, 40078, 40102, 40147, 40149, 40241, 40384, 40436, 40631, 40745, 40950, 40998, 41042, 41210, 41367, 41515, 41619, 41651, 41671, 41713, 41817, 41905, 42135, 42191, 42204, 42236, 42281, 42345, 42360, 42420, 42471, 42535, 42613, 42678, 42688, 42778, 42865, 42963, 42981, 42983, 43001, 43011, 43027, 43073, 43123, 43134, 43157, 43161, 43174, 43237, 43376, 43476, 43503, 43535, 43539, 43601, 43682, 43690, 43701, 43783, 43802, 43861, 43933, 43942, 43945, 43988, 44008, 44106, 44126, 44150, 44159, 44220, 44322, 44332, 44339, 44445, 44449, 44630, 44635, 44638, 44648, 44693, 44710, 44929, 45102, 45342, 45355, 45502, 45510, 45541, 45814, 45826, 45957, 46124, 46195, 46249, 46334, 46587, 46589, 46652, 46710, 46851, 46867, 46947, 46952, 46967, 46972, 47014, 47066, 47101, 47106, 47160, 47195, 47207, 47311, 47365, 47383, 47526, 47619, 47666, 47762, 47777, 47805, 47852, 47904, 48164, 48294, 48317, 48336, 48351, 48423, 48450, 48517, 48593, 48658, 48759, 48812, 48868, 48924, 48998, 49033, 49048, 49056, 49068, 49099, 49249, 49306, 49343, 49464, 49644, 49686, 49687, 49730, 49951, 49962, 50035, 50065, 50073, 50080, 50095, 50109, 50110, 50161, 50166, 50175, 50181, 50196, 50394, 50443, 50507, 50530, 50535, 50676, 50801, 50816, 51117, 51214, 51381, 51438, 51526, 51532, 51535, 51576, 51618, 51697, 51734, 51775, 51782, 51821, 51867, 51873, 51879, 52155, 52207, 52258, 52420, 52423, 52747, 52758, 52809, 52833, 52846, 52863, 52884, 52892, 52931, 52948, 53003, 53057, 53306, 53363, 53366, 53558, 53562, 53676, 53690, 53709, 53719, 53764, 53776, 53825, 53864, 53883, 53912, 53913, 53974, 54114, 54118, 54134, 54201, 54262, 54310, 54405, 54447, 54599, 54607, 54654, 54734, 54746, 54772, 54783, 54889, 54901, 54922, 54961, 55092, 55141, 55143, 55253, 55332, 55402, 55434, 55448, 55527, 55589, 55616, 55622, 55639, 55770, 55771, 55809, 55847, 55889, 55904, 55946, 55978, 56056, 56158, 56264, 56370, 56406, 56407, 56493, 56786, 56809, 56941, 56981, 56985, 57010, 57040, 57094, 57192, 57227, 57259, 57270, 57344, 57380, 57540, 57620, 57836, 57850, 57867, 57916, 58098, 58119, 58134, 58207, 58258, 58361, 58376, 58551, 58558, 58638, 58654, 58750, 58794, 59048, 59065, 59081, 59089, 59098, 59119, 59124, 59134, 59153, 59159, 59199, 59238, 59378, 59416, 59425, 59532, 59588, 59651, 59802, 59828, 59882, 59883, 59932, 60050, 60078, 60110, 60132, 60285, 60383, 60385, 60631, 60676, 60728, 60806, 60807, 60821, 61114, 61115, 61147, 61208, 61227, 61496, 61672, 61776, 61781, 61841, 61894, 61961, 61965, 62058, 62143, 62175, 62242, 62250, 62308, 62489, 62652, 62659, 62682, 62698, 62702, 62716, 62807, 62854, 62898, 62904, 62906, 62916, 62953, 62988, 63020, 63097, 63180, 63199, 63245, 63328, 63329, 63362, 63389, 63411, 63441, 63491, 63520, 63526, 63609, 63626, 63635, 63675, 63701, 63743, 63900, 63945, 64076, 64109, 64140, 64187, 64244, 64272, 64331, 64432, 64443, 64479, 64610, 64735, 64740, 64874, 64901, 64995, 65015, 65058, 65080, 65098, 65161, 65243, 65395, 65414, 65419, 65664, 65672, 65798, 65833, 65835, 65904, 65926, 65987, 66122, 66158, 66270, 66315, 66583, 66763, 66847, 66938, 66950, 67019, 67116, 67348, 67383, 67424, 67646, 67703, 67705, 67828, 67859, 67920, 67995, 68025, 68073, 68113, 68141, 68211, 68226, 68240, 68303, 68340, 68352, 68477, 68509, 68517, 68575, 68623, 68751, 68774, 68793, 68855, 68882, 68883, 68897, 68907, 68927, 68944, 69013, 69302, 69310, 69387, 69529, 69590, 69614, 69645, 69715, 69783, 69855, 69872, 69899, 69978, 69988, 69993, 70053, 70101, 70293, 70310, 70338, 70357, 70583, 70638, 70664, 70716, 70809, 70815, 70819, 70892, 70899, 70935, 70987, 71007, 71132, 71182, 71203, 71204, 71336, 71377, 71398, 71403, 71468, 71475, 71534, 71535, 71595, 71639, 71742, 71908, 71966, 71973, 72284, 72302, 72325, 72384, 72392, 72408, 72425, 72487, 72536, 72591, 72690, 72697, 72698, 72769, 72819, 72832, 72842, 72844, 72874, 72891, 72902, 72915, 72942, 72953, 72961, 72962, 73192, 73267, 73314, 73408, 73413, 73420, 73531, 73698, 73760, 73830, 73850, 73909, 73916, 73959, 73993, 74272, 74285, 74343, 74351, 74421, 74475, 74555, 74642, 74698, 74735, 74790, 74873, 74945, 74968, 74999, 75033, 75127, 75160, 75271, 75284, 75399, 75406, 75412, 75454, 75535, 75556, 75614, 75630, 75685, 75691, 75774, 75836, 75922, 76145, 76154, 76176, 76390, 76417, 76428, 76438, 76450, 76523, 76556, 76603, 76738, 76743, 76790, 76791, 76934, 76943, 77013, 77056, 77070, 77073, 77166, 77255, 77286, 77325, 77346, 77348, 77378, 77402, 77405, 77452, 77508, 77551, 77719, 77752, 77763, 77781, 77823, 77876, 78001, 78123, 78166, 78200, 78247, 78326, 78356, 78382, 78396, 78429, 78490, 78492, 78581, 78649, 78677, 78714, 78764, 78785, 78787, 78840, 78898, 78942, 78943, 78948, 78970, 79012, 79123, 79197, 79281, 79289, 79306, 79337, 79380, 79385, 79402, 79588, 79607, 79631, 79663, 79727, 79735, 79788, 79885, 79956, 79959, 80051, 80120, 80123, 80186, 80205, 80305, 80330, 80350, 80362, 80408, 80413, 80425, 80469, 80485, 80519, 80535, 80578, 80583, 80662, 80694, 80743, 80814, 80825, 80868, 80992, 81093, 81191, 81205, 81215, 81378, 81416, 81520, 81563, 81642, 81663, 81668, 81675, 81852, 81872, 81900, 81914, 81933, 81961, 82009, 82058, 82349, 82370, 82615, 82623, 82702, 82811, 82896, 82960, 83041, 83066, 83115, 83208, 83461, 83463, 83513, 83564, 83607, 83645, 83679, 83703, 83710, 83737, 83746, 83794, 83843, 83889, 83907, 83923, 83954, 84024, 84091, 84177, 84262, 84443, 84454, 84462, 84484, 84547, 84566, 84583, 84621, 84653, 84734, 84846, 84900, 84918, 85291, 85363, 85409, 85622, 85675, 85712, 85729, 85735, 85762, 85802, 85850, 85868, 85908, 86036, 86170, 86201, 86218, 86228, 86315, 86327, 86500, 86746, 86820, 86923, 86929, 86968, 86978, 87037, 87053, 87054, 87068, 87169, 87200, 87254, 87260, 87267, 87335, 87351, 87381, 87417, 87500, 87562, 87663, 87701, 87789, 87804, 87836, 87927, 87930, 88042, 88096, 88122, 88135, 88155, 88196, 88264, 88413, 88422, 88458, 88489, 88498, 88815, 89094, 89165, 89166, 89193, 89229, 89345, 89383, 89470, 89510, 89520, 89550, 89584, 89635, 89725, 89727, 89816, 89823, 89983, 90065, 90182, 90250, 90298, 90323, 90399, 90447, 90467, 90551, 90562, 90567, 90701, 90744, 90821, 90845, 90870, 90880, 90886, 90899, 90930, 91024, 91220, 91391, 91446, 91462, 91513, 91529, 91574, 91607, 91658, 91710, 91730, 91856, 91881, 91885, 91988, 92080, 92199, 92232, 92344, 92405, 92444, 92473, 92542, 92632, 92643, 92696, 92984, 93059, 93097, 93103, 93168, 93194, 93295, 93605, 93764, 93950, 93955, 94008, 94018, 94078, 94093, 94200, 94221, 94231, 94268, 94424, 94459, 94473, 94521, 94951, 94984, 94993, 95050, 95208, 95253, 95347, 95378, 95383, 95477, 95539, 95544, 95545, 95628, 95808, 95830, 95905, 95933, 96000, 96073, 96078, 96139, 96174, 96271, 96318, 96422, 96536, 96632, 96761, 96797, 96840, 96860, 96887, 96955, 96975, 97086, 97116, 97163, 97183, 97206, 97600, 97701, 97924, 97995, 98008, 98086, 98171, 98306, 98335, 98384, 98409, 98420, 98545, 98571, 98609, 98698, 98811, 98909, 98969, 98970, 98975, 99028, 99089, 99099, 99212, 99254, 99303, 99363, 99401, 99419, 99446, 99463, 99558, 99745, 99793, 99823, 99918, 100043, 100047, 100078, 100103, 100116, 100136, 100138, 100208, 100218, 100379, 100397, 100548, 100572, 100595, 100681, 100740, 100747, 100843, 101084, 101132, 101291, 101299, 101344, 101420, 101571, 101897, 101900, 101923, 102001, 102036, 102182, 102383, 102536, 102544, 102582, 102711, 102778, 103104, 103120, 103226, 103241, 103267, 103286, 103428, 103436, 103530, 103556, 103626, 103699, 103764, 103821, 103836, 103853, 103889, 103979, 104009, 104077, 104089, 104116, 104143, 104149, 104181, 104182, 104220, 104225, 104295, 104504, 104581, 104654, 104771, 104803, 105097, 105116, 105205, 105219, 105244, 105311, 105342, 105386, 105420, 105431, 105486, 105538, 105552, 105620, 105749, 105991, 106045, 106108, 106169, 106258, 106311, 106313, 106442, 106542, 106613, 106648, 106697, 106707, 106794, 106796, 106805, 106832, 107036, 107044, 107073, 107085, 107202, 107229, 107257, 107265, 107334, 107554, 107716, 107756, 107760, 107795, 107847, 107910, 107980, 108015, 108086, 108170, 108184, 108223, 108272, 108290, 108344, 108346, 108354, 108396, 108406, 108872, 108882, 108947, 109113, 109133, 109138, 109159, 109284, 109302, 109318, 109348, 109350, 109372, 109432, 109459, 109529, 109697, 109769, 109927, 109991, 110057, 110140, 110167, 110190, 110283, 110382, 110419, 110602, 110611, 110625, 110693, 110761, 110820, 110879, 110993, 111010, 111078, 111123, 111213, 111281, 111283, 111287, 111295, 111364, 111511, 111529, 111588, 111597, 111603, 111745, 111763, 111801, 111825, 111914, 111946, 111969, 111970, 112087, 112320, 112323, 112391, 112552, 112561, 112565, 112568, 112758, 112762, 112813, 112885, 112944, 113004, 113041, 113176, 113235, 113239, 113422, 113464, 113465, 113493, 113590, 113595, 113727, 113735, 113759, 113773, 113775, 113836, 113844, 113924, 113940, 113961, 114006, 114041, 114048, 114061, 114118, 114128, 114139, 114330, 114360, 114574, 114649, 114717, 114723, 114804, 114843, 114851, 114897, 114908, 114941, 115008, 115072, 115184, 115242, 115254, 115291, 115313, 115439, 115568, 115622, 115876, 115900, 115952, 116085, 116201, 116257, 116312, 116345, 116380, 116454, 116612, 116674, 116676, 116734, 116788, 116816, 116984, 117177, 117272, 117287, 117305, 117423, 117453, 117574, 117582, 117600, 117622, 117634, 117690, 117771, 117805, 117852, 117861, 117868, 117890, 117913, 117954, 118098, 118272, 118296, 118327, 118336, 118463, 118521, 118614, 118625, 118729, 118758, 118813, 118820, 118857, 118928, 118962, 119067, 119068, 119071, 119130, 119131, 119185, 119199, 119203, 119249, 119339, 119358, 119370, 119392, 119430, 119441, 119477, 119542, 119596, 119702, 119746, 119798, 119799, 119800, 119897, 119903, 120078, 120120, 120122, 120172, 120177, 120347, 120405, 120415, 120482, 120541, 120548, 120583, 120678, 120747, 120779, 120858, 121042, 121119, 121175, 121257, 121293, 121420, 121650, 121678, 121711, 121731, 121849, 121869, 121883, 121891, 121903, 121978, 122040, 122133, 122216, 122325, 122411, 122417, 122419, 122428, 122440, 122625, 122677, 122735, 122793, 123076, 123102, 123116, 123118, 123129, 123191, 123201, 123231, 123259, 123343, 123364, 123454, 123491, 123605, 123703, 123775, 123776, 123804, 123822, 123863, 123892, 123955, 123995, 124048, 124091, 124095, 124123, 124224, 124302, 124305, 124342, 124386, 124445, 124571, 124643, 124706, 124921, 125099, 125116, 125196, 125263, 125269, 125307, 125461, 125478, 125521, 125595, 125686, 125813, 125898, 125908, 125996, 126099, 126145, 126170, 126215, 126236, 126257, 126278, 126301, 126482, 126491, 126492, 126506, 126771, 126854, 126949, 126960, 127028, 127049, 127067, 127074, 127165, 127186, 127208, 127283, 127297, 127310, 127340, 127342, 127407, 127492, 127514, 127648, 127775, 127816, 127835, 127867, 127874, 128097, 128116, 128246, 128273, 128280, 128296, 128311, 128361, 128395, 128459, 128487, 128546, 128650, 128659, 128671, 128705, 128732, 128738, 128740, 128820, 128900, 128958, 128991, 129156, 129187, 129299, 129347, 129463, 129556, 129826, 129852, 130068, 130125, 130206, 130505, 130591, 130613, 130642, 130650, 130708, 130716, 130723, 130736, 130786, 130896, 130909, 130939, 130959, 130970, 130973, 130988, 131108, 131202, 131208, 131301, 131323, 131327, 131416, 131439, 131540, 131588, 131612, 131731, 131735, 131852, 132047, 132124, 132217, 132232, 132305, 132431, 132717, 132721, 132758, 132763, 132767, 132778, 132835, 132861, 132866, 132940, 132949, 132955, 133111, 133114, 133131, 133204, 133211, 133212, 133240, 133444, 133474, 133475, 133509, 133514, 133625, 133686, 133701, 133707, 133775, 133806, 133838, 133849, 133867, 133889, 133894, 134064, 134099, 134102, 134267, 134327, 134331, 134365, 134463, 134514, 134522, 134561, 134564, 134756, 134917, 135014, 135147, 135160, 135401, 135520, 135558, 135637, 135641, 135651, 135652, 135774, 135819, 135835, 135850, 135871, 136007, 136033, 136066, 136127, 136211, 136212, 136390, 136463, 136477, 136616, 136621, 136623, 136652, 136666, 136679, 136720, 136739, 136835, 136885, 136895, 136900, 136939, 136964, 137014, 137092, 137157, 137259, 137340, 137363, 137398, 137422, 137434, 137439, 137443, 137447, 137573, 137774, 137776, 137980, 137987, 138042, 138091, 138145, 138244, 138302, 138643, 138792, 138813, 138817, 138828, 138848, 138957, 139037, 139046, 139199, 139215, 139300, 139322, 139341, 139345, 139462, 139502, 139515, 139534, 139632, 139638, 139669, 139816, 139871, 139883, 139933, 140002, 140024, 140172, 140190, 140446, 140544, 140556, 140593, 140598, 140623, 140654, 140665, 140801, 140820, 140839, 140938, 141032, 141073, 141113, 141129, 141135, 141141, 141206, 141441, 141452, 141492, 141497, 141503, 141574, 141685, 141721, 141854, 141945, 142140, 142159, 142185, 142221, 142227, 142262, 142287, 142396, 142433, 142477, 142494, 142544, 142650, 142668, 142697, 142718, 142747, 142784, 142803, 142807, 142852, 142877, 142885, 142891, 142904, 143110, 143115, 143127, 143174, 143177, 143181, 143208, 143274, 143289, 143413, 143482, 143503, 143553, 143580, 143635, 143680, 143718, 143842, 143851, 143972, 144082, 144241, 144269, 144341, 144470, 144474, 144530, 144573, 144639, 144680, 144739, 144884, 144911, 145044, 145085, 145136, 145195, 145295, 145342, 145363, 145366, 145413, 145555, 145570, 145590, 145887, 146076, 146134, 146148, 146227, 146300, 146332, 146339, 146410, 146454, 146492, 146495, 146578, 146609, 146677, 146750, 146806, 147095, 147138, 147273, 147280, 147356, 147363, 147393, 147436, 147468, 147495, 147563, 147683, 147721, 147762, 147790, 147910, 147928, 147933, 147966, 147985, 148109, 148206, 148349, 148446, 148504, 148528, 148596, 148607, 148722, 148780, 148781, 148888, 148894, 148964, 149023, 149050, 149181, 149189, 149341, 149616, 149648, 149675, 149882, 149932, 149948, 149980, 150013, 150130, 150154, 150160, 150208, 150283, 150375, 150410, 150530, 150635, 150657, 150744, 150812, 150821, 150888, 150927, 151021, 151080, 151186, 151244, 151463, 151495, 151727, 151746, 151784, 151791, 151849, 151878, 151886, 151939, 151948, 151963, 151966, 151985, 152005, 152024, 152054, 152141, 152220, 152274, 152344, 152481, 152673, 152719, 152746, 152770, 152864, 152970, 152972, 153263, 153290, 153420, 153482, 153541, 153559, 153804, 153846, 153855, 153859, 154073, 154097, 154108, 154158, 154212, 154393, 154528, 154541, 154542, 154618, 154654, 154728, 154851, 154991, 155015, 155367, 155384, 155425, 155448, 155490, 155495, 155523, 155559, 155674, 155773, 155776, 155883, 155975, 156169, 156215, 156279, 156359, 156372, 156376, 156436, 156494, 156513, 156578, 156579, 156623, 156767, 156799, 156897, 156970, 157114, 157124, 157246, 157411, 157432, 157440, 157510, 157519, 157751, 157830, 157843, 157878, 157893, 157894, 157909, 157975, 157999, 158042, 158157, 158450, 158462, 158603, 158742, 158828, 158862, 158865, 158904, 158908, 158930, 159088, 159277, 159362, 159374, 159412, 159587, 159609, 159694, 159713, 159724, 159742, 159767, 159842, 159951, 160014, 160036, 160103, 160107, 160108, 160110, 160195, 160214, 160256, 160258, 160262, 160294, 160296, 160412, 160436, 160455, 160553, 160650, 160807, 160841, 161025, 161056, 161063, 161070, 161086, 161114, 161115, 161117, 161303, 161317, 161320, 161495, 161560, 161614, 161662, 161710, 161731, 161742, 161776, 161817, 161819, 161820, 161907, 161910, 162080, 162280, 162316, 162351, 162367, 162435, 162458, 162473, 162523, 162541, 162564, 162686, 162758, 162781, 162819, 162949, 163007, 163068, 163111, 163157, 163231, 163247, 163248, 163278, 163290, 163317, 163410, 163426, 163505, 163536, 163565, 163568, 163622, 163726, 163744, 163823, 163830, 163927, 163943, 163990, 163993, 164033, 164045, 164203, 164264, 164320, 164508, 164573, 164600, 164663, 164689, 164690, 164835, 164863, 164891, 165026, 165060, 165086, 165202, 165208, 165232, 165249, 165323, 165344, 165428, 165578, 165644, 165656, 165805, 165895, 166038, 166100, 166111, 166229, 166233, 166243, 166251, 166261, 166424, 166467, 166541, 166563, 166668, 166722, 166750, 166827, 166837, 166968, 167033, 167074, 167098, 167129, 167135, 167173, 167264, 167468, 167509, 167530, 167582, 167642, 167650, 167734, 167746, 167821, 167829, 168031, 168037, 168038, 168174, 168217, 168283, 168374, 168463, 168883, 169077, 169107, 169132, 169136, 169377, 169456, 169472, 169684, 169705, 169808, 169980, 170143, 170177, 170206, 170249, 170254, 170333, 170340, 170380, 170571, 170703, 170825, 170858, 170867, 170970, 171006, 171053, 171069, 171134, 171245, 171257, 171294, 171299, 171305, 171375, 171516, 171624, 171709, 171717, 171748, 171867, 171942, 172062, 172144, 172211, 172313, 172352, 172675, 172787, 172988, 173035, 173057, 173081, 173205, 173223, 173288, 173390, 173450, 173552, 173605, 173754, 173844, 173872, 173899, 173992, 174023, 174049, 174311, 174429, 174439, 174504, 174528, 174540, 174637, 174651, 174686, 174921, 174976, 175206, 175290, 175322, 175349, 175362, 175427, 175565, 175580, 175668, 175729, 175931, 176014, 176049, 176103, 176125, 176141, 176176, 176182, 176258, 176295, 176413, 176440, 176473, 176521, 176598, 176611, 176634, 176652, 176656, 176833, 176995, 177034, 177041, 177132, 177270, 177370, 177450, 177478, 177483, 177511, 177533, 177553, 177573, 177604, 177611, 177831, 177846, 177883, 177956, 178106, 178143, 178161, 178307, 178448, 178501, 178534, 178650, 178738, 178767, 178864, 178904, 179011, 179045, 179050, 179087, 179094, 179202, 179256, 179294, 179309, 179419, 179429, 179522, 179597, 179647, 179740, 179756, 179797, 179859, 179882, 179943, 179950, 179951, 179953, 180000, 180022, 180133, 180259, 180275, 180294, 180305, 180384, 180458, 180575, 180599, 180658, 180712, 180721, 180785, 180880, 180930, 180964, 181015, 181069, 181106, 181156, 181182, 181199, 181283, 181289, 181333, 181341, 181369, 181397, 181504, 181518, 181566, 181572, 181660, 181662, 181704, 181868, 181928, 181948, 181974, 182022, 182030, 182032, 182131, 182185, 182223, 182285, 182356, 182482, 182499, 182517, 182585, 182655, 182710, 182873, 182897, 182961, 183015, 183056, 183068, 183145, 183169, 183174, 183261, 183286, 183332, 183337, 183382, 183462, 183533, 183546, 183551, 183630, 183640, 183662, 183683, 183719, 183759, 183858, 183951, 184130, 184221, 184272, 184279, 184441, 184457, 184608, 184645, 184760, 184877, 184917, 185039, 185180, 185204, 185255, 185276, 185329, 185366, 185382, 185392, 185406, 185415, 185427, 185502, 185594, 185639, 185716, 185722, 185803, 185888, 185943, 185962, 185996, 186089, 186235, 186245, 186372, 186481, 186549, 186677, 186699, 186716, 186741, 186758, 186791, 186795, 186819, 186860, 186911, 186919, 186941, 186945, 186989, 187149, 187398, 187498, 187573, 187636, 187643, 187648, 187655, 187734, 187742, 187789, 187942, 187995, 188003, 188106, 188130, 188273, 188372, 188386, 188418, 188463, 188532, 188614, 188685, 188692, 188698, 188807, 188940, 189006, 189098, 189208, 189373, 189419, 189427, 189553, 189626, 189694, 189778, 189882, 189904, 189916, 189928, 190103, 190206, 190257, 190334, 190510, 190545, 190554, 190572, 190593, 190623, 190641, 190663, 190807, 190851, 190857, 190880, 190949, 191148, 191276, 191409, 191450, 191575, 191627, 191632, 191749, 191753, 191834, 191838, 191874, 191968, 192008, 192101, 192157, 192273, 192306, 192323, 192365, 192398, 192441, 192515, 192516, 192727, 192731, 192792, 192910, 192921, 192991, 192996, 193033, 193084, 193114, 193142, 193243, 193370, 193387, 193402, 193425, 193489, 193837, 193846, 193950, 193953, 193967, 194001, 194071, 194217, 194415, 194422, 194438, 194477, 194575, 194655, 194793, 194903, 194979, 195018, 195172, 195197, 195313, 195327, 195341, 195397, 195563, 195590, 195651, 195690, 195719, 195867, 195975, 195996, 196226, 196316, 196333, 196380, 196427, 196446, 196488, 196595, 196647, 196700, 196811, 196884, 196938, 197087, 197117, 197213, 197222, 197226, 197259, 197322, 197431, 197489, 197512, 197514, 197571, 197666, 197684, 197796, 197833, 197845, 197910, 198230, 198271, 198292, 198483, 198524, 198540, 198564, 198599, 198666, 198733, 198861, 199017, 199069, 199100, 199111, 199135, 199199, 199222, 199270, 199291, 199315, 199349, 199361, 199391, 199428, 199444, 199513, 199807]\n",
      "3327\n"
     ]
    },
    {
     "data": {
      "image/png": "[encoded data removed]",
      "text/plain": [
       "<matplotlib.figure.Figure at 0x20da94a9f28>"
      ]
     },
     "metadata": {},
     "output_type": "display_data"
    },
    {
     "data": {
      "text/plain": [
       "(array([2284.,  115.,  134.,  112.,  139.,  100.,  121.,   93.,  114.,\n",
       "         115.]),\n",
       " array([  25. , 1021.7, 2018.4, 3015.1, 4011.8, 5008.5, 6005.2, 7001.9,\n",
       "        7998.6, 8995.3, 9992. ]),\n",
       " <a list of 10 Patch objects>)"
      ]
     },
     "execution_count": 25,
     "metadata": {},
     "output_type": "execute_result"
    },
    {
     "data": {
      "image/png": "[encoded data removed]",
      "text/plain": [
       "<matplotlib.figure.Figure at 0x20db45571d0>"
      ]
     },
     "metadata": {},
     "output_type": "display_data"
    }
   ],
   "source": [
    "indices_overlap_train_against_valid = dict_overlap_between_sets['train_and_valid']\n",
    "print([x[0] for x in indices_overlap_train_against_valid])\n",
    "print(len(indices_overlap_train_against_valid))\n",
    "plt.hist([x[0] for x in indices_overlap_train_against_valid])\n",
    "plt.show()\n",
    "plt.hist([x[1] for x in indices_overlap_train_against_valid])"
   ]
  },
  {
   "cell_type": "code",
   "execution_count": 26,
   "metadata": {},
   "outputs": [
    {
     "name": "stdout",
     "output_type": "stream",
     "text": [
      "x: 128\n",
      "y: 100\n",
      "x: 167\n",
      "y: 2552\n",
      "x: 235\n",
      "y: 100\n",
      "x: 242\n",
      "y: 100\n"
     ]
    },
    {
     "data": {
      "image/png": "[encoded data removed]",
      "text/plain": [
       "<matplotlib.figure.Figure at 0x20da94c1048>"
      ]
     },
     "metadata": {},
     "output_type": "display_data"
    },
    {
     "data": {
      "image/png": "[encoded data removed]",
      "text/plain": [
       "<matplotlib.figure.Figure at 0x20da93c9358>"
      ]
     },
     "metadata": {},
     "output_type": "display_data"
    },
    {
     "data": {
      "image/png": "[encoded data removed]",
      "text/plain": [
       "<matplotlib.figure.Figure at 0x20db455dda0>"
      ]
     },
     "metadata": {},
     "output_type": "display_data"
    },
    {
     "data": {
      "image/png": "[encoded data removed]",
      "text/plain": [
       "<matplotlib.figure.Figure at 0x20db452fe10>"
      ]
     },
     "metadata": {},
     "output_type": "display_data"
    },
    {
     "data": {
      "image/png": "[encoded data removed]",
      "text/plain": [
       "<matplotlib.figure.Figure at 0x20da92dcb00>"
      ]
     },
     "metadata": {},
     "output_type": "display_data"
    },
    {
     "data": {
      "image/png": "[encoded data removed]",
      "text/plain": [
       "<matplotlib.figure.Figure at 0x20da95b2ba8>"
      ]
     },
     "metadata": {},
     "output_type": "display_data"
    },
    {
     "data": {
      "image/png": "[encoded data removed]",
      "text/plain": [
       "<matplotlib.figure.Figure at 0x20da97086a0>"
      ]
     },
     "metadata": {},
     "output_type": "display_data"
    },
    {
     "data": {
      "image/png": "[encoded data removed]",
      "text/plain": [
       "<matplotlib.figure.Figure at 0x20da972e828>"
      ]
     },
     "metadata": {},
     "output_type": "display_data"
    }
   ],
   "source": [
    "tick = 0\n",
    "for x,y in indices_overlap_train_against_valid:\n",
    "    tick += 1\n",
    "    print('x: {}'.format(x))\n",
    "    print('y: {}'.format(y))\n",
    "    plt.matshow(train_dataset[x])\n",
    "    plt.matshow(valid_dataset[y])\n",
    "    if tick >= 4: break"
   ]
  },
  {
   "cell_type": "markdown",
   "metadata": {},
   "source": [
    "inspect \"blank\" image"
   ]
  },
  {
   "cell_type": "code",
   "execution_count": 27,
   "metadata": {},
   "outputs": [
    {
     "name": "stdout",
     "output_type": "stream",
     "text": [
      "8\n",
      "8\n",
      "8\n",
      "8\n"
     ]
    },
    {
     "data": {
      "text/plain": [
       "<matplotlib.image.AxesImage at 0x20da992b0b8>"
      ]
     },
     "execution_count": 27,
     "metadata": {},
     "output_type": "execute_result"
    },
    {
     "data": {
      "image/png": "[encoded data removed]",
      "text/plain": [
       "<matplotlib.figure.Figure at 0x20da97290b8>"
      ]
     },
     "metadata": {},
     "output_type": "display_data"
    },
    {
     "data": {
      "image/png": "[encoded data removed]",
      "text/plain": [
       "<matplotlib.figure.Figure at 0x20da92c0320>"
      ]
     },
     "metadata": {},
     "output_type": "display_data"
    },
    {
     "data": {
      "image/png": "[encoded data removed]",
      "text/plain": [
       "<matplotlib.figure.Figure at 0x20da99baf98>"
      ]
     },
     "metadata": {},
     "output_type": "display_data"
    },
    {
     "data": {
      "image/png": "[encoded data removed]",
      "text/plain": [
       "<matplotlib.figure.Figure at 0x20da9a203c8>"
      ]
     },
     "metadata": {},
     "output_type": "display_data"
    }
   ],
   "source": [
    "print(train_labels[128])\n",
    "print(train_labels[235])\n",
    "print(train_labels[242])\n",
    "print(valid_labels[100])\n",
    "plt.matshow(train_dataset[128])\n",
    "plt.matshow(train_dataset[235])\n",
    "plt.matshow(train_dataset[242])\n",
    "plt.matshow(valid_dataset[100])"
   ]
  },
  {
   "cell_type": "code",
   "execution_count": null,
   "metadata": {
    "collapsed": true
   },
   "outputs": [],
   "source": [
    "pickle_file_train_valid = os.path.join(data_root, 'overlap_train_valid.pickle')\n",
    "pickle_file_train_test = os.path.join(data_root, 'overlap_train_test.pickle')\n",
    "pickle_file_valid_test = os.path.join(data_root, 'overlap_valid_test.pickle')\n",
    "\n",
    "# def pickle_object(pickle_file, data):\n",
    "#     try:\n",
    "#       f = open(pickle_file, 'wb')\n",
    "#       save = data\n",
    "#       pickle.dump(save, f, pickle.HIGHEST_PROTOCOL)\n",
    "#       f.close()\n",
    "#     except Exception as e:\n",
    "#       print('Unable to save data to', pickle_file, ':', e)\n",
    "#       raise\n",
    "        \n",
    "# pickle_object(pickle_file_train_valid, dict_overlap_between_sets['train_and_valid']['duplicates'])\n",
    "# pickle_object(pickle_file_train_test, dict_overlap_between_sets['train_and_test']['duplicates'])\n",
    "# pickle_object(pickle_file_valid_test, dict_overlap_between_sets['valid_and_test']['duplicates'])"
   ]
  },
  {
   "cell_type": "code",
   "execution_count": null,
   "metadata": {},
   "outputs": [],
   "source": [
    "ind = 3\n",
    "\n",
    "plt.matshow(train_dataset[duplicates[ind][0]])\n",
    "plt.matshow(valid_dataset[duplicates[ind][1]])\n",
    "print(train_dataset[duplicates[ind][0]])\n",
    "print(valid_dataset[duplicates[ind][1]])\n",
    "\n",
    "print(overlap)\n",
    "# print(duplicates)\n",
    "print(train_labels[duplicates[ind][0]])\n",
    "print(valid_labels[duplicates[ind][1]])\n",
    "# print(duplicates)"
   ]
  },
  {
   "cell_type": "markdown",
   "metadata": {
    "colab_type": "text",
    "id": "L8oww1s4JMQx"
   },
   "source": [
    "---\n",
    "Problem 6\n",
    "---------\n",
    "\n",
    "Let's get an idea of what an off-the-shelf classifier can give you on this data. It's always good to check that there is something to learn, and that it's a problem that is not so trivial that a canned solution solves it.\n",
    "\n",
    "Train a simple model on this data using 50, 100, 1000 and 5000 training samples. Hint: you can use the LogisticRegression model from sklearn.linear_model.\n",
    "\n",
    "Optional question: train an off-the-shelf model on all the data!\n",
    "\n",
    "---"
   ]
  }
 ],
 "metadata": {
  "colab": {
   "default_view": {},
   "name": "1_notmnist.ipynb",
   "provenance": [],
   "version": "0.3.2",
   "views": {}
  },
  "kernelspec": {
   "display_name": "Python 3",
   "language": "python",
   "name": "python3"
  },
  "language_info": {
   "codemirror_mode": {
    "name": "ipython",
    "version": 3
   },
   "file_extension": ".py",
   "mimetype": "text/x-python",
   "name": "python",
   "nbconvert_exporter": "python",
   "pygments_lexer": "ipython3",
   "version": "3.6.2"
  }
 },
 "nbformat": 4,
 "nbformat_minor": 1
}
