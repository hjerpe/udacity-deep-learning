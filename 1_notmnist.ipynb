{
 "cells": [
  {
   "cell_type": "markdown",
   "metadata": {
    "colab_type": "text",
    "id": "5hIbr52I7Z7U"
   },
   "source": [
    "Deep Learning\n",
    "=============\n",
    "\n",
    "Assignment 1\n",
    "------------\n",
    "\n",
    "The objective of this assignment is to learn about simple data curation practices, and familiarize you with some of the data we'll be reusing later.\n",
    "\n",
    "This notebook uses the [notMNIST](http://yaroslavvb.blogspot.com/2011/09/notmnist-dataset.html) dataset to be used with python experiments. This dataset is designed to look like the classic [MNIST](http://yann.lecun.com/exdb/mnist/) dataset, while looking a little more like real data: it's a harder task, and the data is a lot less 'clean' than MNIST."
   ]
  },
  {
   "cell_type": "code",
   "execution_count": 107,
   "metadata": {
    "cellView": "both",
    "colab": {
     "autoexec": {
      "startup": false,
      "wait_interval": 0
     }
    },
    "colab_type": "code",
    "collapsed": true,
    "id": "apJbCsBHl-2A"
   },
   "outputs": [],
   "source": [
    "# These are all the modules we'll be using later. Make sure you can import them\n",
    "# before proceeding further.\n",
    "from __future__ import print_function\n",
    "import imageio\n",
    "import matplotlib.pyplot as plt\n",
    "import numpy as np\n",
    "import os\n",
    "import sys\n",
    "import tarfile\n",
    "from IPython.display import display, Image\n",
    "from sklearn.linear_model import LogisticRegression\n",
    "from six.moves.urllib.request import urlretrieve\n",
    "from six.moves import cPickle as pickle\n",
    "\n",
    "# Config the matplotlib backend as plotting inline in IPython\n",
    "%matplotlib inline"
   ]
  },
  {
   "cell_type": "markdown",
   "metadata": {
    "colab_type": "text",
    "id": "jNWGtZaXn-5j"
   },
   "source": [
    "First, we'll download the dataset to our local machine. The data consists of characters rendered in a variety of fonts on a 28x28 image. The labels are limited to 'A' through 'J' (10 classes). The training set has about 500k and the testset 19000 labeled examples. Given these sizes, it should be possible to train models quickly on any machine."
   ]
  },
  {
   "cell_type": "code",
   "execution_count": 108,
   "metadata": {
    "cellView": "both",
    "colab": {
     "autoexec": {
      "startup": false,
      "wait_interval": 0
     },
     "output_extras": [
      {
       "item_id": 1
      }
     ]
    },
    "colab_type": "code",
    "executionInfo": {
     "elapsed": 186058,
     "status": "ok",
     "timestamp": 1444485672507,
     "user": {
      "color": "#1FA15D",
      "displayName": "Vincent Vanhoucke",
      "isAnonymous": false,
      "isMe": true,
      "permissionId": "05076109866853157986",
      "photoUrl": "//lh6.googleusercontent.com/-cCJa7dTDcgQ/AAAAAAAAAAI/AAAAAAAACgw/r2EZ_8oYer4/s50-c-k-no/photo.jpg",
      "sessionId": "2a0a5e044bb03b66",
      "userId": "102167687554210253930"
     },
     "user_tz": 420
    },
    "id": "EYRJ4ICW6-da",
    "outputId": "0d0f85df-155f-4a89-8e7e-ee32df36ec8d"
   },
   "outputs": [
    {
     "name": "stdout",
     "output_type": "stream",
     "text": [
      "Found and verified Data\\notMNIST_large.tar.gz\n",
      "Found and verified Data\\notMNIST_small.tar.gz\n"
     ]
    }
   ],
   "source": [
    "url = 'https://commondatastorage.googleapis.com/books1000/'\n",
    "last_percent_reported = None\n",
    "data_root = 'Data' # Change me to store data elsewhere\n",
    "\n",
    "def download_progress_hook(count, blockSize, totalSize):\n",
    "  \"\"\"A hook to report the progress of a download. This is mostly intended for users with\n",
    "  slow internet connections. Reports every 5% change in download progress.\n",
    "  \"\"\"\n",
    "  global last_percent_reported\n",
    "  percent = int(count * blockSize * 100 / totalSize)\n",
    "\n",
    "  if last_percent_reported != percent:\n",
    "    if percent % 5 == 0:\n",
    "      sys.stdout.write(\"%s%%\" % percent)\n",
    "      sys.stdout.flush()\n",
    "    else:\n",
    "      sys.stdout.write(\".\")\n",
    "      sys.stdout.flush()\n",
    "      \n",
    "    last_percent_reported = percent\n",
    "        \n",
    "def maybe_download(filename, expected_bytes, force=False):\n",
    "  \"\"\"Download a file if not present, and make sure it's the right size.\"\"\"\n",
    "  dest_filename = os.path.join(data_root, filename)\n",
    "  if force or not os.path.exists(dest_filename):\n",
    "    print('Attempting to download:', filename) \n",
    "    filename, _ = urlretrieve(url + filename, dest_filename, reporthook=download_progress_hook)\n",
    "    print('\\nDownload Complete!')\n",
    "  statinfo = os.stat(dest_filename)\n",
    "  if statinfo.st_size == expected_bytes:\n",
    "    print('Found and verified', dest_filename)\n",
    "  else:\n",
    "    raise Exception(\n",
    "      'Failed to verify ' + dest_filename + '. Can you get to it with a browser?')\n",
    "  return dest_filename\n",
    "\n",
    "train_filename = maybe_download('notMNIST_large.tar.gz', 247336696)\n",
    "test_filename = maybe_download('notMNIST_small.tar.gz', 8458043)"
   ]
  },
  {
   "cell_type": "markdown",
   "metadata": {
    "colab_type": "text",
    "id": "cC3p0oEyF8QT"
   },
   "source": [
    "Extract the dataset from the compressed .tar.gz file.\n",
    "This should give you a set of directories, labeled A through J."
   ]
  },
  {
   "cell_type": "code",
   "execution_count": 109,
   "metadata": {
    "cellView": "both",
    "colab": {
     "autoexec": {
      "startup": false,
      "wait_interval": 0
     },
     "output_extras": [
      {
       "item_id": 1
      }
     ]
    },
    "colab_type": "code",
    "executionInfo": {
     "elapsed": 186055,
     "status": "ok",
     "timestamp": 1444485672525,
     "user": {
      "color": "#1FA15D",
      "displayName": "Vincent Vanhoucke",
      "isAnonymous": false,
      "isMe": true,
      "permissionId": "05076109866853157986",
      "photoUrl": "//lh6.googleusercontent.com/-cCJa7dTDcgQ/AAAAAAAAAAI/AAAAAAAACgw/r2EZ_8oYer4/s50-c-k-no/photo.jpg",
      "sessionId": "2a0a5e044bb03b66",
      "userId": "102167687554210253930"
     },
     "user_tz": 420
    },
    "id": "H8CBE-WZ8nmj",
    "outputId": "ef6c790c-2513-4b09-962e-27c79390c762"
   },
   "outputs": [
    {
     "name": "stdout",
     "output_type": "stream",
     "text": [
      "Data\\notMNIST_large already present - Skipping extraction of Data\\notMNIST_large.tar.gz.\n",
      "['Data\\\\notMNIST_large\\\\A', 'Data\\\\notMNIST_large\\\\B', 'Data\\\\notMNIST_large\\\\C', 'Data\\\\notMNIST_large\\\\D', 'Data\\\\notMNIST_large\\\\E', 'Data\\\\notMNIST_large\\\\F', 'Data\\\\notMNIST_large\\\\G', 'Data\\\\notMNIST_large\\\\H', 'Data\\\\notMNIST_large\\\\I', 'Data\\\\notMNIST_large\\\\J']\n",
      "Data\\notMNIST_small already present - Skipping extraction of Data\\notMNIST_small.tar.gz.\n",
      "['Data\\\\notMNIST_small\\\\A', 'Data\\\\notMNIST_small\\\\B', 'Data\\\\notMNIST_small\\\\C', 'Data\\\\notMNIST_small\\\\D', 'Data\\\\notMNIST_small\\\\E', 'Data\\\\notMNIST_small\\\\F', 'Data\\\\notMNIST_small\\\\G', 'Data\\\\notMNIST_small\\\\H', 'Data\\\\notMNIST_small\\\\I', 'Data\\\\notMNIST_small\\\\J']\n"
     ]
    }
   ],
   "source": [
    "num_classes = 10\n",
    "np.random.seed(133)\n",
    "\n",
    "def maybe_extract(filename, force=False):\n",
    "  root = os.path.splitext(os.path.splitext(filename)[0])[0]  # remove .tar.gz\n",
    "  if os.path.isdir(root) and not force:\n",
    "    # You may override by setting force=True.\n",
    "    print('%s already present - Skipping extraction of %s.' % (root, filename))\n",
    "  else:\n",
    "    print('Extracting data for %s. This may take a while. Please wait.' % root)\n",
    "    tar = tarfile.open(filename)\n",
    "    sys.stdout.flush()\n",
    "    tar.extractall(data_root)\n",
    "    tar.close()\n",
    "  data_folders = [\n",
    "    os.path.join(root, d) for d in sorted(os.listdir(root))\n",
    "    if os.path.isdir(os.path.join(root, d))]\n",
    "  if len(data_folders) != num_classes:\n",
    "    raise Exception(\n",
    "      'Expected %d folders, one per class. Found %d instead.' % (\n",
    "        num_classes, len(data_folders)))\n",
    "  print(data_folders)\n",
    "  return data_folders\n",
    "  \n",
    "train_folders = maybe_extract(train_filename)\n",
    "test_folders = maybe_extract(test_filename)"
   ]
  },
  {
   "cell_type": "markdown",
   "metadata": {
    "colab_type": "text",
    "id": "4riXK3IoHgx6"
   },
   "source": [
    "---\n",
    "Problem 1\n",
    "---------\n",
    "\n",
    "Let's take a peek at some of the data to make sure it looks sensible. Each exemplar should be an image of a character A through J rendered in a different font. Display a sample of the images that we just downloaded. Hint: you can use the package IPython.display.\n",
    "\n",
    "---"
   ]
  },
  {
   "cell_type": "code",
   "execution_count": 110,
   "metadata": {},
   "outputs": [
    {
     "data": {
      "image/png": "[encoded data removed]",
      "text/plain": [
       "<IPython.core.display.Image object>"
      ]
     },
     "metadata": {},
     "output_type": "display_data"
    },
    {
     "data": {
      "image/png": "[encoded data removed]",
      "text/plain": [
       "<IPython.core.display.Image object>"
      ]
     },
     "metadata": {},
     "output_type": "display_data"
    }
   ],
   "source": [
    "from IPython.display import Image\n",
    "\n",
    "dir_letter_a = train_folders[0]\n",
    "filenames_letter_a = os.listdir(dir_letter_a)\n",
    "\n",
    "filename_1 = os.path.join(dir_letter_a, filenames_letter_a[0])\n",
    "image_1 = Image(filename=filename_1)\n",
    "\n",
    "filenames_letter_b = os.listdir(train_folders[1])\n",
    "image_2 = Image(filename=os.path.join(train_folders[1], filenames_letter_b[0]))\n",
    "\n",
    "display(image_1)\n",
    "display(image_2)"
   ]
  },
  {
   "cell_type": "markdown",
   "metadata": {
    "colab_type": "text",
    "id": "PBdkjESPK8tw"
   },
   "source": [
    "Now let's load the data in a more manageable format. Since, depending on your computer setup you might not be able to fit it all in memory, we'll load each class into a separate dataset, store them on disk and curate them independently. Later we'll merge them into a single dataset of manageable size.\n",
    "\n",
    "We'll convert the entire dataset into a 3D array (image index, x, y) of floating point values, normalized to have approximately zero mean and standard deviation ~0.5 to make training easier down the road. \n",
    "\n",
    "A few images might not be readable, we'll just skip them."
   ]
  },
  {
   "cell_type": "code",
   "execution_count": 111,
   "metadata": {
    "cellView": "both",
    "colab": {
     "autoexec": {
      "startup": false,
      "wait_interval": 0
     },
     "output_extras": [
      {
       "item_id": 30
      }
     ]
    },
    "colab_type": "code",
    "executionInfo": {
     "elapsed": 399874,
     "status": "ok",
     "timestamp": 1444485886378,
     "user": {
      "color": "#1FA15D",
      "displayName": "Vincent Vanhoucke",
      "isAnonymous": false,
      "isMe": true,
      "permissionId": "05076109866853157986",
      "photoUrl": "//lh6.googleusercontent.com/-cCJa7dTDcgQ/AAAAAAAAAAI/AAAAAAAACgw/r2EZ_8oYer4/s50-c-k-no/photo.jpg",
      "sessionId": "2a0a5e044bb03b66",
      "userId": "102167687554210253930"
     },
     "user_tz": 420
    },
    "id": "h7q0XhG3MJdf",
    "outputId": "92c391bb-86ff-431d-9ada-315568a19e59"
   },
   "outputs": [
    {
     "name": "stdout",
     "output_type": "stream",
     "text": [
      "Data\\notMNIST_large\\A.pickle already present - Skipping pickling.\n",
      "Data\\notMNIST_large\\B.pickle already present - Skipping pickling.\n",
      "Data\\notMNIST_large\\C.pickle already present - Skipping pickling.\n",
      "Data\\notMNIST_large\\D.pickle already present - Skipping pickling.\n",
      "Data\\notMNIST_large\\E.pickle already present - Skipping pickling.\n",
      "Data\\notMNIST_large\\F.pickle already present - Skipping pickling.\n",
      "Data\\notMNIST_large\\G.pickle already present - Skipping pickling.\n",
      "Data\\notMNIST_large\\H.pickle already present - Skipping pickling.\n",
      "Data\\notMNIST_large\\I.pickle already present - Skipping pickling.\n",
      "Data\\notMNIST_large\\J.pickle already present - Skipping pickling.\n",
      "Data\\notMNIST_small\\A.pickle already present - Skipping pickling.\n",
      "Data\\notMNIST_small\\B.pickle already present - Skipping pickling.\n",
      "Data\\notMNIST_small\\C.pickle already present - Skipping pickling.\n",
      "Data\\notMNIST_small\\D.pickle already present - Skipping pickling.\n",
      "Data\\notMNIST_small\\E.pickle already present - Skipping pickling.\n",
      "Data\\notMNIST_small\\F.pickle already present - Skipping pickling.\n",
      "Data\\notMNIST_small\\G.pickle already present - Skipping pickling.\n",
      "Data\\notMNIST_small\\H.pickle already present - Skipping pickling.\n",
      "Data\\notMNIST_small\\I.pickle already present - Skipping pickling.\n",
      "Data\\notMNIST_small\\J.pickle already present - Skipping pickling.\n"
     ]
    }
   ],
   "source": [
    "image_size = 28  # Pixel width and height.\n",
    "pixel_depth = 255.0  # Number of levels per pixel.\n",
    "\n",
    "def load_letter(folder, min_num_images):\n",
    "  \"\"\"Load the data for a single letter label.\"\"\"\n",
    "  image_files = os.listdir(folder)\n",
    "  dataset = np.ndarray(shape=(len(image_files), image_size, image_size),\n",
    "                         dtype=np.float32)\n",
    "  print(folder)\n",
    "  num_images = 0\n",
    "  for image in image_files:\n",
    "    image_file = os.path.join(folder, image)\n",
    "    try:\n",
    "      image_data = (imageio.imread(image_file).astype(float) - \n",
    "                    pixel_depth / 2) / pixel_depth\n",
    "      if image_data.shape != (image_size, image_size):\n",
    "        raise Exception('Unexpected image shape: %s' % str(image_data.shape))\n",
    "      dataset[num_images, :, :] = image_data\n",
    "      num_images = num_images + 1\n",
    "    except (IOError, ValueError) as e:\n",
    "      print('Could not read:', image_file, ':', e, '- it\\'s ok, skipping.')\n",
    "    \n",
    "  dataset = dataset[0:num_images, :, :]\n",
    "  if num_images < min_num_images:\n",
    "    raise Exception('Many fewer images than expected: %d < %d' %\n",
    "                    (num_images, min_num_images))\n",
    "    \n",
    "  print('Full dataset tensor:', dataset.shape)\n",
    "  print('Mean:', np.mean(dataset))\n",
    "  print('Standard deviation:', np.std(dataset))\n",
    "  return dataset\n",
    "        \n",
    "def maybe_pickle(data_folders, min_num_images_per_class, force=False):\n",
    "  dataset_names = []\n",
    "  for folder in data_folders:\n",
    "    set_filename = folder + '.pickle'\n",
    "    dataset_names.append(set_filename)\n",
    "    if os.path.exists(set_filename) and not force:\n",
    "      # You may override by setting force=True.\n",
    "      print('%s already present - Skipping pickling.' % set_filename)\n",
    "    else:\n",
    "      print('Pickling %s.' % set_filename)\n",
    "      dataset = load_letter(folder, min_num_images_per_class)\n",
    "      try:\n",
    "        with open(set_filename, 'wb') as f:\n",
    "          pickle.dump(dataset, f, pickle.HIGHEST_PROTOCOL)\n",
    "      except Exception as e:\n",
    "        print('Unable to save data to', set_filename, ':', e)\n",
    "  \n",
    "  return dataset_names\n",
    "\n",
    "train_datasets = maybe_pickle(train_folders, 45000)\n",
    "test_datasets = maybe_pickle(test_folders, 1800)"
   ]
  },
  {
   "cell_type": "markdown",
   "metadata": {
    "colab_type": "text",
    "id": "vUdbskYE2d87"
   },
   "source": [
    "---\n",
    "Problem 2\n",
    "---------\n",
    "\n",
    "Let's verify that the data still looks good. Displaying a sample of the labels and images from the ndarray. Hint: you can use matplotlib.pyplot.\n",
    "\n",
    "---"
   ]
  },
  {
   "cell_type": "code",
   "execution_count": 112,
   "metadata": {},
   "outputs": [
    {
     "name": "stdout",
     "output_type": "stream",
     "text": [
      "(52909, 28, 28)\n"
     ]
    },
    {
     "data": {
      "text/plain": [
       "<matplotlib.image.AxesImage at 0x15399a6bf60>"
      ]
     },
     "execution_count": 112,
     "metadata": {},
     "output_type": "execute_result"
    },
    {
     "data": {
      "image/png": "[encoded data removed]",
      "text/plain": [
       "<matplotlib.figure.Figure at 0x15398d7c710>"
      ]
     },
     "metadata": {},
     "output_type": "display_data"
    },
    {
     "data": {
      "image/png": "[encoded data removed]",
      "text/plain": [
       "<matplotlib.figure.Figure at 0x15398d7c160>"
      ]
     },
     "metadata": {},
     "output_type": "display_data"
    }
   ],
   "source": [
    "train_datasets[0]\n",
    "train_data = pickle.load(file=open(train_datasets[0], 'rb'))\n",
    "print(train_data.shape)\n",
    "plt.matshow(train_data[1, :, :])\n",
    "plt.matshow(train_data[25000, :, :])"
   ]
  },
  {
   "cell_type": "markdown",
   "metadata": {
    "colab_type": "text",
    "id": "cYznx5jUwzoO"
   },
   "source": [
    "---\n",
    "Problem 3\n",
    "---------\n",
    "Another check: we expect the data to be balanced across classes. Verify that.\n",
    "\n",
    "---"
   ]
  },
  {
   "cell_type": "code",
   "execution_count": 113,
   "metadata": {},
   "outputs": [
    {
     "name": "stdout",
     "output_type": "stream",
     "text": [
      "max imbalance between classes is: 3\n"
     ]
    }
   ],
   "source": [
    "train_datasets\n",
    "\n",
    "def max_imbalance_between_classes_data_on_disk(train_datasets):\n",
    "    min_num_images = 2**32\n",
    "    max_num_images = 0\n",
    "    for image_ind in range(len(train_datasets)):\n",
    "        temp_min = pickle.load(open(train_datasets[image_ind], 'rb')).shape[0]\n",
    "        temp_max = temp_min\n",
    "        if temp_min < min_num_images:\n",
    "            min_num_images = temp_min\n",
    "        if temp_max > max_num_images:\n",
    "            max_num_images = temp_max\n",
    "    return max_num_images - min_num_images\n",
    "\n",
    "            \n",
    "print(\"max imbalance between classes is: {}\".format(max_imbalance_between_classes_data_on_disk(\n",
    "    train_datasets)))"
   ]
  },
  {
   "cell_type": "markdown",
   "metadata": {
    "colab_type": "text",
    "id": "LA7M7K22ynCt"
   },
   "source": [
    "Merge and prune the training data as needed. Depending on your computer setup, you might not be able to fit it all in memory, and you can tune `train_size` as needed. The labels will be stored into a separate array of integers 0 through 9.\n",
    "\n",
    "Also create a validation dataset for hyperparameter tuning."
   ]
  },
  {
   "cell_type": "code",
   "execution_count": 114,
   "metadata": {
    "cellView": "both",
    "colab": {
     "autoexec": {
      "startup": false,
      "wait_interval": 0
     },
     "output_extras": [
      {
       "item_id": 1
      }
     ]
    },
    "colab_type": "code",
    "executionInfo": {
     "elapsed": 411281,
     "status": "ok",
     "timestamp": 1444485897869,
     "user": {
      "color": "#1FA15D",
      "displayName": "Vincent Vanhoucke",
      "isAnonymous": false,
      "isMe": true,
      "permissionId": "05076109866853157986",
      "photoUrl": "//lh6.googleusercontent.com/-cCJa7dTDcgQ/AAAAAAAAAAI/AAAAAAAACgw/r2EZ_8oYer4/s50-c-k-no/photo.jpg",
      "sessionId": "2a0a5e044bb03b66",
      "userId": "102167687554210253930"
     },
     "user_tz": 420
    },
    "id": "s3mWgZLpyuzq",
    "outputId": "8af66da6-902d-4719-bedc-7c9fb7ae7948"
   },
   "outputs": [
    {
     "name": "stdout",
     "output_type": "stream",
     "text": [
      "Training: (200000, 28, 28) (200000,)\n",
      "Validation: (10000, 28, 28) (10000,)\n",
      "Testing: (10000, 28, 28) (10000,)\n"
     ]
    }
   ],
   "source": [
    "def make_arrays(nb_rows, img_size):\n",
    "  if nb_rows:\n",
    "    dataset = np.ndarray((nb_rows, img_size, img_size), dtype=np.float32)\n",
    "    labels = np.ndarray(nb_rows, dtype=np.int32)\n",
    "  else:\n",
    "    dataset, labels = None, None\n",
    "  return dataset, labels\n",
    "\n",
    "def merge_datasets(pickle_files, train_size, valid_size=0):\n",
    "  num_classes = len(pickle_files)\n",
    "  valid_dataset, valid_labels = make_arrays(valid_size, image_size)\n",
    "  train_dataset, train_labels = make_arrays(train_size, image_size)\n",
    "  vsize_per_class = valid_size // num_classes\n",
    "  tsize_per_class = train_size // num_classes\n",
    "    \n",
    "  start_v, start_t = 0, 0\n",
    "  end_v, end_t = vsize_per_class, tsize_per_class\n",
    "  end_l = vsize_per_class+tsize_per_class\n",
    "  for label, pickle_file in enumerate(pickle_files):       \n",
    "    try:\n",
    "      with open(pickle_file, 'rb') as f:\n",
    "        letter_set = pickle.load(f)\n",
    "        # let's shuffle the letters to have random validation and training set\n",
    "        np.random.shuffle(letter_set)\n",
    "        if valid_dataset is not None:\n",
    "          valid_letter = letter_set[:vsize_per_class, :, :]\n",
    "          valid_dataset[start_v:end_v, :, :] = valid_letter\n",
    "          valid_labels[start_v:end_v] = label\n",
    "          start_v += vsize_per_class\n",
    "          end_v += vsize_per_class\n",
    "                    \n",
    "        train_letter = letter_set[vsize_per_class:end_l, :, :]\n",
    "        train_dataset[start_t:end_t, :, :] = train_letter\n",
    "        train_labels[start_t:end_t] = label\n",
    "        start_t += tsize_per_class\n",
    "        end_t += tsize_per_class\n",
    "    except Exception as e:\n",
    "      print('Unable to process data from', pickle_file, ':', e)\n",
    "      raise\n",
    "    \n",
    "  return valid_dataset, valid_labels, train_dataset, train_labels\n",
    "            \n",
    "            \n",
    "train_size = 200000\n",
    "valid_size = 10000\n",
    "test_size = 10000\n",
    "\n",
    "valid_dataset, valid_labels, train_dataset, train_labels = merge_datasets(\n",
    "  train_datasets, train_size, valid_size)\n",
    "_, _, test_dataset, test_labels = merge_datasets(test_datasets, test_size)\n",
    "\n",
    "print('Training:', train_dataset.shape, train_labels.shape)\n",
    "print('Validation:', valid_dataset.shape, valid_labels.shape)\n",
    "print('Testing:', test_dataset.shape, test_labels.shape)"
   ]
  },
  {
   "cell_type": "markdown",
   "metadata": {
    "colab_type": "text",
    "id": "GPTCnjIcyuKN"
   },
   "source": [
    "Next, we'll randomize the data. It's important to have the labels well shuffled for the training and test distributions to match."
   ]
  },
  {
   "cell_type": "code",
   "execution_count": 115,
   "metadata": {
    "cellView": "both",
    "colab": {
     "autoexec": {
      "startup": false,
      "wait_interval": 0
     }
    },
    "colab_type": "code",
    "collapsed": true,
    "id": "6WZ2l2tN2zOL"
   },
   "outputs": [],
   "source": [
    "def randomize(dataset, labels):\n",
    "  permutation = np.random.permutation(labels.shape[0])\n",
    "  shuffled_dataset = dataset[permutation,:,:]\n",
    "  shuffled_labels = labels[permutation]\n",
    "  return shuffled_dataset, shuffled_labels\n",
    "train_dataset, train_labels = randomize(train_dataset, train_labels)\n",
    "test_dataset, test_labels = randomize(test_dataset, test_labels)\n",
    "valid_dataset, valid_labels = randomize(valid_dataset, valid_labels)"
   ]
  },
  {
   "cell_type": "markdown",
   "metadata": {
    "colab_type": "text",
    "id": "puDUTe6t6USl"
   },
   "source": [
    "---\n",
    "Problem 4\n",
    "---------\n",
    "Convince yourself that the data is still good after shuffling!\n",
    "\n",
    "---"
   ]
  },
  {
   "cell_type": "markdown",
   "metadata": {},
   "source": [
    "data is perfectly balanced"
   ]
  },
  {
   "cell_type": "code",
   "execution_count": 116,
   "metadata": {},
   "outputs": [
    {
     "name": "stdout",
     "output_type": "stream",
     "text": [
      "max imbalance between classes (training data) is: 0\n",
      "max imbalance between classes (valid data) is: 0\n",
      "max imbalance between classes (test data) is: 0\n"
     ]
    }
   ],
   "source": [
    "def num_instances_per_class(labels):\n",
    "    \n",
    "    num_images_per_label = dict()\n",
    "    for l in set(labels):\n",
    "        num_images_per_label[l] = 0\n",
    "    for l in labels:\n",
    "        num_images_per_label[l] += 1\n",
    "        \n",
    "    return num_images_per_label\n",
    "\n",
    "def max_imbalance_between_classes(labels):\n",
    "         \n",
    "    v = num_instances_per_class(labels).values()\n",
    "    return max(v) - min(v)\n",
    "    \n",
    "print(\"max imbalance between classes (training data) is: {}\".format(max_imbalance_between_classes(train_labels)))\n",
    "print(\"max imbalance between classes (valid data) is: {}\".format(max_imbalance_between_classes(valid_labels)))\n",
    "print(\"max imbalance between classes (test data) is: {}\".format(max_imbalance_between_classes(test_labels)))"
   ]
  },
  {
   "cell_type": "markdown",
   "metadata": {
    "colab_type": "text",
    "id": "tIQJaJuwg5Hw"
   },
   "source": [
    "Finally, let's save the data for later reuse:"
   ]
  },
  {
   "cell_type": "code",
   "execution_count": 117,
   "metadata": {
    "cellView": "both",
    "colab": {
     "autoexec": {
      "startup": false,
      "wait_interval": 0
     }
    },
    "colab_type": "code",
    "collapsed": true,
    "id": "QiR_rETzem6C"
   },
   "outputs": [],
   "source": [
    "pickle_file = os.path.join(data_root, 'notMNIST.pickle')\n",
    "\n",
    "try:\n",
    "  f = open(pickle_file, 'wb')\n",
    "  save = {\n",
    "    'train_dataset': train_dataset,\n",
    "    'train_labels': train_labels,\n",
    "    'valid_dataset': valid_dataset,\n",
    "    'valid_labels': valid_labels,\n",
    "    'test_dataset': test_dataset,\n",
    "    'test_labels': test_labels,\n",
    "    }\n",
    "  pickle.dump(save, f, pickle.HIGHEST_PROTOCOL)\n",
    "  f.close()\n",
    "except Exception as e:\n",
    "  print('Unable to save data to', pickle_file, ':', e)\n",
    "  raise"
   ]
  },
  {
   "cell_type": "code",
   "execution_count": 118,
   "metadata": {
    "cellView": "both",
    "colab": {
     "autoexec": {
      "startup": false,
      "wait_interval": 0
     },
     "output_extras": [
      {
       "item_id": 1
      }
     ]
    },
    "colab_type": "code",
    "executionInfo": {
     "elapsed": 413065,
     "status": "ok",
     "timestamp": 1444485899688,
     "user": {
      "color": "#1FA15D",
      "displayName": "Vincent Vanhoucke",
      "isAnonymous": false,
      "isMe": true,
      "permissionId": "05076109866853157986",
      "photoUrl": "//lh6.googleusercontent.com/-cCJa7dTDcgQ/AAAAAAAAAAI/AAAAAAAACgw/r2EZ_8oYer4/s50-c-k-no/photo.jpg",
      "sessionId": "2a0a5e044bb03b66",
      "userId": "102167687554210253930"
     },
     "user_tz": 420
    },
    "id": "hQbLjrW_iT39",
    "outputId": "b440efc6-5ee1-4cbc-d02d-93db44ebd956"
   },
   "outputs": [
    {
     "name": "stdout",
     "output_type": "stream",
     "text": [
      "Compressed pickle size: 690800506\n"
     ]
    }
   ],
   "source": [
    "statinfo = os.stat(pickle_file)\n",
    "print('Compressed pickle size:', statinfo.st_size)"
   ]
  },
  {
   "cell_type": "markdown",
   "metadata": {
    "colab_type": "text",
    "id": "gE_cRAQB33lk"
   },
   "source": [
    "---\n",
    "Problem 5\n",
    "---------\n",
    "\n",
    "By construction, this dataset might contain a lot of overlapping samples, including training data that's also contained in the validation and test set! Overlap between training and test can skew the results if you expect to use your model in an environment where there is never an overlap, but are actually ok if you expect to see training samples recur when you use it.\n",
    "Measure how much overlap there is between training, validation and test samples.\n",
    "\n",
    "Optional questions:\n",
    "- What about near duplicates between datasets? (images that are almost identical)\n",
    "- Create a sanitized validation and test set, and compare your accuracy on those in subsequent assignments.\n",
    "---"
   ]
  },
  {
   "cell_type": "markdown",
   "metadata": {},
   "source": [
    "Compute first overlaping indice pairs"
   ]
  },
  {
   "cell_type": "code",
   "execution_count": 119,
   "metadata": {
    "scrolled": true
   },
   "outputs": [
    {
     "name": "stdout",
     "output_type": "stream",
     "text": [
      "dict_keys(['train_dataset', 'train_labels', 'valid_dataset', 'valid_labels', 'test_dataset', 'test_labels'])\n",
      "dict_keys(['train_and_valid', 'train_and_test', 'valid_and_test'])\n"
     ]
    }
   ],
   "source": [
    "datasets = pickle.load(open(pickle_file, 'rb'))\n",
    "print(datasets.keys())\n",
    "train_dataset = datasets['train_dataset']\n",
    "train_dataset, train_labels, valid_dataset, valid_labels, test_dataset, test_labels = datasets.values()\n",
    "\n",
    "def pickle_object(pickle_file, data):\n",
    "    try:\n",
    "      f = open(pickle_file, 'wb')\n",
    "      save = data\n",
    "      pickle.dump(save, f, pickle.HIGHEST_PROTOCOL)\n",
    "      f.close()\n",
    "    except Exception as e:\n",
    "      print('Unable to save data to', pickle_file, ':', e)\n",
    "      raise\n",
    "\n",
    "def have_pixel_overlap(a, b, min_acceptable_num_of_pixel_missmatches):\n",
    "    \n",
    "    full_match = a.shape[0]*a.shape[1]\n",
    "    overlap = 0\n",
    "    num_of_missmatches = 0\n",
    "    if a.shape != b.shape:\n",
    "        print(\"array of arrays of unequal size!\")\n",
    "        return None\n",
    "    elif min_acceptable_num_of_pixel_missmatches > full_match:\n",
    "        min_acceptable_num_of_pixel_missmatches = full_match\n",
    "            \n",
    "    for i in range(a.shape[0]):\n",
    "        for j in range(a.shape[1]):\n",
    "            if a[i, j] != b[i, j]:\n",
    "                num_of_missmatches += 1\n",
    "            if num_of_missmatches > min_acceptable_num_of_pixel_missmatches:\n",
    "                return False\n",
    "    return True\n",
    "\n",
    "def overlaps_between_sets(dataset1, labels1, dataset2, labels2):\n",
    "    overlap = 0\n",
    "    duplicates = []\n",
    "    for image_ind_1 in range(len(labels1)):\n",
    "        found_overlap = False\n",
    "        im1 = dataset1[image_ind_1]\n",
    "        l1 = labels1[image_ind_1]\n",
    "\n",
    "        for image_ind_2 in range(len(labels2)):\n",
    "            im2 = dataset2[image_ind_2]\n",
    "            l2 = labels2[image_ind_2]\n",
    "            if l2 != l1:\n",
    "                continue\n",
    "            else:\n",
    "                if have_pixel_overlap(im1, im2, 0):\n",
    "                    overlap += 1\n",
    "                    found_overlap = True\n",
    "                    duplicates.append((image_ind_1, image_ind_2))\n",
    "    return {'number_of_overlaps': overlap, 'duplicates': duplicates}\n",
    "\n",
    "def maybe_picke_train_valid_overlaps():\n",
    "    pickle_file = os.path.join(data_root, 'overlap_train_valid.pickle')\n",
    "    if os.path.exists(pickle_file):\n",
    "        overlaps = pickle.load(open(pickle_file, 'rb'))\n",
    "    else:\n",
    "        overlaps = overlaps_between_sets(train_dataset, train_labels, valid_dataset, valid_labels)\n",
    "        pickle_object(pickle_file, overlaps['duplicates'])\n",
    "    return overlaps\n",
    "\n",
    "def maybe_picke_train_test_overlaps():\n",
    "    pickle_file = os.path.join(data_root, 'overlap_train_test.pickle')\n",
    "    if os.path.exists(pickle_file):\n",
    "        overlaps = pickle.load(open(pickle_file, 'rb'))\n",
    "    else:\n",
    "        overlaps = overlaps_between_sets(train_dataset, train_labels, test_dataset, test_labels)\n",
    "        pickle_object(pickle_file, overlaps['duplicates'])\n",
    "    return overlaps\n",
    "\n",
    "def maybe_picke_valid_test_overlaps():\n",
    "    pickle_file = os.path.join(data_root, 'overlap_valid_test.pickle')\n",
    "    if os.path.exists(pickle_file):\n",
    "        overlaps = pickle.load(open(pickle_file, 'rb'))\n",
    "    else:\n",
    "        overlaps = overlaps_between_sets(valid_dataset, valid_labels, test_dataset, test_labels)\n",
    "        pickle_object(pickle_file, overlaps['duplicates'])\n",
    "    return overlaps\n",
    "            \n",
    "\n",
    "dict_overlap_between_sets = {'train_and_valid': maybe_picke_train_valid_overlaps(),\n",
    "                             'train_and_test': maybe_picke_train_test_overlaps(),\n",
    "                             'valid_and_test': maybe_picke_valid_test_overlaps()\n",
    "                            }\n",
    "print(dict_overlap_between_sets.keys())"
   ]
  },
  {
   "cell_type": "code",
   "execution_count": 120,
   "metadata": {},
   "outputs": [
    {
     "name": "stdout",
     "output_type": "stream",
     "text": [
      "[(128, 100), (128, 223), (128, 356), (128, 382), (128, 542)]\n",
      "[(32, 5441), (43, 200), (128, 125), (128, 155), (128, 373)]\n",
      "[(58, 1420), (100, 125), (100, 155), (100, 373), (100, 383)]\n"
     ]
    }
   ],
   "source": [
    "print(dict_overlap_between_sets['train_and_valid'][:5])\n",
    "print(dict_overlap_between_sets['train_and_test'][:5])\n",
    "print(dict_overlap_between_sets['valid_and_test'][:5])"
   ]
  },
  {
   "cell_type": "markdown",
   "metadata": {},
   "source": [
    "Check if there are certain images that contribute to the majority of duplicates"
   ]
  },
  {
   "cell_type": "code",
   "execution_count": 121,
   "metadata": {},
   "outputs": [
    {
     "name": "stdout",
     "output_type": "stream",
     "text": [
      "199591\n"
     ]
    },
    {
     "data": {
      "image/png": "[encoded data removed]",
      "text/plain": [
       "<matplotlib.figure.Figure at 0x1539957e4e0>"
      ]
     },
     "metadata": {},
     "output_type": "display_data"
    },
    {
     "data": {
      "image/png": "[encoded data removed]",
      "text/plain": [
       "<matplotlib.figure.Figure at 0x15399c3f9e8>"
      ]
     },
     "metadata": {},
     "output_type": "display_data"
    },
    {
     "data": {
      "image/png": "[encoded data removed]",
      "text/plain": [
       "<matplotlib.figure.Figure at 0x153a0187048>"
      ]
     },
     "metadata": {},
     "output_type": "display_data"
    },
    {
     "data": {
      "text/plain": [
       "(array([1308., 1677., 1310., 1864., 1123., 1304., 1498., 1028.,  844.,\n",
       "        1216.]),\n",
       " array([ 125. , 1108.3, 2091.6, 3074.9, 4058.2, 5041.5, 6024.8, 7008.1,\n",
       "        7991.4, 8974.7, 9958. ]),\n",
       " <a list of 10 Patch objects>)"
      ]
     },
     "execution_count": 121,
     "metadata": {},
     "output_type": "execute_result"
    },
    {
     "data": {
      "image/png": "[encoded data removed]",
      "text/plain": [
       "<matplotlib.figure.Figure at 0x1538ee95828>"
      ]
     },
     "metadata": {},
     "output_type": "display_data"
    }
   ],
   "source": [
    "indices_overlap_train_against_valid = dict_overlap_between_sets['train_and_valid']\n",
    "indices_overlap_train_against_test = dict_overlap_between_sets['train_and_test']\n",
    "indices_overlap_valid_against_test = dict_overlap_between_sets['valid_and_test']\n",
    "print(len(indices_overlap_train_against_valid))\n",
    "plt.hist([x[0] for x in indices_overlap_train_against_valid])\n",
    "plt.show()\n",
    "plt.hist([x[1] for x in indices_overlap_train_against_valid])\n",
    "plt.show()\n",
    "plt.hist([x[1] for x in indices_overlap_train_against_test])\n",
    "plt.show()\n",
    "plt.hist([x[1] for x in indices_overlap_valid_against_test])\n"
   ]
  },
  {
   "cell_type": "code",
   "execution_count": 122,
   "metadata": {},
   "outputs": [
    {
     "name": "stdout",
     "output_type": "stream",
     "text": [
      "x: 128\n",
      "y: 100\n",
      "x: 128\n",
      "y: 223\n",
      "x: 128\n",
      "y: 356\n",
      "x: 128\n",
      "y: 382\n"
     ]
    },
    {
     "data": {
      "image/png": "[encoded data removed]",
      "text/plain": [
       "<matplotlib.figure.Figure at 0x1539f90eb00>"
      ]
     },
     "metadata": {},
     "output_type": "display_data"
    },
    {
     "data": {
      "image/png": "[encoded data removed]",
      "text/plain": [
       "<matplotlib.figure.Figure at 0x15399afa8d0>"
      ]
     },
     "metadata": {},
     "output_type": "display_data"
    },
    {
     "data": {
      "image/png": "[encoded data removed]",
      "text/plain": [
       "<matplotlib.figure.Figure at 0x15391babb00>"
      ]
     },
     "metadata": {},
     "output_type": "display_data"
    },
    {
     "data": {
      "image/png": "[encoded data removed]",
      "text/plain": [
       "<matplotlib.figure.Figure at 0x15398e78e10>"
      ]
     },
     "metadata": {},
     "output_type": "display_data"
    },
    {
     "data": {
      "image/png": "[encoded data removed]",
      "text/plain": [
       "<matplotlib.figure.Figure at 0x15398dfe780>"
      ]
     },
     "metadata": {},
     "output_type": "display_data"
    },
    {
     "data": {
      "image/png": "[encoded data removed]",
      "text/plain": [
       "<matplotlib.figure.Figure at 0x15398eefac8>"
      ]
     },
     "metadata": {},
     "output_type": "display_data"
    },
    {
     "data": {
      "image/png": "[encoded data removed]",
      "text/plain": [
       "<matplotlib.figure.Figure at 0x15398d7cba8>"
      ]
     },
     "metadata": {},
     "output_type": "display_data"
    },
    {
     "data": {
      "image/png": "[encoded data removed]",
      "text/plain": [
       "<matplotlib.figure.Figure at 0x153a03d7940>"
      ]
     },
     "metadata": {},
     "output_type": "display_data"
    }
   ],
   "source": [
    "tick = 0\n",
    "for x,y in indices_overlap_train_against_valid:\n",
    "    tick += 1\n",
    "    print('x: {}'.format(x))\n",
    "    print('y: {}'.format(y))\n",
    "    plt.matshow(train_dataset[x])\n",
    "    plt.matshow(valid_dataset[y])\n",
    "    if tick >= 4: break\n",
    "plt.show()"
   ]
  },
  {
   "cell_type": "markdown",
   "metadata": {},
   "source": [
    "inspect \"blank\" image"
   ]
  },
  {
   "cell_type": "code",
   "execution_count": 123,
   "metadata": {},
   "outputs": [
    {
     "name": "stdout",
     "output_type": "stream",
     "text": [
      "8\n",
      "8\n",
      "8\n",
      "8\n"
     ]
    },
    {
     "data": {
      "text/plain": [
       "<matplotlib.image.AxesImage at 0x15394e2d828>"
      ]
     },
     "execution_count": 123,
     "metadata": {},
     "output_type": "execute_result"
    },
    {
     "data": {
      "image/png": "[encoded data removed]",
      "text/plain": [
       "<matplotlib.figure.Figure at 0x1539ffbb0f0>"
      ]
     },
     "metadata": {},
     "output_type": "display_data"
    },
    {
     "data": {
      "image/png": "[encoded data removed]",
      "text/plain": [
       "<matplotlib.figure.Figure at 0x1539ffae9e8>"
      ]
     },
     "metadata": {},
     "output_type": "display_data"
    },
    {
     "data": {
      "image/png": "[encoded data removed]",
      "text/plain": [
       "<matplotlib.figure.Figure at 0x15394ee89e8>"
      ]
     },
     "metadata": {},
     "output_type": "display_data"
    },
    {
     "data": {
      "image/png": "[encoded data removed]",
      "text/plain": [
       "<matplotlib.figure.Figure at 0x1539feb2da0>"
      ]
     },
     "metadata": {},
     "output_type": "display_data"
    }
   ],
   "source": [
    "print(train_labels[128])\n",
    "print(train_labels[235])\n",
    "print(train_labels[242])\n",
    "print(valid_labels[100])\n",
    "plt.matshow(train_dataset[128])\n",
    "plt.matshow(train_dataset[235])\n",
    "plt.matshow(train_dataset[242])\n",
    "plt.matshow(valid_dataset[100])"
   ]
  },
  {
   "cell_type": "code",
   "execution_count": 124,
   "metadata": {},
   "outputs": [
    {
     "name": "stdout",
     "output_type": "stream",
     "text": [
      "len valid data: 10000\n",
      "len valid sanitized: 8915\n",
      "len valid sanitized wrt to train: 8952\n",
      "len test data: 10000\n",
      "len test sanitized: 8915\n"
     ]
    }
   ],
   "source": [
    "valid_overlaps_wrt_train = [x[1] for x in indices_overlap_train_against_valid]\n",
    "valid_overlaps = [x[1] for x in indices_overlap_train_against_valid]\n",
    "valid_overlaps.extend([x[0] for x in indices_overlap_valid_against_test])\n",
    "valid_overlaps_indices = set(valid_overlaps)\n",
    "\n",
    "test_overlaps = [x[1] for x in indices_overlap_train_against_test]\n",
    "test_overlaps.extend([x[1] for x in indices_overlap_valid_against_test])\n",
    "test_overlaps_indices = set(test_overlaps)\n",
    "\n",
    "valid_dataset_sanitized_only_wrt_train = np.array(\n",
    "    [valid_dataset[i] for i in range(len(valid_dataset)) if not i in valid_overlaps_wrt_train])\n",
    "valid_dataset_sanitized = np.array(\n",
    "    [valid_dataset[i] for i in range(len(valid_dataset)) if not i in valid_overlaps_indices])\n",
    "valid_labels_sanitized = np.array(\n",
    "    [valid_labels[i] for i in range(len(valid_dataset)) if not i in valid_overlaps_indices])\n",
    "\n",
    "test_dataset_sanitized = np.array(\n",
    "    [test_dataset[i] for i in range(len(test_dataset)) if not i in test_overlaps_indices])\n",
    "test_labels_sanitized = np.array(\n",
    "    [test_labels[i] for i in range(len(test_dataset)) if not i in test_overlaps_indices])\n",
    "\n",
    "\n",
    "print(\"len valid data: {}\".format(len(valid_dataset)))\n",
    "print(\"len valid sanitized: {}\".format(len(valid_dataset_sanitized)))\n",
    "print(\"len valid sanitized wrt to train: {}\".format(len(valid_dataset_sanitized_only_wrt_train)))\n",
    "\n",
    "print(\"len test data: {}\".format(len(valid_dataset)))\n",
    "print(\"len test sanitized: {}\".format(len(valid_dataset_sanitized)))"
   ]
  },
  {
   "cell_type": "markdown",
   "metadata": {},
   "source": [
    "check imbalance on sanitized data"
   ]
  },
  {
   "cell_type": "code",
   "execution_count": 125,
   "metadata": {},
   "outputs": [
    {
     "name": "stdout",
     "output_type": "stream",
     "text": [
      "107\n",
      "153\n"
     ]
    }
   ],
   "source": [
    "imba_valid = max_imbalance_between_classes(valid_labels_sanitized)\n",
    "imba_test = max_imbalance_between_classes(test_labels_sanitized)\n",
    "\n",
    "print(imba_valid)\n",
    "print(imba_test)"
   ]
  },
  {
   "cell_type": "markdown",
   "metadata": {},
   "source": [
    "check number of instances per class"
   ]
  },
  {
   "cell_type": "code",
   "execution_count": 126,
   "metadata": {},
   "outputs": [
    {
     "name": "stdout",
     "output_type": "stream",
     "text": [
      "{0: 914, 1: 903, 2: 911, 3: 885, 4: 913, 5: 898, 6: 903, 7: 879, 8: 807, 9: 902}\n",
      "{0: 889, 1: 881, 2: 875, 3: 868, 4: 877, 5: 887, 6: 871, 7: 870, 8: 736, 9: 885}\n"
     ]
    }
   ],
   "source": [
    "inst_valid = num_instances_per_class(valid_labels_sanitized)\n",
    "inst_test = num_instances_per_class(test_labels_sanitized)\n",
    "print(inst_valid)\n",
    "print(inst_test)"
   ]
  },
  {
   "cell_type": "markdown",
   "metadata": {},
   "source": [
    "### A: Problem 5\n",
    "The exact overlaps are shown below. \n",
    "Perhaps we could also check for near duplicates say 1 pixel off; but we also want our training data to contain variety of almost identical letters, i.e. small rotations and difference in thickness.\n",
    "\n",
    "As for the sanitized data set we observe the biggest drop for label 8. From the earlier examples this label did contain a few completely blank images."
   ]
  },
  {
   "cell_type": "code",
   "execution_count": 127,
   "metadata": {},
   "outputs": [
    {
     "name": "stdout",
     "output_type": "stream",
     "text": [
      "overlap in valid dataset: 10.8 %\n",
      "overlap in valid dataset wrt to train: 10.5 %\n",
      "overlap in test dataset:  13.6 %\n"
     ]
    }
   ],
   "source": [
    "overlap_in_valid = 100*(len(valid_dataset)-len(valid_dataset_sanitized))/len(valid_dataset)\n",
    "overlap_in_valid_wrt_train = 100*(len(valid_dataset)-len(valid_dataset_sanitized_only_wrt_train))/len(valid_dataset)\n",
    "overlap_in_test = 100*(len(test_dataset)-len(test_dataset_sanitized))/len(test_dataset)\n",
    "\n",
    "print('overlap in valid dataset: {0:1.1f} %'.format(overlap_in_valid))\n",
    "print('overlap in valid dataset wrt to train: {0:1.1f} %'.format(overlap_in_valid_wrt_train))\n",
    "print('overlap in test dataset: {0:5.1f} %'.format(overlap_in_test))"
   ]
  },
  {
   "cell_type": "markdown",
   "metadata": {
    "colab_type": "text",
    "id": "L8oww1s4JMQx"
   },
   "source": [
    "---\n",
    "Problem 6\n",
    "---------\n",
    "\n",
    "Let's get an idea of what an off-the-shelf classifier can give you on this data. It's always good to check that there is something to learn, and that it's a problem that is not so trivial that a canned solution solves it.\n",
    "\n",
    "Train a simple model on this data using 50, 100, 1000 and 5000 training samples. Hint: you can use the LogisticRegression model from sklearn.linear_model.\n",
    "\n",
    "Optional question: train an off-the-shelf model on all the data!\n",
    "\n",
    "---"
   ]
  },
  {
   "cell_type": "markdown",
   "metadata": {},
   "source": [
    "solver : str, {‘newton-cg’, ‘lbfgs’, ‘liblinear’, ‘sag’, ‘saga’}, default: ‘liblinear’.\n",
    "Algorithm to use in the optimization problem.\n",
    "\n",
    "For small datasets, ‘liblinear’ is a good choice, whereas ‘sag’ and ‘saga’ are faster for large ones.\n",
    "For multiclass problems, only ‘newton-cg’, ‘sag’, ‘saga’ and ‘lbfgs’ handle multinomial loss; ‘liblinear’ is limited to one-versus-rest schemes.\n",
    "‘newton-cg’, ‘lbfgs’ and ‘sag’ only handle L2 penalty, whereas ‘liblinear’ and ‘saga’ handle L1 penalty."
   ]
  },
  {
   "cell_type": "code",
   "execution_count": 128,
   "metadata": {},
   "outputs": [
    {
     "data": {
      "text/plain": [
       "array([4, 9])"
      ]
     },
     "execution_count": 128,
     "metadata": {},
     "output_type": "execute_result"
    }
   ],
   "source": [
    "train_dataset[:2]\n",
    "train_labels[:2]"
   ]
  },
  {
   "cell_type": "code",
   "execution_count": 129,
   "metadata": {
    "collapsed": true
   },
   "outputs": [],
   "source": [
    "from sklearn.linear_model import LogisticRegression\n",
    "\n",
    "nsamples, nx, ny = train_dataset.shape\n",
    "train_dataset_ = train_dataset.reshape(nsamples, nx*ny)\n",
    "clf = LogisticRegression(random_state=0, solver='lbfgs'\n",
    "                         , multi_class='multinomial').fit(train_dataset_, train_labels)"
   ]
  },
  {
   "cell_type": "markdown",
   "metadata": {},
   "source": [
    "From the results below we observere that there is indeed something to learn from the data.\n",
    "\n",
    "Since the validation data contains samples from the training data we expect a greater score on the validation data set as compared to the score obtained from the sanitized validation data."
   ]
  },
  {
   "cell_type": "code",
   "execution_count": 130,
   "metadata": {},
   "outputs": [
    {
     "name": "stdout",
     "output_type": "stream",
     "text": [
      "Overlap in valid dataset wrt to train: 10.480 %\n",
      "Training score, 83.909 %\n",
      "Validation score, 83.280 %\n",
      "Validation score (sanitized), 82.199 %\n",
      "Decrease in validation score between the non-sanitized and the sanitized validation data, 1.081 %\n"
     ]
    }
   ],
   "source": [
    "nsamples, nx, ny = valid_dataset.shape\n",
    "valid_dataset_ = valid_dataset.reshape(nsamples, nx*ny)\n",
    "\n",
    "nsamples, nx, ny = valid_dataset_sanitized.shape\n",
    "valid_dataset_sanitized_ = valid_dataset_sanitized.reshape(nsamples, nx*ny)\n",
    "\n",
    "m1_score_train = clf.score(train_dataset_, train_labels)\n",
    "m1_score_valid = clf.score(valid_dataset_, valid_labels)\n",
    "m1_score_valid_sanitized = clf.score(valid_dataset_sanitized_, valid_labels_sanitized)\n",
    "\n",
    "print('Overlap in valid dataset wrt to train: {0:1.3f} %'.format(overlap_in_valid_wrt_train))\n",
    "print('Training score, {0:1.3f} %'.format(\n",
    "    100*m1_score_train))\n",
    "print('Validation score, {0:1.3f} %'.format(\n",
    "    100*m1_score_valid))\n",
    "print('Validation score (sanitized), {0:1.3f} %'.format(\n",
    "    100*m1_score_valid_sanitized))\n",
    "print('Decrease in validation score between the non-sanitized and the sanitized validation data, {0:1.3f} %'.format(\n",
    "    100*(m1_score_valid - m1_score_valid_sanitized)))"
   ]
  }
 ],
 "metadata": {
  "colab": {
   "default_view": {},
   "name": "1_notmnist.ipynb",
   "provenance": [],
   "version": "0.3.2",
   "views": {}
  },
  "kernelspec": {
   "display_name": "Python 3",
   "language": "python",
   "name": "python3"
  },
  "language_info": {
   "codemirror_mode": {
    "name": "ipython",
    "version": 3
   },
   "file_extension": ".py",
   "mimetype": "text/x-python",
   "name": "python",
   "nbconvert_exporter": "python",
   "pygments_lexer": "ipython3",
   "version": "3.6.2"
  }
 },
 "nbformat": 4,
 "nbformat_minor": 1
}
